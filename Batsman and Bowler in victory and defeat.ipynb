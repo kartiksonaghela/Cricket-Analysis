{
 "cells": [
  {
   "cell_type": "code",
   "execution_count": 39,
   "metadata": {},
   "outputs": [],
   "source": [
    "import pandas as pd"
   ]
  },
  {
   "cell_type": "code",
   "execution_count": 40,
   "metadata": {},
   "outputs": [],
   "source": [
    "df=pd.read_csv('FINAL.csv')\n"
   ]
  },
  {
   "cell_type": "code",
   "execution_count": 41,
   "metadata": {},
   "outputs": [
    {
     "data": {
      "text/plain": [
       "Index(['match_id', 'innings', 'Unnamed: 2', 'season', 'start_date', 'venue',\n",
       "       'ball', 'batting_team', 'bowling_team', 'striker', 'non_striker',\n",
       "       'bowler', 'runs_off_bat', 'extras', 'wides', 'noballs', 'byes',\n",
       "       'legbyes', 'penalty', 'wicket_type', 'player_dismissed',\n",
       "       'other_wicket_type', 'other_player_dismissed', 'bowler_type',\n",
       "       'Total_runs', 'Extraballs', 'over_type', 'number_of_wicket',\n",
       "       'number_of_dotballs', 'Batting_type'],\n",
       "      dtype='object')"
      ]
     },
     "execution_count": 41,
     "metadata": {},
     "output_type": "execute_result"
    }
   ],
   "source": [
    "df.columns"
   ]
  },
  {
   "cell_type": "code",
   "execution_count": 42,
   "metadata": {},
   "outputs": [
    {
     "data": {
      "text/plain": [
       "array([1, 2, 3, 4, 5, 6], dtype=int64)"
      ]
     },
     "execution_count": 42,
     "metadata": {},
     "output_type": "execute_result"
    }
   ],
   "source": [
    "df['innings'].unique()"
   ]
  },
  {
   "cell_type": "code",
   "execution_count": 43,
   "metadata": {},
   "outputs": [],
   "source": [
    "df=df[(df['innings']==1) | (df['innings']==2)]"
   ]
  },
  {
   "cell_type": "code",
   "execution_count": 44,
   "metadata": {},
   "outputs": [
    {
     "data": {
      "text/plain": [
       "array([1, 2], dtype=int64)"
      ]
     },
     "execution_count": 44,
     "metadata": {},
     "output_type": "execute_result"
    }
   ],
   "source": [
    "df['innings'].unique()"
   ]
  },
  {
   "cell_type": "code",
   "execution_count": 45,
   "metadata": {},
   "outputs": [
    {
     "data": {
      "text/html": [
       "<div>\n",
       "<style scoped>\n",
       "    .dataframe tbody tr th:only-of-type {\n",
       "        vertical-align: middle;\n",
       "    }\n",
       "\n",
       "    .dataframe tbody tr th {\n",
       "        vertical-align: top;\n",
       "    }\n",
       "\n",
       "    .dataframe thead th {\n",
       "        text-align: right;\n",
       "    }\n",
       "</style>\n",
       "<table border=\"1\" class=\"dataframe\">\n",
       "  <thead>\n",
       "    <tr style=\"text-align: right;\">\n",
       "      <th></th>\n",
       "      <th>match_id</th>\n",
       "      <th>batting_team</th>\n",
       "      <th>Total_runs</th>\n",
       "    </tr>\n",
       "  </thead>\n",
       "  <tbody>\n",
       "    <tr>\n",
       "      <th>0</th>\n",
       "      <td>335982</td>\n",
       "      <td>Kolkata Knight Riders</td>\n",
       "      <td>222</td>\n",
       "    </tr>\n",
       "    <tr>\n",
       "      <th>1</th>\n",
       "      <td>335982</td>\n",
       "      <td>Royal Challengers Bangalore</td>\n",
       "      <td>82</td>\n",
       "    </tr>\n",
       "    <tr>\n",
       "      <th>2</th>\n",
       "      <td>335983</td>\n",
       "      <td>Chennai Super Kings</td>\n",
       "      <td>240</td>\n",
       "    </tr>\n",
       "    <tr>\n",
       "      <th>3</th>\n",
       "      <td>335983</td>\n",
       "      <td>Kings XI Punjab</td>\n",
       "      <td>207</td>\n",
       "    </tr>\n",
       "    <tr>\n",
       "      <th>4</th>\n",
       "      <td>335984</td>\n",
       "      <td>Delhi Daredevils</td>\n",
       "      <td>132</td>\n",
       "    </tr>\n",
       "    <tr>\n",
       "      <th>...</th>\n",
       "      <td>...</td>\n",
       "      <td>...</td>\n",
       "      <td>...</td>\n",
       "    </tr>\n",
       "    <tr>\n",
       "      <th>1683</th>\n",
       "      <td>1254084</td>\n",
       "      <td>Mumbai Indians</td>\n",
       "      <td>219</td>\n",
       "    </tr>\n",
       "    <tr>\n",
       "      <th>1684</th>\n",
       "      <td>1254085</td>\n",
       "      <td>Rajasthan Royals</td>\n",
       "      <td>220</td>\n",
       "    </tr>\n",
       "    <tr>\n",
       "      <th>1685</th>\n",
       "      <td>1254085</td>\n",
       "      <td>Sunrisers Hyderabad</td>\n",
       "      <td>165</td>\n",
       "    </tr>\n",
       "    <tr>\n",
       "      <th>1686</th>\n",
       "      <td>1254086</td>\n",
       "      <td>Delhi Capitals</td>\n",
       "      <td>167</td>\n",
       "    </tr>\n",
       "    <tr>\n",
       "      <th>1687</th>\n",
       "      <td>1254086</td>\n",
       "      <td>Punjab Kings</td>\n",
       "      <td>166</td>\n",
       "    </tr>\n",
       "  </tbody>\n",
       "</table>\n",
       "<p>1688 rows × 3 columns</p>\n",
       "</div>"
      ],
      "text/plain": [
       "      match_id                 batting_team  Total_runs\n",
       "0       335982        Kolkata Knight Riders         222\n",
       "1       335982  Royal Challengers Bangalore          82\n",
       "2       335983          Chennai Super Kings         240\n",
       "3       335983              Kings XI Punjab         207\n",
       "4       335984             Delhi Daredevils         132\n",
       "...        ...                          ...         ...\n",
       "1683   1254084               Mumbai Indians         219\n",
       "1684   1254085             Rajasthan Royals         220\n",
       "1685   1254085          Sunrisers Hyderabad         165\n",
       "1686   1254086               Delhi Capitals         167\n",
       "1687   1254086                 Punjab Kings         166\n",
       "\n",
       "[1688 rows x 3 columns]"
      ]
     },
     "execution_count": 45,
     "metadata": {},
     "output_type": "execute_result"
    }
   ],
   "source": [
    "win_data=df.groupby(['match_id','batting_team']).agg({'Total_runs':sum}).reset_index()\n",
    "win_data"
   ]
  },
  {
   "cell_type": "code",
   "execution_count": 46,
   "metadata": {},
   "outputs": [],
   "source": [
    "#data=win_data.groupby('match_id').agg({'Total_runs':max})\n",
    "#data\n",
    "win_data=win_data.loc[win_data.groupby(\"match_id\")[\"Total_runs\"].idxmax()]"
   ]
  },
  {
   "cell_type": "code",
   "execution_count": 47,
   "metadata": {},
   "outputs": [],
   "source": [
    "win_data.drop(['Total_runs'],axis=1,inplace=True)"
   ]
  },
  {
   "cell_type": "code",
   "execution_count": 48,
   "metadata": {},
   "outputs": [],
   "source": [
    "final_data=pd.merge(df,win_data,on='match_id')"
   ]
  },
  {
   "cell_type": "code",
   "execution_count": 49,
   "metadata": {},
   "outputs": [],
   "source": [
    "final_data['win_or_loss']=final_data.apply(lambda x: 'win'  if x['batting_team_x'] == x['batting_team_y'] else 'lose',axis=1)"
   ]
  },
  {
   "cell_type": "code",
   "execution_count": 50,
   "metadata": {},
   "outputs": [
    {
     "data": {
      "text/plain": [
       "Index(['match_id', 'innings', 'Unnamed: 2', 'season', 'start_date', 'venue',\n",
       "       'ball', 'batting_team_x', 'bowling_team', 'striker', 'non_striker',\n",
       "       'bowler', 'runs_off_bat', 'extras', 'wides', 'noballs', 'byes',\n",
       "       'legbyes', 'penalty', 'wicket_type', 'player_dismissed',\n",
       "       'other_wicket_type', 'other_player_dismissed', 'bowler_type',\n",
       "       'Total_runs', 'Extraballs', 'over_type', 'number_of_wicket',\n",
       "       'number_of_dotballs', 'Batting_type', 'batting_team_y', 'win_or_loss'],\n",
       "      dtype='object')"
      ]
     },
     "execution_count": 50,
     "metadata": {},
     "output_type": "execute_result"
    }
   ],
   "source": [
    "final_data.columns"
   ]
  },
  {
   "cell_type": "code",
   "execution_count": 51,
   "metadata": {},
   "outputs": [
    {
     "data": {
      "text/plain": [
       "array(['SC Ganguly', 'BB McCullum', 'RT Ponting', 'DJ Hussey',\n",
       "       'Mohammad Hafeez', 'R Dravid', 'W Jaffer', 'V Kohli', 'JH Kallis',\n",
       "       'CL White', 'MV Boucher', 'B Akhil', 'AA Noffke', 'P Kumar',\n",
       "       'Z Khan', 'SB Joshi', 'PA Patel', 'ML Hayden', 'MEK Hussey',\n",
       "       'MS Dhoni', 'SK Raina', 'JDP Oram', 'S Badrinath', 'K Goel',\n",
       "       'JR Hopes', 'KC Sangakkara', 'Yuvraj Singh', 'SM Katich',\n",
       "       'IK Pathan', 'T Kohli', 'YK Pathan', 'SR Watson', 'M Kaif',\n",
       "       'DS Lehmann', 'RA Jadeja', 'M Rawat', 'D Salunkhe', 'SK Warne',\n",
       "       'SK Trivedi', 'G Gambhir', 'V Sehwag', 'S Dhawan', 'L Ronchi',\n",
       "       'ST Jayasuriya', 'DJ Thornely', 'RV Uthappa', 'PR Shah',\n",
       "       'AM Nayar', 'SM Pollock', 'Harbhajan Singh', 'S Chanderpaul',\n",
       "       'LRPL Taylor', 'AC Gilchrist', 'Y Venugopal Rao', 'VVS Laxman',\n",
       "       'A Symonds', 'RG Sharma', 'SB Styris', 'AS Yadav', 'SB Bangar',\n",
       "       'WPUJC Vaas', 'RP Singh', 'WP Saha', 'LR Shukla',\n",
       "       'DPMD Jayawardene', 'S Sohal', 'B Lee', 'PP Chawla', 'WA Mota',\n",
       "       'Kamran Akmal', 'Shahid Afridi', 'DJ Bravo', 'MA Khote', 'A Nehra',\n",
       "       'GC Smith', 'Pankaj Singh', 'RR Sarwan', 'S Sreesanth',\n",
       "       'VRV Singh', 'SS Tiwary', 'DS Kulkarni', 'R Vinay Kumar',\n",
       "       'AB Agarkar', 'M Kartik', 'I Sharma', 'AM Rahane', 'Shoaib Malik',\n",
       "       'MK Tiwary', 'KD Karthik', 'R Bhatia', 'MF Maharoof', 'VY Mahesh',\n",
       "       'TM Srivastava', 'B Chipli', 'DW Steyn', 'DB Das', 'MK Pandey',\n",
       "       'HH Gibbs', 'DNT Zoysa', 'D Kalyankrishna', 'SE Marsh',\n",
       "       'SA Asnodkar', 'Sohail Tanvir', 'Salman Butt', 'BJ Hodge',\n",
       "       'Umar Gul', 'AB Dinda', 'SP Fleming', 'S Vidyut', 'JA Morkel',\n",
       "       'AB de Villiers', 'LPC Silva', 'DB Ravi Teja', 'Misbah-ul-Haq',\n",
       "       'YV Takawale', 'RR Raje', 'PJ Sangwan', 'Mohammad Asif',\n",
       "       'GD McGrath', 'Joginder Sharma', 'MS Gony', 'M Muralitharan',\n",
       "       'M Ntini', 'DT Patil', 'A Kumble', 'S Anirudha', 'MM Patel',\n",
       "       'CK Kapugedera', 'A Chopra', 'T Taibu', 'J Arunkumar', 'PP Ojha',\n",
       "       'SP Goswami', 'SR Tendulkar', 'U Kaul', 'TM Dilshan', 'A Mishra',\n",
       "       'AD Mascarenhas', 'Niraj Patel', 'LA Pomersbach', 'Iqbal Abdulla',\n",
       "       'Younis Khan', 'PM Sarvesh Kumar', 'DP Vijaykumar',\n",
       "       'Shoaib Akhtar', 'Abdur Razzak', 'H Das', 'DR Smith', 'SD Chitnis',\n",
       "       'CRD Fernando', 'VS Yeligati', 'L Balaji', 'A Mukund', 'RR Powar',\n",
       "       'JP Duminy', 'A Flintoff', 'T Thushara', 'JD Ryder',\n",
       "       'KP Pietersen', 'T Henderson', 'Kamran Khan', 'RS Bopara',\n",
       "       'CH Gayle', 'MC Henriques', 'R Bishnoi', 'FH Edwards', 'KV Sharma',\n",
       "       'PC Valthaty', 'RJ Quiney', 'AS Raut', 'Yashpal Singh', 'M Manhas',\n",
       "       'AA Bilakhia', 'AN Ghosh', 'BAW Mendis', 'DL Vettori',\n",
       "       'MN van Wyk', 'RE van der Merwe', 'TL Suman', 'Shoaib Ahmed',\n",
       "       'GR Napier', 'KP Appanna', 'LA Carseldine', 'NV Ojha',\n",
       "       'SM Harwood', 'M Vijay', 'SB Jakati', 'DA Warner', 'RJ Harris',\n",
       "       'D du Preez', 'M Morkel', 'AD Mathews', 'J Botha', 'C Nanda',\n",
       "       'SL Malinga', 'Mashrafe Mortaza', 'A Singh', 'GJ Bailey',\n",
       "       'AB McDonald', 'Y Nagar', 'SS Shaikh', 'R Ashwin',\n",
       "       'Mohammad Ashraful', 'CA Pujara', 'OA Shah', 'Anirudh Singh',\n",
       "       'Jaskaran Singh', 'AP Tare', 'AT Rayudu', 'R Sathish', 'R McLaren',\n",
       "       'AA Jhunjhunwala', 'P Dogra', 'A Uniyal', 'MS Bisla', 'YA Abdulla',\n",
       "       'EJG Morgan', 'JM Kemp', 'S Tyagi', 'RS Gavaskar', 'SE Bond',\n",
       "       'KA Pollard', 'S Ladda', 'DP Nannes', 'MJ Lumb', 'DR Martyn',\n",
       "       'S Narwal', 'AB Barath', 'Bipul Sharma', 'FY Fazal', 'AC Voges',\n",
       "       'MD Mishra', 'UT Yadav', 'J Theron', 'SJ Srivastava', 'R Sharma',\n",
       "       'Mandeep Singh', 'KM Jadhav', 'SW Tait', 'KB Arun Karthik',\n",
       "       'KAJ Roach', 'PD Collingwood', 'CK Langeveldt', 'VS Malik',\n",
       "       'A Mithun', 'AP Dole', 'AN Ahmed', 'RS Sodhi', 'DE Bollinger',\n",
       "       'S Sriram', 'B Sumanth', 'C Madan', 'AG Paunikar', 'MR Marsh',\n",
       "       'AJ Finch', 'STR Binny', 'Harmeet Singh', 'IR Jaggi',\n",
       "       'DT Christian', 'RV Gomez', 'MA Agarwal', 'AUK Pathan',\n",
       "       'UBT Chand', 'DJ Jacobs', 'Sunny Singh', 'NJ Rimmington',\n",
       "       'AL Menaria', 'WD Parnell', 'JJ van der Wath', 'R Ninan',\n",
       "       'S Aravind', 'MS Wade', 'TD Paine', 'SB Wagh', 'AC Thomas',\n",
       "       'JEC Franklin', 'Shakib Al Hasan', 'DH Yagnik', 'S Randiv',\n",
       "       'BJ Haddin', 'NLTC Perera', 'NL McCullum', 'JE Taylor',\n",
       "       'J Syed Mohammad', 'RN ten Doeschate', 'TR Birt', 'AG Murtaza',\n",
       "       'Harpreet Singh', 'M Klinger', 'AC Blizzard', 'I Malhotra',\n",
       "       'L Ablish', 'CA Ingram', 'S Nadeem', 'P Parameswaran',\n",
       "       'CJ Ferguson', 'VR Aaron', 'AA Chavan', 'ND Doshi', 'B Kumar',\n",
       "       'Y Gnaneswara Rao', 'S Rana', 'BA Bhatt', 'F du Plessis',\n",
       "       'RE Levi', 'GJ Maxwell', 'SPD Smith', 'MN Samuels', 'SA Yadav',\n",
       "       'KK Cooper', 'JP Faulkner', 'HV Patel', 'DAJ Bracewell',\n",
       "       'DJ Harris', 'Ankit Sharma', 'SP Narine', 'GB Hogg', 'RR Bhatkal',\n",
       "       'CJ McKay', 'N Saini', 'DA Miller', 'Azhar Mahmood', 'P Negi',\n",
       "       'RJ Peterson', 'KMDN Kulasekara', 'A Ashish Reddy',\n",
       "       'V Pratap Singh', 'BB Samantray', 'MJ Clarke', 'Gurkeerat Singh',\n",
       "       'AP Majumdar', 'PA Reddy', 'K Upadhyay', 'P Awana', 'AD Russell',\n",
       "       'A Chandila', 'CA Lynn', 'Sunny Gupta', 'MC Juneja', 'KK Nair',\n",
       "       'GH Vihari', 'MDKJ Perera', 'R Shukla', 'B Laughlin', 'AS Rajpoot',\n",
       "       'M Vohra', 'JD Unadkat', 'Mohammed Shami', 'BMAJ Mendis',\n",
       "       'R Rampaul', 'CH Morris', 'SV Samson', 'SMSM Senanayake',\n",
       "       'BJ Rohrer', 'KL Rahul', 'Q de Kock', 'R Dhawan', 'MG Johnson',\n",
       "       'LJ Wright', 'IC Pandey', 'CM Gautam', 'X Thalaivan Sargunam',\n",
       "       'DJG Sammy', 'KW Richardson', 'MM Sharma', 'UA Birla',\n",
       "       'Parvez Rasool', 'Sandeep Sharma', 'S Kaul', 'Sachin Baby',\n",
       "       'PV Tambe', 'NM Coulter-Nile', 'CJ Anderson', 'NJ Maddinson',\n",
       "       'AR Patel', 'JJ Bumrah', 'JDS Neesham', 'TG Southee', 'MA Starc',\n",
       "       'BR Dunk', 'RR Rossouw', 'Shivam Sharma', 'YS Chahal',\n",
       "       'LMP Simmons', 'VH Zol', 'BCJ Cutting', 'Imran Tahir',\n",
       "       'BE Hendricks', 'S Gopal', 'M de Lange', 'R Tewatia', 'JO Holder',\n",
       "       'Karanveer Singh', 'SS Iyer', 'DJ Hooda', 'Anureet Singh',\n",
       "       'KS Williamson', 'SA Abbott', 'J Suchith', 'RG More', 'HH Pandya',\n",
       "       'D Wiese', 'SN Khan', 'MJ McClenaghan', 'DJ Muthuswami',\n",
       "       'PJ Cummins', 'SN Thakur', 'JC Buttler', 'CR Brathwaite',\n",
       "       'MP Stoinis', 'Ishan Kishan', 'C Munro', 'P Sahu', 'KH Pandya',\n",
       "       'AD Nath', 'MJ Guptill', 'KJ Abbott', 'TM Head', 'M Ashwin',\n",
       "       'NS Naik', 'RR Pant', 'SW Billings', 'KC Cariappa',\n",
       "       'PSP Handscomb', 'Swapnil Singh', 'J Yadav', 'UT Khawaja',\n",
       "       'HM Amla', 'F Behardien', 'BB Sran', 'A Zampa', 'N Rana',\n",
       "       'S Kaushik', 'ER Dwivedi', 'CJ Jordan', 'TS Mills', 'A Choudhary',\n",
       "       'BA Stokes', 'JJ Roy', 'Vishnu Vinod', 'Basil Thampi', 'CR Woakes',\n",
       "       'RA Tripathi', 'DL Chahar', 'V Shankar', 'Rashid Khan',\n",
       "       'RD Chahar', 'LH Ferguson', 'C de Grandhomme', 'AF Milne',\n",
       "       'S Badree', 'Mohammad Nabi', 'AJ Tye', 'K Rabada', 'Kuldeep Yadav',\n",
       "       'Washington Sundar', 'DM Bravo', 'AR Bawne', 'SP Jackson',\n",
       "       'Ankit Soni', 'TA Boult', 'E Lewis', 'MA Wood', 'RK Singh',\n",
       "       'DJM Short', 'K Gowtham', 'TK Curran', 'M Markande', 'B Stanlake',\n",
       "       'Mujeeb Ur Rahman', 'A Dananjaya', 'Shubman Gill', 'Shivam Mavi',\n",
       "       'Mohammed Siraj', 'H Klaasen', 'RK Bhui', 'JC Archer', 'PP Shaw',\n",
       "       'LE Plunkett', 'Mustafizur Rahman', 'AD Hales', 'MK Lomror',\n",
       "       'DR Shorey', 'MM Ali', 'M Prasidh Krishna', 'P Chopra',\n",
       "       'JPR Scantlebury-Searles', 'Abhishek Sharma', 'IS Sodhi',\n",
       "       'SO Hetmyer', 'S Dube', 'NA Saini', 'JM Bairstow', 'KMA Paul',\n",
       "       'Rasikh Salam', 'N Pooran', 'P Ray Barman', 'SM Curran',\n",
       "       'GC Viljoen', 'Avesh Khan', 'S Lamichhane', 'HF Gurney', 'SD Lad',\n",
       "       'AS Joseph', 'R Parag', 'MJ Santner', 'JL Denly', 'LS Livingstone',\n",
       "       'KK Ahmed', 'AJ Turner', 'Harpreet Brar', 'SE Rutherford',\n",
       "       'Y Prithvi Raj', 'P Simran Singh', 'JL Pattinson', 'A Nortje',\n",
       "       'T Banton', 'D Padikkal', 'YBK Jaiswal', 'RD Gaikwad',\n",
       "       'TU Deshpande', 'Abdul Samad', 'PK Garg', 'JR Philippe',\n",
       "       'Kartik Tyagi', 'KL Nagarkoti', 'CV Varun', 'I Udana',\n",
       "       'Ravi Bishnoi', 'Shahbaz Ahmed', 'AT Carey', 'N Jagadeesan',\n",
       "       'T Natarajan', 'P Dubey', 'SS Cottrell', 'Arshdeep Singh',\n",
       "       'DR Sams', 'M Jansen', 'RM Patidar', 'KA Jamieson',\n",
       "       'M Shahrukh Khan', 'JA Richardson', 'Lalit Yadav', 'Virat Singh',\n",
       "       'FA Allen', 'C Sakariya', 'DJ Malan'], dtype=object)"
      ]
     },
     "execution_count": 51,
     "metadata": {},
     "output_type": "execute_result"
    }
   ],
   "source": [
    "final_data['striker'].unique()"
   ]
  },
  {
   "cell_type": "code",
   "execution_count": 52,
   "metadata": {},
   "outputs": [
    {
     "name": "stdout",
     "output_type": "stream",
     "text": [
      "enter the batsman name: RG Sharma\n"
     ]
    },
    {
     "data": {
      "text/html": [
       "<div>\n",
       "<style scoped>\n",
       "    .dataframe tbody tr th:only-of-type {\n",
       "        vertical-align: middle;\n",
       "    }\n",
       "\n",
       "    .dataframe tbody tr th {\n",
       "        vertical-align: top;\n",
       "    }\n",
       "\n",
       "    .dataframe thead th {\n",
       "        text-align: right;\n",
       "    }\n",
       "</style>\n",
       "<table border=\"1\" class=\"dataframe\">\n",
       "  <thead>\n",
       "    <tr style=\"text-align: right;\">\n",
       "      <th></th>\n",
       "      <th>win_or_loss</th>\n",
       "      <th>Runs_scored</th>\n",
       "      <th>Balls_faced</th>\n",
       "      <th>dismissed</th>\n",
       "      <th>Fours</th>\n",
       "      <th>Sixes</th>\n",
       "      <th>Average</th>\n",
       "      <th>Strike rate</th>\n",
       "      <th>Dot ball percentage</th>\n",
       "      <th>Boundary percentage</th>\n",
       "      <th>Balls per boundary</th>\n",
       "    </tr>\n",
       "  </thead>\n",
       "  <tbody>\n",
       "    <tr>\n",
       "      <th>0</th>\n",
       "      <td>lose</td>\n",
       "      <td>1985</td>\n",
       "      <td>1643</td>\n",
       "      <td>90</td>\n",
       "      <td>180</td>\n",
       "      <td>69</td>\n",
       "      <td>22.055556</td>\n",
       "      <td>120.815581</td>\n",
       "      <td>37.0</td>\n",
       "      <td>15.0</td>\n",
       "      <td>6.598394</td>\n",
       "    </tr>\n",
       "    <tr>\n",
       "      <th>1</th>\n",
       "      <td>win</td>\n",
       "      <td>3495</td>\n",
       "      <td>2643</td>\n",
       "      <td>93</td>\n",
       "      <td>296</td>\n",
       "      <td>156</td>\n",
       "      <td>37.580645</td>\n",
       "      <td>132.236095</td>\n",
       "      <td>33.0</td>\n",
       "      <td>17.0</td>\n",
       "      <td>5.847345</td>\n",
       "    </tr>\n",
       "  </tbody>\n",
       "</table>\n",
       "</div>"
      ],
      "text/plain": [
       "  win_or_loss  Runs_scored  Balls_faced  dismissed  Fours  Sixes    Average  \\\n",
       "0        lose         1985         1643         90    180     69  22.055556   \n",
       "1         win         3495         2643         93    296    156  37.580645   \n",
       "\n",
       "   Strike rate  Dot ball percentage  Boundary percentage  Balls per boundary  \n",
       "0   120.815581                 37.0                 15.0            6.598394  \n",
       "1   132.236095                 33.0                 17.0            5.847345  "
      ]
     },
     "execution_count": 52,
     "metadata": {},
     "output_type": "execute_result"
    }
   ],
   "source": [
    "batsman_name=input('enter the batsman name: ')\n",
    "\n",
    "final_data['isOne'] = final_data['runs_off_bat'].apply(lambda x: 1 if x == 1 else 0)\n",
    "final_data['isTwo'] = final_data['runs_off_bat'].apply(lambda x: 1 if x == 2 else 0)\n",
    "final_data['isThree'] = final_data['runs_off_bat'].apply(lambda x: 1 if x == 3 else 0)\n",
    "final_data['isFour'] = final_data['runs_off_bat'].apply(lambda x: 1 if x == 4 else 0)\n",
    "final_data['isSix'] = final_data['runs_off_bat'].apply(lambda x: 1 if x == 6 else 0)\n",
    "final_data['Boundary'] = final_data['runs_off_bat'].apply(lambda x: 1 if x == 6 or x==4 else 0)\n",
    "        \n",
    "batsman_data=final_data[final_data['striker']==batsman_name]\n",
    "batsman_data=batsman_data.groupby(['win_or_loss']).agg({'runs_off_bat':'sum','match_id':'count','wicket_type':'count','number_of_dotballs':'sum','isFour':'sum','isSix':'sum','Boundary':'sum'}).reset_index().rename({'runs_off_bat':'Runs_scored','match_id':'Balls_faced','wicket_type':'dismissed','isFour':\"Fours\",'isSix':'Sixes'},axis=1)\n",
    "batsman_data['Average']=batsman_data['Runs_scored']/batsman_data['dismissed']\n",
    "batsman_data['Strike rate']=(batsman_data['Runs_scored']/batsman_data['Balls_faced'])*100\n",
    "batsman_data['Dot ball percentage']=((batsman_data['number_of_dotballs']/batsman_data['Balls_faced'])*100).round()\n",
    "batsman_data['Boundary percentage']=((batsman_data['Boundary']/batsman_data['Balls_faced'])*100).round()\n",
    "batsman_data['Balls per boundary']=((batsman_data['Balls_faced']/batsman_data['Boundary']))\n",
    "batsman_data=batsman_data.drop(['number_of_dotballs','Boundary'],axis=1)\n",
    "batsman_data"
   ]
  },
  {
   "cell_type": "code",
   "execution_count": 53,
   "metadata": {},
   "outputs": [],
   "source": [
    "final_data['wicket_type']=final_data['wicket_type'].fillna(0)\n"
   ]
  },
  {
   "cell_type": "code",
   "execution_count": 54,
   "metadata": {},
   "outputs": [],
   "source": [
    "def is_bowlers_wicket(player_dismissed, wicket_type):\n",
    "    if type(player_dismissed) == str:\n",
    "        if wicket_type not in [ 'run out', 'retired hurt', 'obstructing the field',0]:\n",
    "            return 1\n",
    "        else:\n",
    "            return 0\n",
    "    else:\n",
    "        return 0"
   ]
  },
  {
   "cell_type": "code",
   "execution_count": 55,
   "metadata": {},
   "outputs": [],
   "source": [
    "final_data['wicket'] = final_data.apply(lambda x: is_bowlers_wicket(x['player_dismissed'], x['wicket_type']), axis = 1)"
   ]
  },
  {
   "cell_type": "code",
   "execution_count": 56,
   "metadata": {},
   "outputs": [],
   "source": [
    "final_data['win_or_loss']=final_data.apply(lambda x: 'win'  if x['bowling_team'] == x['batting_team_y'] else 'lose',axis=1)\n"
   ]
  },
  {
   "cell_type": "code",
   "execution_count": 58,
   "metadata": {},
   "outputs": [
    {
     "data": {
      "text/plain": [
       "array(['P Kumar', 'Z Khan', 'AA Noffke', 'JH Kallis', 'SB Joshi',\n",
       "       'CL White', 'AB Dinda', 'I Sharma', 'AB Agarkar', 'SC Ganguly',\n",
       "       'LR Shukla', 'B Lee', 'S Sreesanth', 'JR Hopes', 'IK Pathan',\n",
       "       'K Goel', 'PP Chawla', 'WA Mota', 'JDP Oram', 'MS Gony',\n",
       "       'M Muralitharan', 'P Amarnath', 'Joginder Sharma', 'GD McGrath',\n",
       "       'B Geeves', 'MF Maharoof', 'R Bhatia', 'DL Vettori', 'MM Patel',\n",
       "       'SR Watson', 'SK Trivedi', 'SK Warne', 'YK Pathan', 'D Salunkhe',\n",
       "       'R Vinay Kumar', 'B Akhil', 'A Nehra', 'SM Pollock', 'DS Kulkarni',\n",
       "       'ST Jayasuriya', 'Harbhajan Singh', 'AM Nayar', 'M Kartik',\n",
       "       'Mohammad Hafeez', 'DJ Hussey', 'WPUJC Vaas', 'RP Singh',\n",
       "       'SB Styris', 'SB Bangar', 'A Symonds', 'PP Ojha', 'Pankaj Singh',\n",
       "       'Mohammad Asif', 'VY Mahesh', 'Shahid Afridi', 'DJ Bravo',\n",
       "       'VS Yeligati', 'MA Khote', 'D Kalyankrishna', 'VRV Singh',\n",
       "       'Sohail Tanvir', 'A Kumble', 'DNT Zoysa', 'SD Chitnis',\n",
       "       'Yuvraj Singh', 'Shoaib Malik', 'DW Steyn', 'JA Morkel',\n",
       "       'CRD Fernando', 'V Kohli', 'V Sehwag', 'Gagandeep Singh',\n",
       "       'Y Venugopal Rao', 'Umar Gul', 'PJ Sangwan', 'M Ntini',\n",
       "       'DP Vijaykumar', 'DB Ravi Teja', 'LPC Silva', 'DJ Thornely',\n",
       "       'RR Raje', 'SK Raina', 'S Vidyut', 'L Balaji', 'CK Kapugedera',\n",
       "       'DR Smith', 'AD Mascarenhas', 'A Mishra', 'Shoaib Akhtar',\n",
       "       'Iqbal Abdulla', 'RR Powar', 'PM Sarvesh Kumar', 'Abdur Razzak',\n",
       "       'RA Jadeja', 'TM Dilshan', 'RG Sharma', 'A Nel', 'BAW Mendis',\n",
       "       'T Thushara', 'A Flintoff', 'SL Malinga', 'Kamran Khan',\n",
       "       'T Henderson', 'JD Ryder', 'DP Nannes', 'AM Salvi', 'YA Abdulla',\n",
       "       'VS Malik', 'FH Edwards', 'Harmeet Singh', 'CH Gayle',\n",
       "       'MC Henriques', 'KP Pietersen', 'LRPL Taylor', 'RS Bopara',\n",
       "       'MK Tiwary', 'Anureet Singh', 'RR Bose', 'KP Appanna',\n",
       "       'Shoaib Ahmed', 'BJ Hodge', 'SR Tendulkar', 'RE van der Merwe',\n",
       "       'JP Duminy', 'S Tyagi', 'GR Napier', 'SM Harwood', 'AS Raut',\n",
       "       'SB Jakati', 'D du Preez', 'RJ Harris', 'TL Suman', 'A Singh',\n",
       "       'M Morkel', 'LA Carseldine', 'A Mithun', 'C Nanda', 'SS Sarkar',\n",
       "       'AD Mathews', 'AM Rahane', 'J Botha', 'Mashrafe Mortaza',\n",
       "       'AB McDonald', 'Y Nagar', 'CK Langeveldt', 'R Ashwin', 'RA Shaikh',\n",
       "       'Jaskaran Singh', 'SW Tait', 'A Uniyal', 'AA Jhunjhunwala',\n",
       "       'R McLaren', 'AG Murtaza', 'R Sathish', 'RS Gavaskar', 'JM Kemp',\n",
       "       'S Ladda', 'Bipul Sharma', 'SE Bond', 'KA Pollard', 'S Narwal',\n",
       "       'UT Yadav', 'SJ Srivastava', 'AC Voges', 'R Sharma', 'J Theron',\n",
       "       'NLTC Perera', 'KAJ Roach', 'PD Collingwood', 'C Ganapathy',\n",
       "       'MB Parmar', 'SB Wagh', 'DE Bollinger', 'JD Unadkat', 'AP Dole',\n",
       "       'AN Ahmed', 'FY Fazal', 'MR Marsh', 'L Ablish', 'S Sriram',\n",
       "       'AJ Finch', 'STR Binny', 'ND Doshi', 'TG Southee', 'S Randiv',\n",
       "       'AL Menaria', 'DT Christian', 'AUK Pathan', 'RV Gomez',\n",
       "       'JEC Franklin', 'AC Thomas', 'WD Parnell', 'M Manhas',\n",
       "       'NJ Rimmington', 'RN ten Doeschate', 'S Nadeem', 'BA Bhatt',\n",
       "       'JJ van der Wath', 'S Aravind', 'R Ninan', 'Shakib Al Hasan',\n",
       "       'PC Valthaty', 'S Dhawan', 'J Syed Mohammad', 'VR Aaron',\n",
       "       'NL McCullum', 'JE Taylor', 'KMDN Kulasekara', 'P Parameswaran',\n",
       "       'I Malhotra', 'B Chipli', 'B Kumar', 'AA Kazi', 'Anand Rajan',\n",
       "       'P Prasanth', 'Y Gnaneswara Rao', 'AA Chavan', 'S Rana',\n",
       "       'JP Faulkner', 'SS Mundhe', 'RW Price', 'GJ Maxwell', 'M de Lange',\n",
       "       'MN Samuels', 'KK Cooper', 'DAJ Bracewell', 'HV Patel',\n",
       "       'Ankit Sharma', 'DJ Harris', 'TP Sudhindra', 'F du Plessis',\n",
       "       'SP Narine', 'GB Hogg', 'RR Bhatkal', 'P Awana', 'V Pratap Singh',\n",
       "       'CJ McKay', 'AD Russell', 'A Ashish Reddy', 'Azhar Mahmood',\n",
       "       'A Chandila', 'P Negi', 'LJ Wright', 'RJ Peterson', 'R Shukla',\n",
       "       'MJ Clarke', 'BW Hilfenhaus', 'SPD Smith', 'K Upadhyay',\n",
       "       'Sunny Gupta', 'MG Johnson', 'JJ Bumrah', 'S Badree', 'AS Rajpoot',\n",
       "       'B Laughlin', 'GH Vihari', 'Mohammed Shami', 'BMAJ Mendis',\n",
       "       'CH Morris', 'Harmeet Singh (2)', 'S Kaul', 'R Dhawan',\n",
       "       'MM Sharma', 'R Rampaul', 'KV Sharma', 'SMSM Senanayake',\n",
       "       'JO Holder', 'IC Pandey', 'Sandeep Sharma', 'YS Chahal',\n",
       "       'DJG Sammy', 'KW Richardson', 'P Suyal', 'PV Tambe', 'BJ Rohrer',\n",
       "       'Parvez Rasool', 'MG Neser', 'NM Coulter-Nile', 'AC Gilchrist',\n",
       "       'CJ Anderson', 'MA Starc', 'JDS Neesham', 'AR Patel', 'M Vijay',\n",
       "       'R Tewatia', 'SA Yadav', 'Shivam Sharma', 'Imran Tahir',\n",
       "       'V Shankar', 'LMP Simmons', 'BCJ Cutting', 'K Santokie', 'S Gopal',\n",
       "       'BE Hendricks', 'PJ Cummins', 'JW Hastings', 'Karanveer Singh',\n",
       "       'DJ Muthuswami', 'TA Boult', 'SA Abbott', 'KC Cariappa',\n",
       "       'DJ Hooda', 'J Suchith', 'RG More', 'D Wiese', 'MJ McClenaghan',\n",
       "       'HH Pandya', 'SN Thakur', 'GS Sandhu', 'Gurkeerat Singh',\n",
       "       'J Yadav', 'BB Sran', 'M Ashwin', 'C Munro', 'CR Brathwaite',\n",
       "       'MP Stoinis', 'P Sahu', 'Mustafizur Rahman', 'AF Milne',\n",
       "       'Kuldeep Yadav', 'KH Pandya', 'KJ Abbott', 'T Shamsi', 'S Kaushik',\n",
       "       'SM Boland', 'Swapnil Singh', 'CJ Jordan', 'A Zampa',\n",
       "       'Sachin Baby', 'N Rana', 'DL Chahar', 'KS Williamson', 'TS Mills',\n",
       "       'A Choudhary', 'TM Head', 'Rashid Khan', 'BA Stokes', 'CR Woakes',\n",
       "       'T Natarajan', 'RD Chahar', 'B Stanlake', 'Tejas Baroka',\n",
       "       'Basil Thampi', 'C de Grandhomme', 'AJ Tye', 'LH Ferguson',\n",
       "       'Mohammad Nabi', 'Mohammed Siraj', 'K Rabada', 'Washington Sundar',\n",
       "       'SS Agarwal', 'NB Singh', 'RA Tripathi', 'Ankit Soni', 'MJ Henry',\n",
       "       'Avesh Khan', 'MA Wood', 'M Markande', 'Mujeeb Ur Rahman',\n",
       "       'K Khejroliya', 'K Gowtham', 'DJM Short', 'TK Curran',\n",
       "       'A Dananjaya', 'Shivam Mavi', 'JC Archer', 'LE Plunkett',\n",
       "       'IS Sodhi', 'MK Lomror', 'L Ngidi', 'KM Asif', 'DJ Willey',\n",
       "       'M Prasidh Krishna', 'MM Ali', 'JPR Scantlebury-Searles',\n",
       "       'S Lamichhane', 'CJ Dala', 'KK Ahmed', 'NA Saini', 'S Dube',\n",
       "       'Rasikh Salam', 'KMA Paul', 'SM Curran', 'CV Varun', 'GC Viljoen',\n",
       "       'Mandeep Singh', 'P Ray Barman', 'MJ Santner', 'JP Behrendorff',\n",
       "       'SC Kuggeleijn', 'AS Joseph', 'HF Gurney', 'S Midhun', 'R Parag',\n",
       "       'LS Livingstone', 'SN Khan', 'Abhishek Sharma', 'Arshdeep Singh',\n",
       "       'SE Rutherford', 'Harpreet Brar', 'Y Prithvi Raj', 'O Thomas',\n",
       "       'AS Roy', 'S Sandeep Warrier', 'JL Pattinson', 'SS Cottrell',\n",
       "       'Ravi Bishnoi', 'A Nortje', 'I Udana', 'TU Deshpande',\n",
       "       'KL Nagarkoti', 'Kartik Tyagi', 'DR Sams', 'Shahbaz Ahmed',\n",
       "       'Abdul Samad', 'JR Hazlewood', 'DA Warner', 'CJ Green', 'P Dubey',\n",
       "       'Monu Kumar', 'KA Jamieson', 'M Jansen', 'C Sakariya',\n",
       "       'JA Richardson', 'RP Meredith', 'LI Meriwala', 'Lalit Yadav',\n",
       "       'Jalaj S Saxena', 'FA Allen'], dtype=object)"
      ]
     },
     "execution_count": 58,
     "metadata": {},
     "output_type": "execute_result"
    }
   ],
   "source": [
    "final_data['bowler'].unique()"
   ]
  },
  {
   "cell_type": "code",
   "execution_count": 57,
   "metadata": {},
   "outputs": [
    {
     "name": "stdout",
     "output_type": "stream",
     "text": [
      "Enter the bowler name: SL Malinga\n"
     ]
    },
    {
     "data": {
      "text/html": [
       "<div>\n",
       "<style scoped>\n",
       "    .dataframe tbody tr th:only-of-type {\n",
       "        vertical-align: middle;\n",
       "    }\n",
       "\n",
       "    .dataframe tbody tr th {\n",
       "        vertical-align: top;\n",
       "    }\n",
       "\n",
       "    .dataframe thead th {\n",
       "        text-align: right;\n",
       "    }\n",
       "</style>\n",
       "<table border=\"1\" class=\"dataframe\">\n",
       "  <thead>\n",
       "    <tr style=\"text-align: right;\">\n",
       "      <th></th>\n",
       "      <th>win_or_loss</th>\n",
       "      <th>Runs_scored</th>\n",
       "      <th>wickets</th>\n",
       "      <th>Fours</th>\n",
       "      <th>Sixes</th>\n",
       "      <th>Boundary</th>\n",
       "      <th>bowling average</th>\n",
       "      <th>bowling strike-rate</th>\n",
       "      <th>Dot ball percentage</th>\n",
       "      <th>overs_bowled</th>\n",
       "      <th>economy</th>\n",
       "    </tr>\n",
       "  </thead>\n",
       "  <tbody>\n",
       "    <tr>\n",
       "      <th>0</th>\n",
       "      <td>lose</td>\n",
       "      <td>1311</td>\n",
       "      <td>48</td>\n",
       "      <td>149</td>\n",
       "      <td>28</td>\n",
       "      <td>177</td>\n",
       "      <td>27.312500</td>\n",
       "      <td>24.458333</td>\n",
       "      <td>39.0</td>\n",
       "      <td>195.4</td>\n",
       "      <td>6.709314</td>\n",
       "    </tr>\n",
       "    <tr>\n",
       "      <th>1</th>\n",
       "      <td>win</td>\n",
       "      <td>1883</td>\n",
       "      <td>122</td>\n",
       "      <td>165</td>\n",
       "      <td>58</td>\n",
       "      <td>223</td>\n",
       "      <td>15.434426</td>\n",
       "      <td>14.754098</td>\n",
       "      <td>38.0</td>\n",
       "      <td>300.0</td>\n",
       "      <td>6.276667</td>\n",
       "    </tr>\n",
       "  </tbody>\n",
       "</table>\n",
       "</div>"
      ],
      "text/plain": [
       "  win_or_loss  Runs_scored  wickets  Fours  Sixes  Boundary  bowling average  \\\n",
       "0        lose         1311       48    149     28       177        27.312500   \n",
       "1         win         1883      122    165     58       223        15.434426   \n",
       "\n",
       "   bowling strike-rate  Dot ball percentage  overs_bowled   economy  \n",
       "0            24.458333                 39.0         195.4  6.709314  \n",
       "1            14.754098                 38.0         300.0  6.276667  "
      ]
     },
     "metadata": {},
     "output_type": "display_data"
    }
   ],
   "source": [
    "bowler_name=input('Enter the bowler name: ')\n",
    "bowler_data=final_data[final_data['bowler']==bowler_name]\n",
    "bowler_data=bowler_data.groupby(['win_or_loss']).agg({'runs_off_bat':'sum','match_id':'count','wicket':'sum','number_of_dotballs':'sum','number_of_dotballs':'sum','isFour':'sum','isSix':'sum','Boundary':'sum'}).reset_index().rename({'runs_off_bat':'Runs_scored','match_id':'Balls_bowled','wicket':'wickets','isFour':\"Fours\",'isSix':'Sixes'},axis=1)\n",
    "bowler_data['bowling average']=bowler_data['Runs_scored']/bowler_data['wickets']\n",
    "bowler_data['bowling strike-rate']=bowler_data['Balls_bowled']/bowler_data['wickets']\n",
    "bowler_data['Dot ball percentage']=((bowler_data['number_of_dotballs']/bowler_data['Balls_bowled'])*100).round()\n",
    "overs_bowled=[]\n",
    "for i in bowler_data['Balls_bowled']:\n",
    "    out1=i//6\n",
    "    #print(str(out1))\n",
    "    out2=i%6\n",
    "    #print(out2)\n",
    "    final=str(out1).split('.')[0]+'.'+str(out2).split('.')[0]\n",
    "    overs_bowled.append(final)\n",
    "bowler_data['overs_bowled']=overs_bowled\n",
    "bowler_data['overs_bowled']=bowler_data['overs_bowled'].astype('float')\n",
    "bowler_data['economy']=bowler_data['Runs_scored']/bowler_data['overs_bowled']\n",
    "\n",
    "bowler_data=bowler_data.drop(['Balls_bowled','number_of_dotballs'],axis=1)\n",
    "display(bowler_data)\n"
   ]
  },
  {
   "cell_type": "code",
   "execution_count": null,
   "metadata": {},
   "outputs": [],
   "source": []
  },
  {
   "cell_type": "code",
   "execution_count": null,
   "metadata": {},
   "outputs": [],
   "source": []
  }
 ],
 "metadata": {
  "kernelspec": {
   "display_name": "Python 3",
   "language": "python",
   "name": "python3"
  },
  "language_info": {
   "codemirror_mode": {
    "name": "ipython",
    "version": 3
   },
   "file_extension": ".py",
   "mimetype": "text/x-python",
   "name": "python",
   "nbconvert_exporter": "python",
   "pygments_lexer": "ipython3",
   "version": "3.7.4"
  }
 },
 "nbformat": 4,
 "nbformat_minor": 2
}
