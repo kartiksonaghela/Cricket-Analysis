{
  "nbformat": 4,
  "nbformat_minor": 0,
  "metadata": {
    "kernelspec": {
      "display_name": "Python 3",
      "language": "python",
      "name": "python3"
    },
    "language_info": {
      "codemirror_mode": {
        "name": "ipython",
        "version": 3
      },
      "file_extension": ".py",
      "mimetype": "text/x-python",
      "name": "python",
      "nbconvert_exporter": "python",
      "pygments_lexer": "ipython3",
      "version": "3.8.5"
    },
    "colab": {
      "name": "Ml Regression Ipl.ipynb",
      "provenance": []
    }
  },
  "cells": [
    {
      "cell_type": "code",
      "metadata": {
        "id": "ZtRz0PGFtwCj"
      },
      "source": [
        "import pandas as pd\n",
        "import numpy as np\n",
        "from sklearn.model_selection import train_test_split\n",
        "from sklearn.linear_model import LinearRegression\n",
        "import pickle\n",
        "from sklearn.metrics import mean_absolute_error\n",
        "import warnings\n",
        "import xgboost as xgb\n",
        "warnings.filterwarnings(\"ignore\")\n"
      ],
      "execution_count": 1,
      "outputs": []
    },
    {
      "cell_type": "code",
      "metadata": {
        "id": "-jWN_w-AtwCm"
      },
      "source": [
        "df=pd.read_csv('FINAL.csv')"
      ],
      "execution_count": 2,
      "outputs": []
    },
    {
      "cell_type": "code",
      "metadata": {
        "colab": {
          "base_uri": "https://localhost:8080/"
        },
        "id": "bW_0Az_MtwCn",
        "outputId": "f2b10561-8536-4568-c339-4d23a471414d"
      },
      "source": [
        "df.columns"
      ],
      "execution_count": 3,
      "outputs": [
        {
          "output_type": "execute_result",
          "data": {
            "text/plain": [
              "Index(['match_id', 'innings', 'Unnamed: 2', 'season', 'start_date', 'venue',\n",
              "       'ball', 'batting_team', 'bowling_team', 'striker', 'non_striker',\n",
              "       'bowler', 'runs_off_bat', 'extras', 'wides', 'noballs', 'byes',\n",
              "       'legbyes', 'penalty', 'wicket_type', 'player_dismissed',\n",
              "       'other_wicket_type', 'other_player_dismissed', 'bowler_type',\n",
              "       'Total_runs', 'Extraballs', 'over_type', 'number_of_wicket',\n",
              "       'number_of_dotballs', 'Batting_type'],\n",
              "      dtype='object')"
            ]
          },
          "metadata": {
            "tags": []
          },
          "execution_count": 3
        }
      ]
    },
    {
      "cell_type": "code",
      "metadata": {
        "colab": {
          "base_uri": "https://localhost:8080/"
        },
        "id": "m-_iGaU9twCq",
        "outputId": "fc30c656-7010-403d-c037-59bfb3b515a8"
      },
      "source": [
        "df['batting_team'].unique()"
      ],
      "execution_count": 4,
      "outputs": [
        {
          "output_type": "execute_result",
          "data": {
            "text/plain": [
              "array(['Kolkata Knight Riders', 'Royal Challengers Bangalore',\n",
              "       'Chennai Super Kings', 'Kings XI Punjab', 'Rajasthan Royals',\n",
              "       'Delhi Daredevils', 'Mumbai Indians', 'Deccan Chargers',\n",
              "       'Kochi Tuskers Kerala', 'Pune Warriors', 'Sunrisers Hyderabad',\n",
              "       'Rising Pune Supergiants', 'Gujarat Lions',\n",
              "       'Rising Pune Supergiant', 'Delhi Capitals', 'Punjab Kings'],\n",
              "      dtype=object)"
            ]
          },
          "metadata": {
            "tags": []
          },
          "execution_count": 4
        }
      ]
    },
    {
      "cell_type": "code",
      "metadata": {
        "id": "n4MmOHJQtwCq"
      },
      "source": [
        "for index,row in enumerate(df['batting_team']):\n",
        "    if row=='Delhi Daredevils':\n",
        "        df.loc[index,'batting_team']='Delhi Capitals'\n",
        "    if row=='Deccan Chargers':\n",
        "        df.loc[index,'batting_team']='Sunrisers Hyderabad'\n",
        "    if row=='Kings XI Punjab':\n",
        "        df.loc[index,'batting_team']='Punjab Kings'"
      ],
      "execution_count": 5,
      "outputs": []
    },
    {
      "cell_type": "code",
      "metadata": {
        "id": "bExpg3BOtwCr"
      },
      "source": [
        "for index,row in enumerate(df['bowling_team']):\n",
        "    if row=='Delhi Daredevils':\n",
        "        df.loc[index,'bowling_team']='Delhi Capitals'\n",
        "    if row=='Deccan Chargers':\n",
        "        df.loc[index,'bowling_team']='Sunrisers Hyderabad'\n",
        "    if row=='Kings XI Punjab':\n",
        "        df.loc[index,'bowling_team']='Punjab Kings'"
      ],
      "execution_count": 6,
      "outputs": []
    },
    {
      "cell_type": "code",
      "metadata": {
        "colab": {
          "base_uri": "https://localhost:8080/"
        },
        "id": "U-u5DbSRtwCr",
        "outputId": "59a06e29-a20f-4756-ef3e-47d53c8f3a4b"
      },
      "source": [
        "df['batting_team'].unique()"
      ],
      "execution_count": 7,
      "outputs": [
        {
          "output_type": "execute_result",
          "data": {
            "text/plain": [
              "array(['Kolkata Knight Riders', 'Royal Challengers Bangalore',\n",
              "       'Chennai Super Kings', 'Punjab Kings', 'Rajasthan Royals',\n",
              "       'Delhi Capitals', 'Mumbai Indians', 'Sunrisers Hyderabad',\n",
              "       'Kochi Tuskers Kerala', 'Pune Warriors', 'Rising Pune Supergiants',\n",
              "       'Gujarat Lions', 'Rising Pune Supergiant'], dtype=object)"
            ]
          },
          "metadata": {
            "tags": []
          },
          "execution_count": 7
        }
      ]
    },
    {
      "cell_type": "code",
      "metadata": {
        "id": "h2TEWs5htwCr"
      },
      "source": [
        "consistent_team=['Kolkata Knight Riders', 'Royal Challengers Bangalore','Chennai Super Kings',  'Rajasthan Royals','Delhi Capitals', 'Mumbai Indians', 'Sunrisers Hyderabad', 'Punjab Kings']"
      ],
      "execution_count": 8,
      "outputs": []
    },
    {
      "cell_type": "code",
      "metadata": {
        "colab": {
          "base_uri": "https://localhost:8080/"
        },
        "id": "Ge_nY5kYtwCr",
        "outputId": "7df1ff42-b4db-4a96-d17c-ce4ead6bd97d"
      },
      "source": [
        "df['batting_team'].isin(consistent_team)"
      ],
      "execution_count": 9,
      "outputs": [
        {
          "output_type": "execute_result",
          "data": {
            "text/plain": [
              "0         True\n",
              "1         True\n",
              "2         True\n",
              "3         True\n",
              "4         True\n",
              "          ... \n",
              "200658    True\n",
              "200659    True\n",
              "200660    True\n",
              "200661    True\n",
              "200662    True\n",
              "Name: batting_team, Length: 200663, dtype: bool"
            ]
          },
          "metadata": {
            "tags": []
          },
          "execution_count": 9
        }
      ]
    },
    {
      "cell_type": "code",
      "metadata": {
        "id": "R3QY3W-btwCs"
      },
      "source": [
        "df=df[df['batting_team'].isin(consistent_team)]"
      ],
      "execution_count": 10,
      "outputs": []
    },
    {
      "cell_type": "code",
      "metadata": {
        "id": "lQZ4nO6vtwCs"
      },
      "source": [
        "df=df[df['bowling_team'].isin(consistent_team)]"
      ],
      "execution_count": 11,
      "outputs": []
    },
    {
      "cell_type": "code",
      "metadata": {
        "colab": {
          "base_uri": "https://localhost:8080/",
          "height": 711
        },
        "id": "UHqCi0uxtwCs",
        "outputId": "2ad2fb43-182d-4f0c-fd3f-83f275861e9d"
      },
      "source": [
        "df"
      ],
      "execution_count": 12,
      "outputs": [
        {
          "output_type": "execute_result",
          "data": {
            "text/html": [
              "<div>\n",
              "<style scoped>\n",
              "    .dataframe tbody tr th:only-of-type {\n",
              "        vertical-align: middle;\n",
              "    }\n",
              "\n",
              "    .dataframe tbody tr th {\n",
              "        vertical-align: top;\n",
              "    }\n",
              "\n",
              "    .dataframe thead th {\n",
              "        text-align: right;\n",
              "    }\n",
              "</style>\n",
              "<table border=\"1\" class=\"dataframe\">\n",
              "  <thead>\n",
              "    <tr style=\"text-align: right;\">\n",
              "      <th></th>\n",
              "      <th>match_id</th>\n",
              "      <th>innings</th>\n",
              "      <th>Unnamed: 2</th>\n",
              "      <th>season</th>\n",
              "      <th>start_date</th>\n",
              "      <th>venue</th>\n",
              "      <th>ball</th>\n",
              "      <th>batting_team</th>\n",
              "      <th>bowling_team</th>\n",
              "      <th>striker</th>\n",
              "      <th>non_striker</th>\n",
              "      <th>bowler</th>\n",
              "      <th>runs_off_bat</th>\n",
              "      <th>extras</th>\n",
              "      <th>wides</th>\n",
              "      <th>noballs</th>\n",
              "      <th>byes</th>\n",
              "      <th>legbyes</th>\n",
              "      <th>penalty</th>\n",
              "      <th>wicket_type</th>\n",
              "      <th>player_dismissed</th>\n",
              "      <th>other_wicket_type</th>\n",
              "      <th>other_player_dismissed</th>\n",
              "      <th>bowler_type</th>\n",
              "      <th>Total_runs</th>\n",
              "      <th>Extraballs</th>\n",
              "      <th>over_type</th>\n",
              "      <th>number_of_wicket</th>\n",
              "      <th>number_of_dotballs</th>\n",
              "      <th>Batting_type</th>\n",
              "    </tr>\n",
              "  </thead>\n",
              "  <tbody>\n",
              "    <tr>\n",
              "      <th>0</th>\n",
              "      <td>335982</td>\n",
              "      <td>1</td>\n",
              "      <td>0</td>\n",
              "      <td>2008</td>\n",
              "      <td>2008-04-18</td>\n",
              "      <td>Chinnaswamy Stadium(Banglore)</td>\n",
              "      <td>0.1</td>\n",
              "      <td>Kolkata Knight Riders</td>\n",
              "      <td>Royal Challengers Bangalore</td>\n",
              "      <td>SC Ganguly</td>\n",
              "      <td>BB McCullum</td>\n",
              "      <td>P Kumar</td>\n",
              "      <td>0</td>\n",
              "      <td>1</td>\n",
              "      <td>NaN</td>\n",
              "      <td>NaN</td>\n",
              "      <td>NaN</td>\n",
              "      <td>1.0</td>\n",
              "      <td>NaN</td>\n",
              "      <td>NaN</td>\n",
              "      <td>0</td>\n",
              "      <td>NaN</td>\n",
              "      <td>NaN</td>\n",
              "      <td>Right_arm_medium</td>\n",
              "      <td>1</td>\n",
              "      <td>0.0</td>\n",
              "      <td>PowerPlay</td>\n",
              "      <td>1.0</td>\n",
              "      <td>0.0</td>\n",
              "      <td>Left_hand_batsman</td>\n",
              "    </tr>\n",
              "    <tr>\n",
              "      <th>1</th>\n",
              "      <td>335982</td>\n",
              "      <td>1</td>\n",
              "      <td>112</td>\n",
              "      <td>2008</td>\n",
              "      <td>2008-04-18</td>\n",
              "      <td>Chinnaswamy Stadium(Banglore)</td>\n",
              "      <td>0.2</td>\n",
              "      <td>Kolkata Knight Riders</td>\n",
              "      <td>Royal Challengers Bangalore</td>\n",
              "      <td>BB McCullum</td>\n",
              "      <td>SC Ganguly</td>\n",
              "      <td>P Kumar</td>\n",
              "      <td>0</td>\n",
              "      <td>0</td>\n",
              "      <td>NaN</td>\n",
              "      <td>NaN</td>\n",
              "      <td>NaN</td>\n",
              "      <td>NaN</td>\n",
              "      <td>NaN</td>\n",
              "      <td>NaN</td>\n",
              "      <td>0</td>\n",
              "      <td>NaN</td>\n",
              "      <td>NaN</td>\n",
              "      <td>Right_arm_medium</td>\n",
              "      <td>0</td>\n",
              "      <td>0.0</td>\n",
              "      <td>PowerPlay</td>\n",
              "      <td>1.0</td>\n",
              "      <td>1.0</td>\n",
              "      <td>Right_hand_batsman</td>\n",
              "    </tr>\n",
              "    <tr>\n",
              "      <th>2</th>\n",
              "      <td>335982</td>\n",
              "      <td>1</td>\n",
              "      <td>143</td>\n",
              "      <td>2008</td>\n",
              "      <td>2008-04-18</td>\n",
              "      <td>Chinnaswamy Stadium(Banglore)</td>\n",
              "      <td>0.3</td>\n",
              "      <td>Kolkata Knight Riders</td>\n",
              "      <td>Royal Challengers Bangalore</td>\n",
              "      <td>BB McCullum</td>\n",
              "      <td>SC Ganguly</td>\n",
              "      <td>P Kumar</td>\n",
              "      <td>0</td>\n",
              "      <td>1</td>\n",
              "      <td>1.0</td>\n",
              "      <td>NaN</td>\n",
              "      <td>NaN</td>\n",
              "      <td>NaN</td>\n",
              "      <td>NaN</td>\n",
              "      <td>NaN</td>\n",
              "      <td>0</td>\n",
              "      <td>NaN</td>\n",
              "      <td>NaN</td>\n",
              "      <td>Right_arm_medium</td>\n",
              "      <td>1</td>\n",
              "      <td>0.0</td>\n",
              "      <td>PowerPlay</td>\n",
              "      <td>1.0</td>\n",
              "      <td>0.0</td>\n",
              "      <td>Right_hand_batsman</td>\n",
              "    </tr>\n",
              "    <tr>\n",
              "      <th>3</th>\n",
              "      <td>335982</td>\n",
              "      <td>1</td>\n",
              "      <td>144</td>\n",
              "      <td>2008</td>\n",
              "      <td>2008-04-18</td>\n",
              "      <td>Chinnaswamy Stadium(Banglore)</td>\n",
              "      <td>0.4</td>\n",
              "      <td>Kolkata Knight Riders</td>\n",
              "      <td>Royal Challengers Bangalore</td>\n",
              "      <td>BB McCullum</td>\n",
              "      <td>SC Ganguly</td>\n",
              "      <td>P Kumar</td>\n",
              "      <td>0</td>\n",
              "      <td>0</td>\n",
              "      <td>NaN</td>\n",
              "      <td>NaN</td>\n",
              "      <td>NaN</td>\n",
              "      <td>NaN</td>\n",
              "      <td>NaN</td>\n",
              "      <td>NaN</td>\n",
              "      <td>0</td>\n",
              "      <td>NaN</td>\n",
              "      <td>NaN</td>\n",
              "      <td>Right_arm_medium</td>\n",
              "      <td>0</td>\n",
              "      <td>0.0</td>\n",
              "      <td>PowerPlay</td>\n",
              "      <td>1.0</td>\n",
              "      <td>1.0</td>\n",
              "      <td>Right_hand_batsman</td>\n",
              "    </tr>\n",
              "    <tr>\n",
              "      <th>4</th>\n",
              "      <td>335982</td>\n",
              "      <td>1</td>\n",
              "      <td>145</td>\n",
              "      <td>2008</td>\n",
              "      <td>2008-04-18</td>\n",
              "      <td>Chinnaswamy Stadium(Banglore)</td>\n",
              "      <td>0.5</td>\n",
              "      <td>Kolkata Knight Riders</td>\n",
              "      <td>Royal Challengers Bangalore</td>\n",
              "      <td>BB McCullum</td>\n",
              "      <td>SC Ganguly</td>\n",
              "      <td>P Kumar</td>\n",
              "      <td>0</td>\n",
              "      <td>0</td>\n",
              "      <td>NaN</td>\n",
              "      <td>NaN</td>\n",
              "      <td>NaN</td>\n",
              "      <td>NaN</td>\n",
              "      <td>NaN</td>\n",
              "      <td>NaN</td>\n",
              "      <td>0</td>\n",
              "      <td>NaN</td>\n",
              "      <td>NaN</td>\n",
              "      <td>Right_arm_medium</td>\n",
              "      <td>0</td>\n",
              "      <td>0.0</td>\n",
              "      <td>PowerPlay</td>\n",
              "      <td>1.0</td>\n",
              "      <td>1.0</td>\n",
              "      <td>Right_hand_batsman</td>\n",
              "    </tr>\n",
              "    <tr>\n",
              "      <th>...</th>\n",
              "      <td>...</td>\n",
              "      <td>...</td>\n",
              "      <td>...</td>\n",
              "      <td>...</td>\n",
              "      <td>...</td>\n",
              "      <td>...</td>\n",
              "      <td>...</td>\n",
              "      <td>...</td>\n",
              "      <td>...</td>\n",
              "      <td>...</td>\n",
              "      <td>...</td>\n",
              "      <td>...</td>\n",
              "      <td>...</td>\n",
              "      <td>...</td>\n",
              "      <td>...</td>\n",
              "      <td>...</td>\n",
              "      <td>...</td>\n",
              "      <td>...</td>\n",
              "      <td>...</td>\n",
              "      <td>...</td>\n",
              "      <td>...</td>\n",
              "      <td>...</td>\n",
              "      <td>...</td>\n",
              "      <td>...</td>\n",
              "      <td>...</td>\n",
              "      <td>...</td>\n",
              "      <td>...</td>\n",
              "      <td>...</td>\n",
              "      <td>...</td>\n",
              "      <td>...</td>\n",
              "    </tr>\n",
              "    <tr>\n",
              "      <th>200658</th>\n",
              "      <td>1254086</td>\n",
              "      <td>2</td>\n",
              "      <td>200331</td>\n",
              "      <td>2021</td>\n",
              "      <td>2021-05-02</td>\n",
              "      <td>Motera Stadium(Ahemdabad)</td>\n",
              "      <td>17.2</td>\n",
              "      <td>Delhi Capitals</td>\n",
              "      <td>Punjab Kings</td>\n",
              "      <td>SO Hetmyer</td>\n",
              "      <td>S Dhawan</td>\n",
              "      <td>RP Meredith</td>\n",
              "      <td>6</td>\n",
              "      <td>0</td>\n",
              "      <td>NaN</td>\n",
              "      <td>NaN</td>\n",
              "      <td>NaN</td>\n",
              "      <td>NaN</td>\n",
              "      <td>NaN</td>\n",
              "      <td>NaN</td>\n",
              "      <td>0</td>\n",
              "      <td>NaN</td>\n",
              "      <td>NaN</td>\n",
              "      <td>Right_arm_fast</td>\n",
              "      <td>6</td>\n",
              "      <td>0.0</td>\n",
              "      <td>Death overs</td>\n",
              "      <td>1.0</td>\n",
              "      <td>0.0</td>\n",
              "      <td>Left_hand_batsman</td>\n",
              "    </tr>\n",
              "    <tr>\n",
              "      <th>200659</th>\n",
              "      <td>1254086</td>\n",
              "      <td>2</td>\n",
              "      <td>200330</td>\n",
              "      <td>2021</td>\n",
              "      <td>2021-05-02</td>\n",
              "      <td>Motera Stadium(Ahemdabad)</td>\n",
              "      <td>17.3</td>\n",
              "      <td>Delhi Capitals</td>\n",
              "      <td>Punjab Kings</td>\n",
              "      <td>SO Hetmyer</td>\n",
              "      <td>S Dhawan</td>\n",
              "      <td>RP Meredith</td>\n",
              "      <td>6</td>\n",
              "      <td>0</td>\n",
              "      <td>NaN</td>\n",
              "      <td>NaN</td>\n",
              "      <td>NaN</td>\n",
              "      <td>NaN</td>\n",
              "      <td>NaN</td>\n",
              "      <td>NaN</td>\n",
              "      <td>0</td>\n",
              "      <td>NaN</td>\n",
              "      <td>NaN</td>\n",
              "      <td>Right_arm_fast</td>\n",
              "      <td>6</td>\n",
              "      <td>0.0</td>\n",
              "      <td>Death overs</td>\n",
              "      <td>1.0</td>\n",
              "      <td>0.0</td>\n",
              "      <td>Left_hand_batsman</td>\n",
              "    </tr>\n",
              "    <tr>\n",
              "      <th>200660</th>\n",
              "      <td>1254086</td>\n",
              "      <td>2</td>\n",
              "      <td>200329</td>\n",
              "      <td>2021</td>\n",
              "      <td>2021-05-02</td>\n",
              "      <td>Motera Stadium(Ahemdabad)</td>\n",
              "      <td>17.4</td>\n",
              "      <td>Delhi Capitals</td>\n",
              "      <td>Punjab Kings</td>\n",
              "      <td>SO Hetmyer</td>\n",
              "      <td>S Dhawan</td>\n",
              "      <td>RP Meredith</td>\n",
              "      <td>4</td>\n",
              "      <td>0</td>\n",
              "      <td>NaN</td>\n",
              "      <td>NaN</td>\n",
              "      <td>NaN</td>\n",
              "      <td>NaN</td>\n",
              "      <td>NaN</td>\n",
              "      <td>NaN</td>\n",
              "      <td>0</td>\n",
              "      <td>NaN</td>\n",
              "      <td>NaN</td>\n",
              "      <td>Right_arm_fast</td>\n",
              "      <td>4</td>\n",
              "      <td>0.0</td>\n",
              "      <td>Death overs</td>\n",
              "      <td>1.0</td>\n",
              "      <td>0.0</td>\n",
              "      <td>Left_hand_batsman</td>\n",
              "    </tr>\n",
              "    <tr>\n",
              "      <th>200661</th>\n",
              "      <td>1254086</td>\n",
              "      <td>2</td>\n",
              "      <td>200328</td>\n",
              "      <td>2021</td>\n",
              "      <td>2021-05-02</td>\n",
              "      <td>Motera Stadium(Ahemdabad)</td>\n",
              "      <td>17.5</td>\n",
              "      <td>Delhi Capitals</td>\n",
              "      <td>Punjab Kings</td>\n",
              "      <td>SO Hetmyer</td>\n",
              "      <td>S Dhawan</td>\n",
              "      <td>RP Meredith</td>\n",
              "      <td>0</td>\n",
              "      <td>1</td>\n",
              "      <td>1.0</td>\n",
              "      <td>NaN</td>\n",
              "      <td>NaN</td>\n",
              "      <td>NaN</td>\n",
              "      <td>NaN</td>\n",
              "      <td>NaN</td>\n",
              "      <td>0</td>\n",
              "      <td>NaN</td>\n",
              "      <td>NaN</td>\n",
              "      <td>Right_arm_fast</td>\n",
              "      <td>1</td>\n",
              "      <td>0.0</td>\n",
              "      <td>Death overs</td>\n",
              "      <td>1.0</td>\n",
              "      <td>0.0</td>\n",
              "      <td>Left_hand_batsman</td>\n",
              "    </tr>\n",
              "    <tr>\n",
              "      <th>200662</th>\n",
              "      <td>1254086</td>\n",
              "      <td>2</td>\n",
              "      <td>200662</td>\n",
              "      <td>2021</td>\n",
              "      <td>2021-05-02</td>\n",
              "      <td>Motera Stadium(Ahemdabad)</td>\n",
              "      <td>17.6</td>\n",
              "      <td>Delhi Capitals</td>\n",
              "      <td>Punjab Kings</td>\n",
              "      <td>SO Hetmyer</td>\n",
              "      <td>S Dhawan</td>\n",
              "      <td>RP Meredith</td>\n",
              "      <td>0</td>\n",
              "      <td>1</td>\n",
              "      <td>1.0</td>\n",
              "      <td>NaN</td>\n",
              "      <td>NaN</td>\n",
              "      <td>NaN</td>\n",
              "      <td>NaN</td>\n",
              "      <td>NaN</td>\n",
              "      <td>0</td>\n",
              "      <td>NaN</td>\n",
              "      <td>NaN</td>\n",
              "      <td>Right_arm_fast</td>\n",
              "      <td>1</td>\n",
              "      <td>0.0</td>\n",
              "      <td>Death overs</td>\n",
              "      <td>1.0</td>\n",
              "      <td>0.0</td>\n",
              "      <td>Left_hand_batsman</td>\n",
              "    </tr>\n",
              "  </tbody>\n",
              "</table>\n",
              "<p>173644 rows × 30 columns</p>\n",
              "</div>"
            ],
            "text/plain": [
              "        match_id  innings  ...  number_of_dotballs        Batting_type\n",
              "0         335982        1  ...                 0.0   Left_hand_batsman\n",
              "1         335982        1  ...                 1.0  Right_hand_batsman\n",
              "2         335982        1  ...                 0.0  Right_hand_batsman\n",
              "3         335982        1  ...                 1.0  Right_hand_batsman\n",
              "4         335982        1  ...                 1.0  Right_hand_batsman\n",
              "...          ...      ...  ...                 ...                 ...\n",
              "200658   1254086        2  ...                 0.0   Left_hand_batsman\n",
              "200659   1254086        2  ...                 0.0   Left_hand_batsman\n",
              "200660   1254086        2  ...                 0.0   Left_hand_batsman\n",
              "200661   1254086        2  ...                 0.0   Left_hand_batsman\n",
              "200662   1254086        2  ...                 0.0   Left_hand_batsman\n",
              "\n",
              "[173644 rows x 30 columns]"
            ]
          },
          "metadata": {
            "tags": []
          },
          "execution_count": 12
        }
      ]
    },
    {
      "cell_type": "code",
      "metadata": {
        "colab": {
          "base_uri": "https://localhost:8080/"
        },
        "id": "ItGfBxfutwCs",
        "outputId": "31bf2689-70b4-47d8-e331-1ad2ef664623"
      },
      "source": [
        "df['ball']"
      ],
      "execution_count": 13,
      "outputs": [
        {
          "output_type": "execute_result",
          "data": {
            "text/plain": [
              "0          0.1\n",
              "1          0.2\n",
              "2          0.3\n",
              "3          0.4\n",
              "4          0.5\n",
              "          ... \n",
              "200658    17.2\n",
              "200659    17.3\n",
              "200660    17.4\n",
              "200661    17.5\n",
              "200662    17.6\n",
              "Name: ball, Length: 173644, dtype: float64"
            ]
          },
          "metadata": {
            "tags": []
          },
          "execution_count": 13
        }
      ]
    },
    {
      "cell_type": "markdown",
      "metadata": {
        "id": "H_0ygKpptwCt"
      },
      "source": [
        "# Feature Engineering"
      ]
    },
    {
      "cell_type": "code",
      "metadata": {
        "id": "Q26e8nbitwCt"
      },
      "source": [
        "df['overs']=df['ball']"
      ],
      "execution_count": 14,
      "outputs": []
    },
    {
      "cell_type": "code",
      "metadata": {
        "id": "IfwM_WaetwCt"
      },
      "source": [
        "df['ball'] = df['ball'].astype(str)"
      ],
      "execution_count": 15,
      "outputs": []
    },
    {
      "cell_type": "code",
      "metadata": {
        "id": "N0mvFvtHtwCt"
      },
      "source": [
        "df['over']=df['ball'].str[0:-1]"
      ],
      "execution_count": 16,
      "outputs": []
    },
    {
      "cell_type": "code",
      "metadata": {
        "id": "uj1A08GOtwCt"
      },
      "source": [
        "df['over']=df['over'].str.replace('.', '')"
      ],
      "execution_count": 17,
      "outputs": []
    },
    {
      "cell_type": "code",
      "metadata": {
        "id": "0Biwcl7ttwCu"
      },
      "source": [
        "df['ball']=df['ball'].str[-1:]"
      ],
      "execution_count": 18,
      "outputs": []
    },
    {
      "cell_type": "code",
      "metadata": {
        "id": "-q0EIcqWtwCu"
      },
      "source": [
        "df=df[['match_id','innings','batting_team','bowling_team','overs','over','ball','Total_runs','player_dismissed','over_type','number_of_dotballs']]"
      ],
      "execution_count": 19,
      "outputs": []
    },
    {
      "cell_type": "code",
      "metadata": {
        "colab": {
          "base_uri": "https://localhost:8080/",
          "height": 394
        },
        "id": "djftwUpjtwCu",
        "outputId": "a540a515-cf60-436e-979d-08f53aaccb45"
      },
      "source": [
        "df.head(5)"
      ],
      "execution_count": 20,
      "outputs": [
        {
          "output_type": "execute_result",
          "data": {
            "text/html": [
              "<div>\n",
              "<style scoped>\n",
              "    .dataframe tbody tr th:only-of-type {\n",
              "        vertical-align: middle;\n",
              "    }\n",
              "\n",
              "    .dataframe tbody tr th {\n",
              "        vertical-align: top;\n",
              "    }\n",
              "\n",
              "    .dataframe thead th {\n",
              "        text-align: right;\n",
              "    }\n",
              "</style>\n",
              "<table border=\"1\" class=\"dataframe\">\n",
              "  <thead>\n",
              "    <tr style=\"text-align: right;\">\n",
              "      <th></th>\n",
              "      <th>match_id</th>\n",
              "      <th>innings</th>\n",
              "      <th>batting_team</th>\n",
              "      <th>bowling_team</th>\n",
              "      <th>overs</th>\n",
              "      <th>over</th>\n",
              "      <th>ball</th>\n",
              "      <th>Total_runs</th>\n",
              "      <th>player_dismissed</th>\n",
              "      <th>over_type</th>\n",
              "      <th>number_of_dotballs</th>\n",
              "    </tr>\n",
              "  </thead>\n",
              "  <tbody>\n",
              "    <tr>\n",
              "      <th>0</th>\n",
              "      <td>335982</td>\n",
              "      <td>1</td>\n",
              "      <td>Kolkata Knight Riders</td>\n",
              "      <td>Royal Challengers Bangalore</td>\n",
              "      <td>0.1</td>\n",
              "      <td>0</td>\n",
              "      <td>1</td>\n",
              "      <td>1</td>\n",
              "      <td>0</td>\n",
              "      <td>PowerPlay</td>\n",
              "      <td>0.0</td>\n",
              "    </tr>\n",
              "    <tr>\n",
              "      <th>1</th>\n",
              "      <td>335982</td>\n",
              "      <td>1</td>\n",
              "      <td>Kolkata Knight Riders</td>\n",
              "      <td>Royal Challengers Bangalore</td>\n",
              "      <td>0.2</td>\n",
              "      <td>0</td>\n",
              "      <td>2</td>\n",
              "      <td>0</td>\n",
              "      <td>0</td>\n",
              "      <td>PowerPlay</td>\n",
              "      <td>1.0</td>\n",
              "    </tr>\n",
              "    <tr>\n",
              "      <th>2</th>\n",
              "      <td>335982</td>\n",
              "      <td>1</td>\n",
              "      <td>Kolkata Knight Riders</td>\n",
              "      <td>Royal Challengers Bangalore</td>\n",
              "      <td>0.3</td>\n",
              "      <td>0</td>\n",
              "      <td>3</td>\n",
              "      <td>1</td>\n",
              "      <td>0</td>\n",
              "      <td>PowerPlay</td>\n",
              "      <td>0.0</td>\n",
              "    </tr>\n",
              "    <tr>\n",
              "      <th>3</th>\n",
              "      <td>335982</td>\n",
              "      <td>1</td>\n",
              "      <td>Kolkata Knight Riders</td>\n",
              "      <td>Royal Challengers Bangalore</td>\n",
              "      <td>0.4</td>\n",
              "      <td>0</td>\n",
              "      <td>4</td>\n",
              "      <td>0</td>\n",
              "      <td>0</td>\n",
              "      <td>PowerPlay</td>\n",
              "      <td>1.0</td>\n",
              "    </tr>\n",
              "    <tr>\n",
              "      <th>4</th>\n",
              "      <td>335982</td>\n",
              "      <td>1</td>\n",
              "      <td>Kolkata Knight Riders</td>\n",
              "      <td>Royal Challengers Bangalore</td>\n",
              "      <td>0.5</td>\n",
              "      <td>0</td>\n",
              "      <td>5</td>\n",
              "      <td>0</td>\n",
              "      <td>0</td>\n",
              "      <td>PowerPlay</td>\n",
              "      <td>1.0</td>\n",
              "    </tr>\n",
              "  </tbody>\n",
              "</table>\n",
              "</div>"
            ],
            "text/plain": [
              "   match_id  innings  ...  over_type number_of_dotballs\n",
              "0    335982        1  ...  PowerPlay                0.0\n",
              "1    335982        1  ...  PowerPlay                1.0\n",
              "2    335982        1  ...  PowerPlay                0.0\n",
              "3    335982        1  ...  PowerPlay                1.0\n",
              "4    335982        1  ...  PowerPlay                1.0\n",
              "\n",
              "[5 rows x 11 columns]"
            ]
          },
          "metadata": {
            "tags": []
          },
          "execution_count": 20
        }
      ]
    },
    {
      "cell_type": "code",
      "metadata": {
        "colab": {
          "base_uri": "https://localhost:8080/"
        },
        "id": "HVaMPpd8twCu",
        "outputId": "115ba2bc-0040-4dc1-97ed-8822e399c204"
      },
      "source": [
        "df.groupby(['match_id','innings'])['Total_runs'].transform('sum')"
      ],
      "execution_count": 21,
      "outputs": [
        {
          "output_type": "execute_result",
          "data": {
            "text/plain": [
              "0         222\n",
              "1         222\n",
              "2         222\n",
              "3         222\n",
              "4         222\n",
              "         ... \n",
              "200658    167\n",
              "200659    167\n",
              "200660    167\n",
              "200661    167\n",
              "200662    167\n",
              "Name: Total_runs, Length: 173644, dtype: int64"
            ]
          },
          "metadata": {
            "tags": []
          },
          "execution_count": 21
        }
      ]
    },
    {
      "cell_type": "code",
      "metadata": {
        "id": "xj6szD6HtwCv"
      },
      "source": [
        "df['total']=df.groupby(['match_id','innings'])['Total_runs'].transform('sum')"
      ],
      "execution_count": 22,
      "outputs": []
    },
    {
      "cell_type": "code",
      "metadata": {
        "id": "BynSoKVttwCv"
      },
      "source": [
        "df['total_score']=df.groupby(['match_id', 'innings'])['Total_runs'].apply(lambda x: x.cumsum())"
      ],
      "execution_count": 23,
      "outputs": []
    },
    {
      "cell_type": "code",
      "metadata": {
        "colab": {
          "base_uri": "https://localhost:8080/",
          "height": 719
        },
        "id": "X_dYN9aftwCv",
        "outputId": "5070ee1c-3119-4a9d-a2e4-8cd8645fb936"
      },
      "source": [
        "df.head(10)"
      ],
      "execution_count": 24,
      "outputs": [
        {
          "output_type": "execute_result",
          "data": {
            "text/html": [
              "<div>\n",
              "<style scoped>\n",
              "    .dataframe tbody tr th:only-of-type {\n",
              "        vertical-align: middle;\n",
              "    }\n",
              "\n",
              "    .dataframe tbody tr th {\n",
              "        vertical-align: top;\n",
              "    }\n",
              "\n",
              "    .dataframe thead th {\n",
              "        text-align: right;\n",
              "    }\n",
              "</style>\n",
              "<table border=\"1\" class=\"dataframe\">\n",
              "  <thead>\n",
              "    <tr style=\"text-align: right;\">\n",
              "      <th></th>\n",
              "      <th>match_id</th>\n",
              "      <th>innings</th>\n",
              "      <th>batting_team</th>\n",
              "      <th>bowling_team</th>\n",
              "      <th>overs</th>\n",
              "      <th>over</th>\n",
              "      <th>ball</th>\n",
              "      <th>Total_runs</th>\n",
              "      <th>player_dismissed</th>\n",
              "      <th>over_type</th>\n",
              "      <th>number_of_dotballs</th>\n",
              "      <th>total</th>\n",
              "      <th>total_score</th>\n",
              "    </tr>\n",
              "  </thead>\n",
              "  <tbody>\n",
              "    <tr>\n",
              "      <th>0</th>\n",
              "      <td>335982</td>\n",
              "      <td>1</td>\n",
              "      <td>Kolkata Knight Riders</td>\n",
              "      <td>Royal Challengers Bangalore</td>\n",
              "      <td>0.1</td>\n",
              "      <td>0</td>\n",
              "      <td>1</td>\n",
              "      <td>1</td>\n",
              "      <td>0</td>\n",
              "      <td>PowerPlay</td>\n",
              "      <td>0.0</td>\n",
              "      <td>222</td>\n",
              "      <td>1</td>\n",
              "    </tr>\n",
              "    <tr>\n",
              "      <th>1</th>\n",
              "      <td>335982</td>\n",
              "      <td>1</td>\n",
              "      <td>Kolkata Knight Riders</td>\n",
              "      <td>Royal Challengers Bangalore</td>\n",
              "      <td>0.2</td>\n",
              "      <td>0</td>\n",
              "      <td>2</td>\n",
              "      <td>0</td>\n",
              "      <td>0</td>\n",
              "      <td>PowerPlay</td>\n",
              "      <td>1.0</td>\n",
              "      <td>222</td>\n",
              "      <td>1</td>\n",
              "    </tr>\n",
              "    <tr>\n",
              "      <th>2</th>\n",
              "      <td>335982</td>\n",
              "      <td>1</td>\n",
              "      <td>Kolkata Knight Riders</td>\n",
              "      <td>Royal Challengers Bangalore</td>\n",
              "      <td>0.3</td>\n",
              "      <td>0</td>\n",
              "      <td>3</td>\n",
              "      <td>1</td>\n",
              "      <td>0</td>\n",
              "      <td>PowerPlay</td>\n",
              "      <td>0.0</td>\n",
              "      <td>222</td>\n",
              "      <td>2</td>\n",
              "    </tr>\n",
              "    <tr>\n",
              "      <th>3</th>\n",
              "      <td>335982</td>\n",
              "      <td>1</td>\n",
              "      <td>Kolkata Knight Riders</td>\n",
              "      <td>Royal Challengers Bangalore</td>\n",
              "      <td>0.4</td>\n",
              "      <td>0</td>\n",
              "      <td>4</td>\n",
              "      <td>0</td>\n",
              "      <td>0</td>\n",
              "      <td>PowerPlay</td>\n",
              "      <td>1.0</td>\n",
              "      <td>222</td>\n",
              "      <td>2</td>\n",
              "    </tr>\n",
              "    <tr>\n",
              "      <th>4</th>\n",
              "      <td>335982</td>\n",
              "      <td>1</td>\n",
              "      <td>Kolkata Knight Riders</td>\n",
              "      <td>Royal Challengers Bangalore</td>\n",
              "      <td>0.5</td>\n",
              "      <td>0</td>\n",
              "      <td>5</td>\n",
              "      <td>0</td>\n",
              "      <td>0</td>\n",
              "      <td>PowerPlay</td>\n",
              "      <td>1.0</td>\n",
              "      <td>222</td>\n",
              "      <td>2</td>\n",
              "    </tr>\n",
              "    <tr>\n",
              "      <th>5</th>\n",
              "      <td>335982</td>\n",
              "      <td>1</td>\n",
              "      <td>Kolkata Knight Riders</td>\n",
              "      <td>Royal Challengers Bangalore</td>\n",
              "      <td>0.6</td>\n",
              "      <td>0</td>\n",
              "      <td>6</td>\n",
              "      <td>0</td>\n",
              "      <td>0</td>\n",
              "      <td>PowerPlay</td>\n",
              "      <td>1.0</td>\n",
              "      <td>222</td>\n",
              "      <td>2</td>\n",
              "    </tr>\n",
              "    <tr>\n",
              "      <th>6</th>\n",
              "      <td>335982</td>\n",
              "      <td>1</td>\n",
              "      <td>Kolkata Knight Riders</td>\n",
              "      <td>Royal Challengers Bangalore</td>\n",
              "      <td>0.7</td>\n",
              "      <td>0</td>\n",
              "      <td>7</td>\n",
              "      <td>1</td>\n",
              "      <td>0</td>\n",
              "      <td>PowerPlay</td>\n",
              "      <td>0.0</td>\n",
              "      <td>222</td>\n",
              "      <td>3</td>\n",
              "    </tr>\n",
              "    <tr>\n",
              "      <th>7</th>\n",
              "      <td>335982</td>\n",
              "      <td>1</td>\n",
              "      <td>Kolkata Knight Riders</td>\n",
              "      <td>Royal Challengers Bangalore</td>\n",
              "      <td>1.1</td>\n",
              "      <td>1</td>\n",
              "      <td>1</td>\n",
              "      <td>0</td>\n",
              "      <td>0</td>\n",
              "      <td>PowerPlay</td>\n",
              "      <td>1.0</td>\n",
              "      <td>222</td>\n",
              "      <td>3</td>\n",
              "    </tr>\n",
              "    <tr>\n",
              "      <th>8</th>\n",
              "      <td>335982</td>\n",
              "      <td>1</td>\n",
              "      <td>Kolkata Knight Riders</td>\n",
              "      <td>Royal Challengers Bangalore</td>\n",
              "      <td>1.2</td>\n",
              "      <td>1</td>\n",
              "      <td>2</td>\n",
              "      <td>4</td>\n",
              "      <td>0</td>\n",
              "      <td>PowerPlay</td>\n",
              "      <td>0.0</td>\n",
              "      <td>222</td>\n",
              "      <td>7</td>\n",
              "    </tr>\n",
              "    <tr>\n",
              "      <th>9</th>\n",
              "      <td>335982</td>\n",
              "      <td>1</td>\n",
              "      <td>Kolkata Knight Riders</td>\n",
              "      <td>Royal Challengers Bangalore</td>\n",
              "      <td>1.3</td>\n",
              "      <td>1</td>\n",
              "      <td>3</td>\n",
              "      <td>4</td>\n",
              "      <td>0</td>\n",
              "      <td>PowerPlay</td>\n",
              "      <td>0.0</td>\n",
              "      <td>222</td>\n",
              "      <td>11</td>\n",
              "    </tr>\n",
              "  </tbody>\n",
              "</table>\n",
              "</div>"
            ],
            "text/plain": [
              "   match_id  innings  ... total total_score\n",
              "0    335982        1  ...   222           1\n",
              "1    335982        1  ...   222           1\n",
              "2    335982        1  ...   222           2\n",
              "3    335982        1  ...   222           2\n",
              "4    335982        1  ...   222           2\n",
              "5    335982        1  ...   222           2\n",
              "6    335982        1  ...   222           3\n",
              "7    335982        1  ...   222           3\n",
              "8    335982        1  ...   222           7\n",
              "9    335982        1  ...   222          11\n",
              "\n",
              "[10 rows x 13 columns]"
            ]
          },
          "metadata": {
            "tags": []
          },
          "execution_count": 24
        }
      ]
    },
    {
      "cell_type": "markdown",
      "metadata": {
        "id": "O2O-hHnrtwCv"
      },
      "source": [
        "# Runs scored in previous 30 balls"
      ]
    },
    {
      "cell_type": "code",
      "metadata": {
        "id": "7OIaWKcItwCv"
      },
      "source": [
        "#tmp=df.groupby(['match_id','innings','over_type'])['Total_runs'].transform(lambda x: x.cumsum()).reset_index()"
      ],
      "execution_count": 25,
      "outputs": []
    },
    {
      "cell_type": "code",
      "metadata": {
        "id": "tWbe0w5JtwCw"
      },
      "source": [
        "tmp=df.groupby(['match_id','innings'])['Total_runs'].rolling(min_periods=1, window=30).sum().reset_index()"
      ],
      "execution_count": 26,
      "outputs": []
    },
    {
      "cell_type": "code",
      "metadata": {
        "id": "69iufa0HtwCw"
      },
      "source": [
        "df['prev_30_runs']=tmp['Total_runs'].to_list()"
      ],
      "execution_count": 27,
      "outputs": []
    },
    {
      "cell_type": "markdown",
      "metadata": {
        "id": "C5Tb2ZiGtwCw"
      },
      "source": [
        "# Wickets fallen in previous 30 balls"
      ]
    },
    {
      "cell_type": "code",
      "metadata": {
        "colab": {
          "base_uri": "https://localhost:8080/"
        },
        "id": "bJ0NwbKXtwCw",
        "outputId": "5c2d4de9-90e2-4816-cbe7-e90ecf9b6af1"
      },
      "source": [
        "df['player_dismissed'].unique()"
      ],
      "execution_count": 28,
      "outputs": [
        {
          "output_type": "execute_result",
          "data": {
            "text/plain": [
              "array(['0', 'SC Ganguly', 'RT Ponting', 'DJ Hussey', 'R Dravid',\n",
              "       'V Kohli', 'JH Kallis', 'W Jaffer', 'MV Boucher', 'B Akhil',\n",
              "       'CL White', 'AA Noffke', 'Z Khan', 'SB Joshi', 'PA Patel',\n",
              "       'ML Hayden', 'MS Dhoni', 'SK Raina', 'JDP Oram', 'K Goel',\n",
              "       'JR Hopes', 'Yuvraj Singh', 'KC Sangakkara', 'T Kohli',\n",
              "       'YK Pathan', 'SR Watson', 'DS Lehmann', 'M Kaif', 'M Rawat',\n",
              "       'RA Jadeja', 'SK Warne', 'V Sehwag', 'L Ronchi', 'DJ Thornely',\n",
              "       'ST Jayasuriya', 'PR Shah', 'RV Uthappa', 'AM Nayar', 'SM Pollock',\n",
              "       'S Chanderpaul', 'LRPL Taylor', 'Y Venugopal Rao', 'VVS Laxman',\n",
              "       'AC Gilchrist', 'RG Sharma', 'SB Styris', 'AS Yadav', 'A Symonds',\n",
              "       'WPUJC Vaas', 'SB Bangar', 'PP Ojha', 'BB McCullum', 'WP Saha',\n",
              "       'Mohammad Hafeez', 'DPMD Jayawardene', 'IK Pathan', 'B Lee',\n",
              "       'S Sohal', 'Kamran Akmal', 'Shahid Afridi', 'G Gambhir',\n",
              "       'MEK Hussey', 'DJ Bravo', 'MA Khote', 'Harbhajan Singh',\n",
              "       'GC Smith', 'D Salunkhe', 'RR Sarwan', 'PP Chawla', 'S Sreesanth',\n",
              "       'VRV Singh', 'SS Tiwary', 'P Kumar', 'AB Agarkar', 'M Kartik',\n",
              "       'LR Shukla', 'AM Rahane', 'S Dhawan', 'Shoaib Malik', 'KD Karthik',\n",
              "       'R Bhatia', 'MK Tiwary', 'MF Maharoof', 'SM Katich',\n",
              "       'TM Srivastava', 'B Chipli', 'DW Steyn', 'DB Das', 'MK Pandey',\n",
              "       'HH Gibbs', 'DNT Zoysa', 'D Kalyankrishna', 'SA Asnodkar',\n",
              "       'Salman Butt', 'BJ Hodge', 'Umar Gul', 'AB Dinda', 'SP Fleming',\n",
              "       'S Vidyut', 'JA Morkel', 'LPC Silva', 'DB Ravi Teja', 'RP Singh',\n",
              "       'Misbah-ul-Haq', 'SE Marsh', 'YV Takawale', 'AB de Villiers',\n",
              "       'PJ Sangwan', 'Mohammad Asif', 'GD McGrath', 'S Badrinath',\n",
              "       'Joginder Sharma', 'M Muralitharan', 'M Ntini', 'DT Patil',\n",
              "       'A Kumble', 'S Anirudha', 'Sohail Tanvir', 'SK Trivedi',\n",
              "       'CK Kapugedera', 'A Chopra', 'T Taibu', 'J Arunkumar',\n",
              "       'SP Goswami', 'R Vinay Kumar', 'A Mishra', 'AD Mascarenhas',\n",
              "       'TM Dilshan', 'VY Mahesh', 'SR Tendulkar', 'Younis Khan',\n",
              "       'Niraj Patel', 'I Sharma', 'Shoaib Akhtar', 'H Das', 'DR Smith',\n",
              "       'SD Chitnis', 'A Nehra', 'VS Yeligati', 'MS Gony', 'L Balaji',\n",
              "       'LA Pomersbach', 'A Nel', 'A Mukund', 'WA Mota', 'JP Duminy',\n",
              "       'A Flintoff', 'JD Ryder', 'KP Pietersen', 'T Henderson',\n",
              "       'MM Patel', 'Kamran Khan', 'RS Bopara', 'CH Gayle', 'MC Henriques',\n",
              "       'R Bishnoi', 'KV Sharma', 'PC Valthaty', 'RJ Quiney',\n",
              "       'Yashpal Singh', 'Pankaj Singh', 'FH Edwards', 'AS Raut',\n",
              "       'AN Ghosh', 'BAW Mendis', 'DL Vettori', 'RE van der Merwe',\n",
              "       'RR Powar', 'AA Bilakhia', 'TL Suman', 'Shoaib Ahmed', 'GR Napier',\n",
              "       'MN van Wyk', 'NV Ojha', 'LA Carseldine', 'M Vijay', 'SB Jakati',\n",
              "       'DA Warner', 'M Manhas', 'RJ Harris', 'D du Preez', 'RR Raje',\n",
              "       'DS Kulkarni', 'M Morkel', 'AD Mathews', 'S Tyagi', 'C Nanda',\n",
              "       'SL Malinga', 'J Botha', 'A Singh', 'GJ Bailey', 'AB McDonald',\n",
              "       'Y Nagar', 'SS Shaikh', 'R Ashwin', 'T Thushara',\n",
              "       'Mohammad Ashraful', 'CA Pujara', 'Anirudh Singh', 'AP Tare',\n",
              "       'AT Rayudu', 'R Sathish', 'AA Jhunjhunwala', 'P Dogra', 'A Uniyal',\n",
              "       'MS Bisla', 'EJG Morgan', 'JM Kemp', 'OA Shah', 'RS Gavaskar',\n",
              "       'SE Bond', 'KA Pollard', 'DP Nannes', 'MJ Lumb', 'DR Martyn',\n",
              "       'S Narwal', 'AB Barath', 'FY Fazal', 'MD Mishra', 'S Ladda',\n",
              "       'J Theron', 'SJ Srivastava', 'R Sharma', 'Mandeep Singh',\n",
              "       'AC Voges', 'Jaskaran Singh', 'KAJ Roach', 'PD Collingwood',\n",
              "       'CK Langeveldt', 'VS Malik', 'KM Jadhav', 'SW Tait', 'A Mithun',\n",
              "       'AP Dole', 'Harmeet Singh', 'R McLaren', 'S Sriram', 'KP Appanna',\n",
              "       'C Madan', 'AG Paunikar', 'MR Marsh', 'AJ Finch', 'STR Binny',\n",
              "       'B Sumanth', 'IR Jaggi', 'DT Christian', 'UBT Chand', 'UT Yadav',\n",
              "       'DJ Jacobs', 'AL Menaria', 'MA Agarwal', 'AUK Pathan',\n",
              "       'Sunny Singh', 'JJ van der Wath', 'R Ninan', 'S Randiv',\n",
              "       'BJ Haddin', 'MS Wade', 'RN ten Doeschate', 'TR Birt',\n",
              "       'Bipul Sharma', 'AC Blizzard', 'CA Ingram', 'S Nadeem',\n",
              "       'DH Yagnik', 'KB Arun Karthik', 'BA Bhatt', 'Shakib Al Hasan',\n",
              "       'JEC Franklin', 'F du Plessis', 'DE Bollinger', 'RE Levi',\n",
              "       'HV Patel', 'GJ Maxwell', 'DJ Harris', 'Ankit Sharma', 'SP Narine',\n",
              "       'KK Cooper', 'AA Chavan', 'GB Hogg', 'RR Bhatkal', 'CJ McKay',\n",
              "       'N Saini', 'DA Miller', 'Azhar Mahmood', 'RJ Peterson',\n",
              "       'A Ashish Reddy', 'V Pratap Singh', 'Gurkeerat Singh', 'VR Aaron',\n",
              "       'PA Reddy', 'AD Russell', 'CA Lynn', 'P Negi', 'Sunny Gupta',\n",
              "       'MC Juneja', 'KK Nair', 'MDKJ Perera', 'B Laughlin', 'NLTC Perera',\n",
              "       'Mohammed Shami', 'BMAJ Mendis', 'M Vohra', 'GH Vihari',\n",
              "       'R Rampaul', 'P Awana', 'SMSM Senanayake', 'BJ Rohrer', 'KL Rahul',\n",
              "       'J Syed Mohammad', 'R Dhawan', 'MG Johnson', 'Q de Kock',\n",
              "       'BB Samantray', 'JP Faulkner', 'X Thalaivan Sargunam', 'DJG Sammy',\n",
              "       'SV Samson', 'CH Morris', 'MM Sharma', 'CM Gautam', 'Sachin Baby',\n",
              "       'NM Coulter-Nile', 'CJ Anderson', 'NJ Maddinson', 'AR Patel',\n",
              "       'JDS Neesham', 'B Kumar', 'SPD Smith', 'TG Southee', 'PV Tambe',\n",
              "       'S Rana', 'MA Starc', 'SA Yadav', 'BR Dunk', 'RR Rossouw',\n",
              "       'KW Richardson', 'Shivam Sharma', 'LMP Simmons', 'VH Zol',\n",
              "       'BCJ Cutting', 'Imran Tahir', 'R Shukla', 'WD Parnell',\n",
              "       'BE Hendricks', 'M de Lange', 'S Gopal', 'R Tewatia', 'JO Holder',\n",
              "       'JD Unadkat', 'SS Iyer', 'DJ Hooda', 'SA Abbott', 'AN Ahmed',\n",
              "       'KS Williamson', 'Iqbal Abdulla', 'SN Khan', 'D Wiese',\n",
              "       'HH Pandya', 'MJ McClenaghan', 'Anureet Singh', 'DJ Muthuswami',\n",
              "       'PJ Cummins', 'Karanveer Singh', 'Sandeep Sharma', 'J Suchith',\n",
              "       'CR Brathwaite', 'C Munro', 'JC Buttler', 'MJ Guptill', 'P Sahu',\n",
              "       'TM Head', 'KH Pandya', 'NS Naik', 'SW Billings', 'RR Pant',\n",
              "       'Parvez Rasool', 'MP Stoinis', 'Swapnil Singh', 'HM Amla',\n",
              "       'JJ Bumrah', 'N Rana', 'F Behardien', 'KJ Abbott', 'J Yadav',\n",
              "       'CJ Jordan', 'S Aravind', 'TS Mills', 'YS Chahal', 'Vishnu Vinod',\n",
              "       'CR Woakes', 'V Shankar', 'Rashid Khan', 'C de Grandhomme',\n",
              "       'KC Cariappa', 'Mohammad Nabi', 'K Rabada', 'Kuldeep Yadav',\n",
              "       'S Badree', 'SP Jackson', 'A Choudhary', 'MN Samuels',\n",
              "       'AS Rajpoot', 'E Lewis', 'Ishan Kishan', 'DL Chahar', 'MA Wood',\n",
              "       'RK Singh', 'DJM Short', 'BA Stokes', 'RA Tripathi', 'K Gowtham',\n",
              "       'S Kaul', 'AJ Tye', 'Mujeeb Ur Rahman', 'Shubman Gill',\n",
              "       'Shivam Mavi', 'Washington Sundar', 'TK Curran', 'JJ Roy',\n",
              "       'TA Boult', 'H Klaasen', 'RK Bhui', 'JC Archer', 'PP Shaw',\n",
              "       'LE Plunkett', 'Basil Thampi', 'M Markande', 'Mustafizur Rahman',\n",
              "       'BB Sran', 'AD Hales', 'MK Lomror', 'M Ashwin', 'Mohammed Siraj',\n",
              "       'DR Shorey', 'MM Ali', 'AD Nath', 'P Chopra', 'IS Sodhi',\n",
              "       'Abhishek Sharma', 'JPR Scantlebury-Searles', 'SO Hetmyer',\n",
              "       'S Dube', 'NA Saini', 'JM Bairstow', 'KMA Paul', 'N Pooran',\n",
              "       'P Ray Barman', 'SM Curran', 'GC Viljoen', 'S Lamichhane',\n",
              "       'RD Chahar', 'M Prasidh Krishna', 'SD Lad', 'R Parag', 'JL Denly',\n",
              "       'LS Livingstone', 'KK Ahmed', 'AJ Turner', 'SN Thakur',\n",
              "       'SE Rutherford', 'MJ Santner', 'P Simran Singh', 'JL Pattinson',\n",
              "       'T Banton', 'D Padikkal', 'YBK Jaiswal', 'RD Gaikwad',\n",
              "       'TU Deshpande', 'Abdul Samad', 'PK Garg', 'JR Philippe',\n",
              "       'KL Nagarkoti', 'CV Varun', 'I Udana', 'Ravi Bishnoi', 'AT Carey',\n",
              "       'N Jagadeesan', 'A Nortje', 'Kartik Tyagi', 'SS Cottrell',\n",
              "       'Arshdeep Singh', 'DR Sams', 'M Jansen', 'RM Patidar',\n",
              "       'Shahbaz Ahmed', 'KA Jamieson', 'JA Richardson', 'Lalit Yadav',\n",
              "       'M Shahrukh Khan', 'Virat Singh', 'FA Allen', 'C Sakariya',\n",
              "       'DJ Malan'], dtype=object)"
            ]
          },
          "metadata": {
            "tags": []
          },
          "execution_count": 28
        }
      ]
    },
    {
      "cell_type": "code",
      "metadata": {
        "id": "y0pFkks0twCx"
      },
      "source": [
        "df['player_dismissed']=np.where(df['player_dismissed']==0, 0, 1)"
      ],
      "execution_count": 29,
      "outputs": []
    },
    {
      "cell_type": "code",
      "metadata": {
        "id": "QA_DOd3wtwCx"
      },
      "source": [
        "df['total_wickets']=df.groupby(['match_id', 'innings'])['player_dismissed'].apply(lambda x: x.cumsum())"
      ],
      "execution_count": 30,
      "outputs": []
    },
    {
      "cell_type": "code",
      "metadata": {
        "id": "b3w4nXU9twCx"
      },
      "source": [
        "tmp=df.groupby(['match_id','innings'])['player_dismissed'].rolling(min_periods=1, window=30).sum().reset_index()\n",
        "#tmp=tmp=df.groupby(['match_id','innings','over_type'])['player_dismissed'].transform(lambda x: x.cumsum()).reset_index()\n",
        "df['prev_30_wickets']=tmp['player_dismissed'].to_list()"
      ],
      "execution_count": 31,
      "outputs": []
    },
    {
      "cell_type": "markdown",
      "metadata": {
        "id": "TVvwhr-7twCx"
      },
      "source": [
        "# Dot balls in previous 30 balls"
      ]
    },
    {
      "cell_type": "code",
      "metadata": {
        "id": "oL3BRrUQtwCx"
      },
      "source": [
        "tmp=df.groupby(['match_id','innings'])['number_of_dotballs'].rolling(min_periods=1, window=30).sum().reset_index()\n",
        "#tmp=df.groupby(['match_id','innings','over_type'])['number_of_dotballs'].transform(lambda x: x.cumsum()).reset_index()\n",
        "\n",
        "df['prev_30_dot_balls']=tmp['number_of_dotballs'].to_list()"
      ],
      "execution_count": 32,
      "outputs": []
    },
    {
      "cell_type": "markdown",
      "metadata": {
        "id": "yRaicWgDtwCy"
      },
      "source": [
        "# Boundaries in previous 30 balls"
      ]
    },
    {
      "cell_type": "code",
      "metadata": {
        "id": "vgK6MHHYtwCy"
      },
      "source": [
        "df['prev_30_boundaries']=df['Total_runs']\n",
        "df['prev_30_boundaries']=np.where(df['prev_30_boundaries']>3, 1, 0)\n",
        "\n",
        "tmp=df.groupby(['match_id','innings'])['prev_30_boundaries'].rolling(min_periods=1, window=30).sum().reset_index()\n",
        "#tmp=df.groupby(['match_id','innings','over_type'])['prev_30_boundaries'].transform(lambda x: x.cumsum()).reset_index()\n",
        "\n",
        "df['prev_30_boundaries']=tmp['prev_30_boundaries'].to_list()"
      ],
      "execution_count": 33,
      "outputs": []
    },
    {
      "cell_type": "code",
      "metadata": {
        "colab": {
          "base_uri": "https://localhost:8080/"
        },
        "id": "tMAfX7rBtwCy",
        "outputId": "5cfbca3e-e63b-4494-ee2f-4fe963393494"
      },
      "source": [
        "df.dtypes"
      ],
      "execution_count": 34,
      "outputs": [
        {
          "output_type": "execute_result",
          "data": {
            "text/plain": [
              "match_id                int64\n",
              "innings                 int64\n",
              "batting_team           object\n",
              "bowling_team           object\n",
              "overs                 float64\n",
              "over                   object\n",
              "ball                   object\n",
              "Total_runs              int64\n",
              "player_dismissed        int64\n",
              "over_type              object\n",
              "number_of_dotballs    float64\n",
              "total                   int64\n",
              "total_score             int64\n",
              "prev_30_runs          float64\n",
              "total_wickets           int64\n",
              "prev_30_wickets       float64\n",
              "prev_30_dot_balls     float64\n",
              "prev_30_boundaries    float64\n",
              "dtype: object"
            ]
          },
          "metadata": {
            "tags": []
          },
          "execution_count": 34
        }
      ]
    },
    {
      "cell_type": "code",
      "metadata": {
        "id": "kjxLnipEtwCy"
      },
      "source": [
        "convert_dict = {'prev_30_runs': int, \n",
        "                'prev_30_wickets': int,\n",
        "                'prev_30_dot_balls':int,\n",
        "                'prev_30_boundaries':int\n",
        "               } \n",
        "  \n",
        "df = df.astype(convert_dict)"
      ],
      "execution_count": 35,
      "outputs": []
    },
    {
      "cell_type": "code",
      "metadata": {
        "id": "DU6a66YPtwCz"
      },
      "source": [
        "df=pd.get_dummies(data=df, columns=['batting_team', 'bowling_team'])"
      ],
      "execution_count": 36,
      "outputs": []
    },
    {
      "cell_type": "code",
      "metadata": {
        "colab": {
          "base_uri": "https://localhost:8080/"
        },
        "id": "t360FvIftwCz",
        "outputId": "daaef605-4f66-4f42-d3d2-52cc14ebf707"
      },
      "source": [
        "df.columns"
      ],
      "execution_count": 37,
      "outputs": [
        {
          "output_type": "execute_result",
          "data": {
            "text/plain": [
              "Index(['match_id', 'innings', 'overs', 'over', 'ball', 'Total_runs',\n",
              "       'player_dismissed', 'over_type', 'number_of_dotballs', 'total',\n",
              "       'total_score', 'prev_30_runs', 'total_wickets', 'prev_30_wickets',\n",
              "       'prev_30_dot_balls', 'prev_30_boundaries',\n",
              "       'batting_team_Chennai Super Kings', 'batting_team_Delhi Capitals',\n",
              "       'batting_team_Kolkata Knight Riders', 'batting_team_Mumbai Indians',\n",
              "       'batting_team_Punjab Kings', 'batting_team_Rajasthan Royals',\n",
              "       'batting_team_Royal Challengers Bangalore',\n",
              "       'batting_team_Sunrisers Hyderabad', 'bowling_team_Chennai Super Kings',\n",
              "       'bowling_team_Delhi Capitals', 'bowling_team_Kolkata Knight Riders',\n",
              "       'bowling_team_Mumbai Indians', 'bowling_team_Punjab Kings',\n",
              "       'bowling_team_Rajasthan Royals',\n",
              "       'bowling_team_Royal Challengers Bangalore',\n",
              "       'bowling_team_Sunrisers Hyderabad'],\n",
              "      dtype='object')"
            ]
          },
          "metadata": {
            "tags": []
          },
          "execution_count": 37
        }
      ]
    },
    {
      "cell_type": "code",
      "metadata": {
        "id": "KyolK1iptwCz"
      },
      "source": [
        "df=df[['match_id','batting_team_Chennai Super Kings', 'batting_team_Delhi Capitals',\n",
        "       'batting_team_Kolkata Knight Riders', 'batting_team_Mumbai Indians',\n",
        "       'batting_team_Punjab Kings', 'batting_team_Rajasthan Royals',\n",
        "       'batting_team_Royal Challengers Bangalore',\n",
        "       'batting_team_Sunrisers Hyderabad', 'bowling_team_Chennai Super Kings',\n",
        "       'bowling_team_Delhi Capitals', 'bowling_team_Kolkata Knight Riders',\n",
        "       'bowling_team_Mumbai Indians', 'bowling_team_Punjab Kings',\n",
        "       'bowling_team_Rajasthan Royals',\n",
        "       'bowling_team_Royal Challengers Bangalore',\n",
        "       'bowling_team_Sunrisers Hyderabad','overs','total_score','total_wickets','prev_30_runs','prev_30_wickets','prev_30_dot_balls','prev_30_boundaries','total']]"
      ],
      "execution_count": 38,
      "outputs": []
    },
    {
      "cell_type": "markdown",
      "metadata": {
        "id": "x3Zeq2bbtwC0"
      },
      "source": [
        "# train_test_split"
      ]
    },
    {
      "cell_type": "code",
      "metadata": {
        "id": "kisb6-k4twC1"
      },
      "source": [
        "X = df.drop(labels=['total','match_id'], axis=1)\n",
        "y = df['total'].values"
      ],
      "execution_count": 39,
      "outputs": []
    },
    {
      "cell_type": "code",
      "metadata": {
        "id": "boQe1GEGtwC1"
      },
      "source": [
        "# split into train test sets\n",
        "X_train, X_test, y_train, y_test = train_test_split(X, y, test_size=0.25,random_state=42,stratify=y)"
      ],
      "execution_count": 40,
      "outputs": []
    },
    {
      "cell_type": "code",
      "metadata": {
        "colab": {
          "base_uri": "https://localhost:8080/"
        },
        "id": "EaeBFwGQtwC1",
        "outputId": "96f24ed8-da47-4b4a-9582-84cd492d2ba4"
      },
      "source": [
        "print(X_train.shape, X_test.shape, y_train.shape, y_test.shape)"
      ],
      "execution_count": 41,
      "outputs": [
        {
          "output_type": "stream",
          "text": [
            "(130233, 23) (43411, 23) (130233,) (43411,)\n"
          ],
          "name": "stdout"
        }
      ]
    },
    {
      "cell_type": "markdown",
      "metadata": {
        "id": "ZBOVepnltwC2"
      },
      "source": [
        "# Training Model"
      ]
    },
    {
      "cell_type": "code",
      "metadata": {
        "colab": {
          "base_uri": "https://localhost:8080/"
        },
        "id": "8GllQPNZtwC2",
        "outputId": "60bbcff3-019f-475a-e22c-779d835d4fc6"
      },
      "source": [
        "LR_model = LinearRegression()\n",
        "LR_model.fit(X_train,y_train)"
      ],
      "execution_count": 42,
      "outputs": [
        {
          "output_type": "execute_result",
          "data": {
            "text/plain": [
              "LinearRegression(copy_X=True, fit_intercept=True, n_jobs=None, normalize=False)"
            ]
          },
          "metadata": {
            "tags": []
          },
          "execution_count": 42
        }
      ]
    },
    {
      "cell_type": "code",
      "metadata": {
        "id": "fuIzL6iutwC3"
      },
      "source": [
        "# Creating a pickle file for the classifier\n",
        "filename = 'lr-model.pkl'\n",
        "pickle.dump(LR_model, open(filename, 'wb'))"
      ],
      "execution_count": 43,
      "outputs": []
    },
    {
      "cell_type": "code",
      "metadata": {
        "colab": {
          "base_uri": "https://localhost:8080/"
        },
        "id": "RuJVoAyqtwC3",
        "outputId": "d0100501-2dcd-4d89-900c-9ea28ce32d44"
      },
      "source": [
        "prediction=LR_model.predict(X_test)\n",
        "mean_absolute_error (y_test, prediction)"
      ],
      "execution_count": 44,
      "outputs": [
        {
          "output_type": "execute_result",
          "data": {
            "text/plain": [
              "17.39413100818986"
            ]
          },
          "metadata": {
            "tags": []
          },
          "execution_count": 44
        }
      ]
    },
    {
      "cell_type": "code",
      "metadata": {
        "id": "xt57YpULtwC3"
      },
      "source": [
        "# Function to predict scores :\n",
        "\n",
        "def score_prediction(Bat_Team,Bowl_Team,overs,total_score,total_wickets,prev_runs_30,prev_wickets_30,prev_30_dot_balls,prev_30_boundaries,model):\n",
        "\n",
        "    temp_array = list()\n",
        "\n",
        "    if Bat_Team == 'CSK':\n",
        "        temp_array = temp_array + [1,0,0,0,0,0,0,0]\n",
        "    elif Bat_Team == 'DC':\n",
        "        temp_array = temp_array + [0,1,0,0,0,0,0,0]\n",
        "    elif Bat_Team == 'KKR':\n",
        "        temp_array = temp_array + [0,0,1,0,0,0,0,0]\n",
        "    elif Bat_Team == 'MI':\n",
        "        temp_array = temp_array + [0,0,0,1,0,0,0,0]\n",
        "    elif Bat_Team == 'PK':\n",
        "        temp_array = temp_array + [0,0,0,0,1,0,0,0]\n",
        "    elif Bat_Team == 'RR':\n",
        "        temp_array = temp_array + [0,0,0,0,0,1,0,0]\n",
        "    elif Bat_Team == 'RCB':\n",
        "        temp_array = temp_array + [0,0,0,0,0,0,1,0]\n",
        "    elif Bat_Team == 'SRH':\n",
        "        temp_array = temp_array + [0,0,0,0,0,0,0,1]\n",
        "  \n",
        "    if Bowl_Team == 'CSK':\n",
        "        temp_array = temp_array + [1,0,0,0,0,0,0,0]\n",
        "    elif Bowl_Team == 'DC':\n",
        "        temp_array = temp_array + [0,1,0,0,0,0,0,0]\n",
        "    elif Bowl_Team == 'KKR':\n",
        "        temp_array = temp_array + [0,0,1,0,0,0,0,0]\n",
        "    elif Bowl_Team == 'MI':\n",
        "        temp_array = temp_array + [0,0,0,1,0,0,0,0]\n",
        "    elif Bowl_Team == 'PK':\n",
        "        temp_array = temp_array + [0,0,0,0,1,0,0,0]\n",
        "    elif Bowl_Team == 'RR':\n",
        "        temp_array = temp_array + [0,0,0,0,0,1,0,0]\n",
        "    elif Bowl_Team == 'RCB':\n",
        "        temp_array = temp_array + [0,0,0,0,0,0,1,0]\n",
        "    elif Bowl_Team == 'SRH':\n",
        "        temp_array = temp_array + [0,0,0,0,0,0,0,1]\n",
        "    \n",
        "    temp_array = temp_array + [overs,total_score,total_wickets,prev_runs_30,prev_wickets_30,prev_30_dot_balls,prev_30_boundaries]\n",
        "    data = np.array([temp_array])\n",
        "    my_prediction = int(model.predict(data))\n",
        "\n",
        "    print('Predicted score: ',my_prediction)\n",
        "    print('Predicted score range: ',my_prediction - 18, 'to' , my_prediction + 18)"
      ],
      "execution_count": 45,
      "outputs": []
    },
    {
      "cell_type": "code",
      "metadata": {
        "colab": {
          "base_uri": "https://localhost:8080/"
        },
        "id": "KGc82phvtwC3",
        "outputId": "12f65423-dddd-4deb-b573-35d8925f7a24"
      },
      "source": [
        "Bat_Team = 'MI' \n",
        "\n",
        "Bowl_Team = 'CSK' \n",
        "\n",
        "overs = 10\n",
        "\n",
        "total_score = 100 # current score\n",
        "\n",
        "total_wickets = 1 # current wicket \n",
        "\n",
        "prev_runs_30 = 50 # runs in last 30 balls\n",
        "\n",
        "prev_wickets_30 = 1 # wickets in last 30 balls\n",
        "\n",
        "prev_30_dot_balls = 8 # dots in last 30 balls\n",
        "\n",
        "prev_30_boundaries = 5 # boundaries in last 30 balls\n",
        "\n",
        "model=LR_model\n",
        "score_prediction(Bat_Team,Bowl_Team,overs,total_score,total_wickets,\n",
        "                         prev_runs_30,prev_wickets_30,prev_30_dot_balls,prev_30_boundaries,model)"
      ],
      "execution_count": 46,
      "outputs": [
        {
          "output_type": "stream",
          "text": [
            "Predicted score:  220\n",
            "Predicted score range:  202 to 238\n"
          ],
          "name": "stdout"
        }
      ]
    },
    {
      "cell_type": "code",
      "metadata": {
        "colab": {
          "base_uri": "https://localhost:8080/"
        },
        "id": "nGjHuoZEtwC4",
        "outputId": "f558dade-f304-4c7e-e378-bfc2f4e4983b"
      },
      "source": [
        "xg_reg = xgb.XGBRegressor()\n",
        "xg_reg.fit(X_train,y_train)\n",
        "prediction = xg_reg.predict(X_test)\n",
        "mean_absolute_error (y_test, prediction)\n",
        "filename = 'XGB-model.pkl'\n",
        "pickle.dump(LR_model, open(filename, 'wb'))"
      ],
      "execution_count": 47,
      "outputs": [
        {
          "output_type": "stream",
          "text": [
            "[12:01:18] WARNING: /workspace/src/objective/regression_obj.cu:152: reg:linear is now deprecated in favor of reg:squarederror.\n"
          ],
          "name": "stdout"
        }
      ]
    },
    {
      "cell_type": "code",
      "metadata": {
        "id": "OGlrO_xHcmZp"
      },
      "source": [
        "names = xg_reg.get_booster().feature_names"
      ],
      "execution_count": 50,
      "outputs": []
    },
    {
      "cell_type": "code",
      "metadata": {
        "id": "Jr_D-Q_jzScz"
      },
      "source": [
        "def xgboostscore_prediction(Bat_Team,Bowl_Team,overs,total_score,total_wickets,prev_runs_30,prev_wickets_30,prev_30_dot_balls,prev_30_boundaries):\n",
        "\n",
        "    temp_array = list()\n",
        "\n",
        "    if Bat_Team == 'CSK':\n",
        "        temp_array = temp_array + [1,0,0,0,0,0,0,0]\n",
        "    elif Bat_Team == 'DC':\n",
        "        temp_array = temp_array + [0,1,0,0,0,0,0,0]\n",
        "    elif Bat_Team == 'KKR':\n",
        "        temp_array = temp_array + [0,0,1,0,0,0,0,0]\n",
        "    elif Bat_Team == 'MI':\n",
        "        temp_array = temp_array + [0,0,0,1,0,0,0,0]\n",
        "    elif Bat_Team == 'PK':\n",
        "        temp_array = temp_array + [0,0,0,0,1,0,0,0]\n",
        "    elif Bat_Team == 'RR':\n",
        "        temp_array = temp_array + [0,0,0,0,0,1,0,0]\n",
        "    elif Bat_Team == 'RCB':\n",
        "        temp_array = temp_array + [0,0,0,0,0,0,1,0]\n",
        "    elif Bat_Team == 'SRH':\n",
        "        temp_array = temp_array + [0,0,0,0,0,0,0,1]\n",
        "  \n",
        "    if Bowl_Team == 'CSK':\n",
        "        temp_array = temp_array + [1,0,0,0,0,0,0,0]\n",
        "    elif Bowl_Team == 'DC':\n",
        "        temp_array = temp_array + [0,1,0,0,0,0,0,0]\n",
        "    elif Bowl_Team == 'KKR':\n",
        "        temp_array = temp_array + [0,0,1,0,0,0,0,0]\n",
        "    elif Bowl_Team == 'MI':\n",
        "        temp_array = temp_array + [0,0,0,1,0,0,0,0]\n",
        "    elif Bowl_Team == 'PK':\n",
        "        temp_array = temp_array + [0,0,0,0,1,0,0,0]\n",
        "    elif Bowl_Team == 'RR':\n",
        "        temp_array = temp_array + [0,0,0,0,0,1,0,0]\n",
        "    elif Bowl_Team == 'RCB':\n",
        "        temp_array = temp_array + [0,0,0,0,0,0,1,0]\n",
        "    elif Bowl_Team == 'SRH':\n",
        "        temp_array = temp_array + [0,0,0,0,0,0,0,1]\n",
        "    \n",
        "\n",
        "\n",
        "\n",
        "\n",
        "    temp_array = temp_array + [overs,total_score,total_wickets,prev_runs_30,prev_wickets_30,prev_30_dot_balls,prev_30_boundaries]\n",
        "    \n",
        "    data = np.array([temp_array])\n",
        "    data=pd.DataFrame(data,columns=names)\n",
        "    my_prediction = int(xg_reg.predict(data))\n",
        "\n",
        "    print('Predicted score: ',my_prediction)\n",
        "    print('Predicted score range: ',my_prediction - 18, 'to' , my_prediction + 18)"
      ],
      "execution_count": 58,
      "outputs": []
    },
    {
      "cell_type": "code",
      "metadata": {
        "colab": {
          "base_uri": "https://localhost:8080/"
        },
        "id": "WURYDXp00jb1",
        "outputId": "6dabb911-d21b-4f1d-d65a-21f7f1ccccdc"
      },
      "source": [
        "Bat_Team = 'CSK' \n",
        "\n",
        "Bowl_Team = 'MI' \n",
        "\n",
        "overs = 10\n",
        "\n",
        "total_score = 50 # current score\n",
        "\n",
        "total_wickets = 1 # current wicket \n",
        "\n",
        "prev_runs_30 = 20 # runs in last 30 balls\n",
        "\n",
        "prev_wickets_30 = 1 # wickets in last 30 balls\n",
        "\n",
        "prev_30_dot_balls = 8 # dots in last 30 balls\n",
        "\n",
        "prev_30_boundaries = 5 # boundaries in last 30 balls\n",
        "\n",
        "#model=xg_reg\n",
        "xgboostscore_prediction(Bat_Team,Bowl_Team,overs,total_score,total_wickets,prev_runs_30,prev_wickets_30,prev_30_dot_balls,prev_30_boundaries)"
      ],
      "execution_count": 60,
      "outputs": [
        {
          "output_type": "stream",
          "text": [
            "Predicted score:  162\n",
            "Predicted score range:  144 to 180\n"
          ],
          "name": "stdout"
        }
      ]
    },
    {
      "cell_type": "code",
      "metadata": {
        "id": "LJui_hJH0tlC"
      },
      "source": [
        ""
      ],
      "execution_count": null,
      "outputs": []
    }
  ]
}