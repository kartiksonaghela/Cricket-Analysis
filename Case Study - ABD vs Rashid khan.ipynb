{
 "cells": [
  {
   "cell_type": "code",
   "execution_count": 1,
   "metadata": {},
   "outputs": [],
   "source": [
    "import warnings\n",
    "warnings.filterwarnings('ignore')\n",
    "\n",
    "import pandas as pd\n",
    "import numpy as np\n",
    "\n",
    "import matplotlib.pyplot as plt\n",
    "\n",
    "#to display all rows columns \n",
    "pd.set_option('display.max_rows', None)\n",
    "pd.set_option('display.max_columns', None)  \n",
    "pd.set_option('display.expand_frame_repr', False)\n"
   ]
  },
  {
   "cell_type": "code",
   "execution_count": 2,
   "metadata": {},
   "outputs": [],
   "source": [
    "df = pd.read_csv('ipl_ball_by_ball_data.csv')"
   ]
  },
  {
   "cell_type": "code",
   "execution_count": 3,
   "metadata": {},
   "outputs": [
    {
     "data": {
      "text/html": [
       "<div>\n",
       "<style scoped>\n",
       "    .dataframe tbody tr th:only-of-type {\n",
       "        vertical-align: middle;\n",
       "    }\n",
       "\n",
       "    .dataframe tbody tr th {\n",
       "        vertical-align: top;\n",
       "    }\n",
       "\n",
       "    .dataframe thead th {\n",
       "        text-align: right;\n",
       "    }\n",
       "</style>\n",
       "<table border=\"1\" class=\"dataframe\">\n",
       "  <thead>\n",
       "    <tr style=\"text-align: right;\">\n",
       "      <th></th>\n",
       "      <th>match_id</th>\n",
       "      <th>season</th>\n",
       "      <th>start_date</th>\n",
       "      <th>venue</th>\n",
       "      <th>innings</th>\n",
       "      <th>ball</th>\n",
       "      <th>batting_team</th>\n",
       "      <th>bowling_team</th>\n",
       "      <th>striker</th>\n",
       "      <th>non_striker</th>\n",
       "      <th>bowler</th>\n",
       "      <th>runs_off_bat</th>\n",
       "      <th>extras</th>\n",
       "      <th>wides</th>\n",
       "      <th>noballs</th>\n",
       "      <th>byes</th>\n",
       "      <th>legbyes</th>\n",
       "      <th>penalty</th>\n",
       "      <th>wicket_type</th>\n",
       "      <th>player_dismissed</th>\n",
       "      <th>other_wicket_type</th>\n",
       "      <th>other_player_dismissed</th>\n",
       "    </tr>\n",
       "  </thead>\n",
       "  <tbody>\n",
       "    <tr>\n",
       "      <th>0</th>\n",
       "      <td>335982</td>\n",
       "      <td>2008</td>\n",
       "      <td>2008-04-18</td>\n",
       "      <td>M Chinnaswamy Stadium</td>\n",
       "      <td>1</td>\n",
       "      <td>0.1</td>\n",
       "      <td>Kolkata Knight Riders</td>\n",
       "      <td>Royal Challengers Bangalore</td>\n",
       "      <td>SC Ganguly</td>\n",
       "      <td>BB McCullum</td>\n",
       "      <td>P Kumar</td>\n",
       "      <td>0</td>\n",
       "      <td>1</td>\n",
       "      <td>NaN</td>\n",
       "      <td>NaN</td>\n",
       "      <td>NaN</td>\n",
       "      <td>1.0</td>\n",
       "      <td>NaN</td>\n",
       "      <td>NaN</td>\n",
       "      <td>NaN</td>\n",
       "      <td>NaN</td>\n",
       "      <td>NaN</td>\n",
       "    </tr>\n",
       "    <tr>\n",
       "      <th>1</th>\n",
       "      <td>335982</td>\n",
       "      <td>2008</td>\n",
       "      <td>2008-04-18</td>\n",
       "      <td>M Chinnaswamy Stadium</td>\n",
       "      <td>2</td>\n",
       "      <td>3.1</td>\n",
       "      <td>Royal Challengers Bangalore</td>\n",
       "      <td>Kolkata Knight Riders</td>\n",
       "      <td>W Jaffer</td>\n",
       "      <td>JH Kallis</td>\n",
       "      <td>I Sharma</td>\n",
       "      <td>2</td>\n",
       "      <td>0</td>\n",
       "      <td>NaN</td>\n",
       "      <td>NaN</td>\n",
       "      <td>NaN</td>\n",
       "      <td>NaN</td>\n",
       "      <td>NaN</td>\n",
       "      <td>NaN</td>\n",
       "      <td>NaN</td>\n",
       "      <td>NaN</td>\n",
       "      <td>NaN</td>\n",
       "    </tr>\n",
       "    <tr>\n",
       "      <th>2</th>\n",
       "      <td>335982</td>\n",
       "      <td>2008</td>\n",
       "      <td>2008-04-18</td>\n",
       "      <td>M Chinnaswamy Stadium</td>\n",
       "      <td>2</td>\n",
       "      <td>3.2</td>\n",
       "      <td>Royal Challengers Bangalore</td>\n",
       "      <td>Kolkata Knight Riders</td>\n",
       "      <td>W Jaffer</td>\n",
       "      <td>JH Kallis</td>\n",
       "      <td>I Sharma</td>\n",
       "      <td>1</td>\n",
       "      <td>0</td>\n",
       "      <td>NaN</td>\n",
       "      <td>NaN</td>\n",
       "      <td>NaN</td>\n",
       "      <td>NaN</td>\n",
       "      <td>NaN</td>\n",
       "      <td>NaN</td>\n",
       "      <td>NaN</td>\n",
       "      <td>NaN</td>\n",
       "      <td>NaN</td>\n",
       "    </tr>\n",
       "    <tr>\n",
       "      <th>3</th>\n",
       "      <td>335982</td>\n",
       "      <td>2008</td>\n",
       "      <td>2008-04-18</td>\n",
       "      <td>M Chinnaswamy Stadium</td>\n",
       "      <td>2</td>\n",
       "      <td>3.3</td>\n",
       "      <td>Royal Challengers Bangalore</td>\n",
       "      <td>Kolkata Knight Riders</td>\n",
       "      <td>JH Kallis</td>\n",
       "      <td>W Jaffer</td>\n",
       "      <td>I Sharma</td>\n",
       "      <td>0</td>\n",
       "      <td>0</td>\n",
       "      <td>NaN</td>\n",
       "      <td>NaN</td>\n",
       "      <td>NaN</td>\n",
       "      <td>NaN</td>\n",
       "      <td>NaN</td>\n",
       "      <td>NaN</td>\n",
       "      <td>NaN</td>\n",
       "      <td>NaN</td>\n",
       "      <td>NaN</td>\n",
       "    </tr>\n",
       "    <tr>\n",
       "      <th>4</th>\n",
       "      <td>335982</td>\n",
       "      <td>2008</td>\n",
       "      <td>2008-04-18</td>\n",
       "      <td>M Chinnaswamy Stadium</td>\n",
       "      <td>2</td>\n",
       "      <td>3.4</td>\n",
       "      <td>Royal Challengers Bangalore</td>\n",
       "      <td>Kolkata Knight Riders</td>\n",
       "      <td>JH Kallis</td>\n",
       "      <td>W Jaffer</td>\n",
       "      <td>I Sharma</td>\n",
       "      <td>0</td>\n",
       "      <td>1</td>\n",
       "      <td>NaN</td>\n",
       "      <td>NaN</td>\n",
       "      <td>NaN</td>\n",
       "      <td>1.0</td>\n",
       "      <td>NaN</td>\n",
       "      <td>NaN</td>\n",
       "      <td>NaN</td>\n",
       "      <td>NaN</td>\n",
       "      <td>NaN</td>\n",
       "    </tr>\n",
       "    <tr>\n",
       "      <th>5</th>\n",
       "      <td>335982</td>\n",
       "      <td>2008</td>\n",
       "      <td>2008-04-18</td>\n",
       "      <td>M Chinnaswamy Stadium</td>\n",
       "      <td>2</td>\n",
       "      <td>3.5</td>\n",
       "      <td>Royal Challengers Bangalore</td>\n",
       "      <td>Kolkata Knight Riders</td>\n",
       "      <td>W Jaffer</td>\n",
       "      <td>JH Kallis</td>\n",
       "      <td>I Sharma</td>\n",
       "      <td>0</td>\n",
       "      <td>0</td>\n",
       "      <td>NaN</td>\n",
       "      <td>NaN</td>\n",
       "      <td>NaN</td>\n",
       "      <td>NaN</td>\n",
       "      <td>NaN</td>\n",
       "      <td>NaN</td>\n",
       "      <td>NaN</td>\n",
       "      <td>NaN</td>\n",
       "      <td>NaN</td>\n",
       "    </tr>\n",
       "  </tbody>\n",
       "</table>\n",
       "</div>"
      ],
      "text/plain": [
       "   match_id  season  start_date                  venue  innings  ball                 batting_team                 bowling_team     striker  non_striker    bowler  runs_off_bat  extras  wides  noballs  byes  legbyes  penalty wicket_type player_dismissed  other_wicket_type  other_player_dismissed\n",
       "0    335982    2008  2008-04-18  M Chinnaswamy Stadium        1   0.1        Kolkata Knight Riders  Royal Challengers Bangalore  SC Ganguly  BB McCullum   P Kumar             0       1    NaN      NaN   NaN      1.0      NaN         NaN              NaN                NaN                     NaN\n",
       "1    335982    2008  2008-04-18  M Chinnaswamy Stadium        2   3.1  Royal Challengers Bangalore        Kolkata Knight Riders    W Jaffer    JH Kallis  I Sharma             2       0    NaN      NaN   NaN      NaN      NaN         NaN              NaN                NaN                     NaN\n",
       "2    335982    2008  2008-04-18  M Chinnaswamy Stadium        2   3.2  Royal Challengers Bangalore        Kolkata Knight Riders    W Jaffer    JH Kallis  I Sharma             1       0    NaN      NaN   NaN      NaN      NaN         NaN              NaN                NaN                     NaN\n",
       "3    335982    2008  2008-04-18  M Chinnaswamy Stadium        2   3.3  Royal Challengers Bangalore        Kolkata Knight Riders   JH Kallis     W Jaffer  I Sharma             0       0    NaN      NaN   NaN      NaN      NaN         NaN              NaN                NaN                     NaN\n",
       "4    335982    2008  2008-04-18  M Chinnaswamy Stadium        2   3.4  Royal Challengers Bangalore        Kolkata Knight Riders   JH Kallis     W Jaffer  I Sharma             0       1    NaN      NaN   NaN      1.0      NaN         NaN              NaN                NaN                     NaN\n",
       "5    335982    2008  2008-04-18  M Chinnaswamy Stadium        2   3.5  Royal Challengers Bangalore        Kolkata Knight Riders    W Jaffer    JH Kallis  I Sharma             0       0    NaN      NaN   NaN      NaN      NaN         NaN              NaN                NaN                     NaN"
      ]
     },
     "execution_count": 3,
     "metadata": {},
     "output_type": "execute_result"
    }
   ],
   "source": [
    "df.head(6)"
   ]
  },
  {
   "cell_type": "code",
   "execution_count": 4,
   "metadata": {},
   "outputs": [
    {
     "data": {
      "text/plain": [
       "array([1, 2, 4, 3, 5, 6], dtype=int64)"
      ]
     },
     "execution_count": 4,
     "metadata": {},
     "output_type": "execute_result"
    }
   ],
   "source": [
    "df.innings.unique()"
   ]
  },
  {
   "cell_type": "code",
   "execution_count": 5,
   "metadata": {},
   "outputs": [],
   "source": [
    "df = df[(df.innings == 1) | (df.innings == 2)]"
   ]
  },
  {
   "cell_type": "code",
   "execution_count": 6,
   "metadata": {},
   "outputs": [
    {
     "data": {
      "text/plain": [
       "array([1, 2], dtype=int64)"
      ]
     },
     "execution_count": 6,
     "metadata": {},
     "output_type": "execute_result"
    }
   ],
   "source": [
    "df.innings.unique()"
   ]
  },
  {
   "cell_type": "code",
   "execution_count": 7,
   "metadata": {},
   "outputs": [],
   "source": [
    "# What are the numbers when ABD faces Bumrah?\n",
    "# step 1: Filter by player names - Done\n",
    "# step 2: Use these names & assign it to striker & bowler - Done\n",
    "# step 3: Get the required columns - Done"
   ]
  },
  {
   "cell_type": "code",
   "execution_count": 8,
   "metadata": {},
   "outputs": [
    {
     "data": {
      "text/plain": [
       "array(['Royal Challengers Bangalore', 'Kolkata Knight Riders',\n",
       "       'Delhi Daredevils', 'Chennai Super Kings', 'Rajasthan Royals',\n",
       "       'Kings XI Punjab', 'Deccan Chargers', 'Mumbai Indians',\n",
       "       'Kochi Tuskers Kerala', 'Pune Warriors', 'Sunrisers Hyderabad',\n",
       "       'Rising Pune Supergiants', 'Gujarat Lions',\n",
       "       'Rising Pune Supergiant', 'Delhi Capitals', 'Punjab Kings'],\n",
       "      dtype=object)"
      ]
     },
     "execution_count": 8,
     "metadata": {},
     "output_type": "execute_result"
    }
   ],
   "source": [
    "df.bowling_team.unique()"
   ]
  },
  {
   "cell_type": "code",
   "execution_count": 9,
   "metadata": {},
   "outputs": [
    {
     "data": {
      "text/plain": [
       "array(['A Mishra', 'NLTC Perera', 'I Sharma', 'DW Steyn', 'CL White',\n",
       "       'A Ashish Reddy', 'Ankit Sharma', 'GH Vihari', 'Anand Rajan',\n",
       "       'KV Sharma', 'DJG Sammy', 'B Kumar', 'IK Pathan',\n",
       "       'Y Venugopal Rao', 'MC Henriques', 'Parvez Rasool', 'JO Holder',\n",
       "       'RS Bopara', 'TA Boult', 'P Kumar', 'Bipul Sharma',\n",
       "       'Mustafizur Rahman', 'A Nehra', 'BB Sran', 'DJ Hooda',\n",
       "       'Yuvraj Singh', 'BCJ Cutting', 'KS Williamson', 'Rashid Khan',\n",
       "       'Mohammad Nabi', 'S Kaul', 'Mohammed Siraj', 'CJ Jordan',\n",
       "       'B Stanlake', 'Shakib Al Hasan', 'Sandeep Sharma', 'Basil Thampi',\n",
       "       'YK Pathan', 'CR Brathwaite', 'KK Ahmed', 'S Nadeem', 'V Shankar',\n",
       "       'Abhishek Sharma', 'T Natarajan', 'MR Marsh', 'Abdul Samad',\n",
       "       'DA Warner', 'Mujeeb Ur Rahman', 'J Suchith'], dtype=object)"
      ]
     },
     "execution_count": 9,
     "metadata": {},
     "output_type": "execute_result"
    }
   ],
   "source": [
    "df[df.bowling_team == 'Sunrisers Hyderabad']['bowler'].unique()"
   ]
  },
  {
   "cell_type": "code",
   "execution_count": 77,
   "metadata": {},
   "outputs": [
    {
     "data": {
      "text/plain": [
       "array(['I Sharma', 'AB Agarkar', 'AB Dinda', 'SC Ganguly', 'LR Shukla',\n",
       "       'DJ Hussey', 'Mohammad Hafeez', 'M Kartik', 'Umar Gul',\n",
       "       'Iqbal Abdulla', 'Shoaib Akhtar', 'BAW Mendis', 'MC Henriques',\n",
       "       'CH Gayle', 'Anureet Singh', 'BJ Hodge', 'SS Sarkar', 'AD Mathews',\n",
       "       'Mashrafe Mortaza', 'CK Langeveldt', 'RS Gavaskar', 'SE Bond',\n",
       "       'MB Parmar', 'JD Unadkat', 'MK Tiwary', 'JH Kallis', 'S Ladda',\n",
       "       'R Bhatia', 'L Balaji', 'YK Pathan', 'RN ten Doeschate',\n",
       "       'Shakib Al Hasan', 'B Lee', 'M de Lange', 'SP Narine',\n",
       "       'PJ Sangwan', 'Mohammed Shami', 'R McLaren', 'SMSM Senanayake',\n",
       "       'S Narwal', 'M Morkel', 'R Vinay Kumar', 'PP Chawla', 'UT Yadav',\n",
       "       'AD Russell', 'SA Yadav', 'PJ Cummins', 'KC Cariappa', 'J Botha',\n",
       "       'GB Hogg', 'Azhar Mahmood', 'JW Hastings', 'C Munro',\n",
       "       'Kuldeep Yadav', 'R Sathish', 'JO Holder', 'AS Rajpoot',\n",
       "       'CR Woakes', 'TA Boult', 'C de Grandhomme', 'NM Coulter-Nile',\n",
       "       'N Rana', 'MG Johnson', 'TK Curran', 'Shivam Mavi',\n",
       "       'M Prasidh Krishna', 'JPR Scantlebury-Searles', 'LH Ferguson',\n",
       "       'HF Gurney', 'CR Brathwaite', 'Y Prithvi Raj', 'S Sandeep Warrier',\n",
       "       'KL Nagarkoti', 'CV Varun', 'CJ Green', 'Harbhajan Singh'],\n",
       "      dtype=object)"
      ]
     },
     "execution_count": 77,
     "metadata": {},
     "output_type": "execute_result"
    }
   ],
   "source": [
    "df[df.bowling_team == 'Kolkata Knight Riders']['bowler'].unique()"
   ]
  },
  {
   "cell_type": "code",
   "execution_count": 10,
   "metadata": {},
   "outputs": [],
   "source": [
    "# player 1: Rashid Khan\n",
    "# player 2: AB de Villiers"
   ]
  },
  {
   "cell_type": "code",
   "execution_count": 11,
   "metadata": {
    "scrolled": true
   },
   "outputs": [
    {
     "data": {
      "text/plain": [
       "array(['W Jaffer', 'JH Kallis', 'CL White', 'MV Boucher', 'R Dravid',\n",
       "       'V Kohli', 'P Kumar', 'Z Khan', 'SB Joshi', 'AA Noffke', 'B Akhil',\n",
       "       'LRPL Taylor', 'S Chanderpaul', 'R Vinay Kumar', 'DW Steyn',\n",
       "       'B Chipli', 'Misbah-ul-Haq', 'DT Patil', 'A Kumble', 'J Arunkumar',\n",
       "       'Abdur Razzak', 'SP Goswami', 'KP Pietersen', 'RV Uthappa',\n",
       "       'JD Ryder', 'R Bishnoi', 'KV Sharma', 'Pankaj Singh', 'MK Pandey',\n",
       "       'RE van der Merwe', 'KP Appanna', 'D du Preez', 'EJG Morgan',\n",
       "       'A Mithun', 'S Sriram', 'MA Agarwal', 'AB de Villiers',\n",
       "       'TM Dilshan', 'SS Tiwary', 'AUK Pathan', 'S Aravind', 'CA Pujara',\n",
       "       'JJ van der Wath', 'R Ninan', 'DL Vettori', 'CH Gayle',\n",
       "       'J Syed Mohammad', 'M Kaif', 'LA Pomersbach', 'KB Arun Karthik',\n",
       "       'CK Langeveldt', 'AB McDonald', 'HV Patel', 'RR Bhatkal',\n",
       "       'M Muralitharan', 'P Parameswaran', 'DT Christian', 'KK Nair',\n",
       "       'MC Henriques', 'M Kartik', 'JD Unadkat', 'R Rampaul', 'KL Rahul',\n",
       "       'A Mukund', 'PA Patel', 'NJ Maddinson', 'Yuvraj Singh',\n",
       "       'YV Takawale', 'JA Morkel', 'MA Starc', 'AB Dinda', 'S Rana',\n",
       "       'VR Aaron', 'RR Rossouw', 'YS Chahal', 'VH Zol', 'AN Ahmed',\n",
       "       'DJG Sammy', 'SA Abbott', 'Mandeep Singh', 'KD Karthik', 'D Wiese',\n",
       "       'Iqbal Abdulla', 'MS Bisla', 'SN Khan', 'SR Watson', 'KM Jadhav',\n",
       "       'STR Binny', 'TM Head', 'KW Richardson', 'Sachin Baby',\n",
       "       'Parvez Rasool', 'CJ Jordan', 'TS Mills', 'A Choudhary', 'P Negi',\n",
       "       'Vishnu Vinod', 'AF Milne', 'S Badree', 'CR Woakes', 'BB McCullum',\n",
       "       'Q de Kock', 'Washington Sundar', 'CJ Anderson', 'Mohammed Siraj',\n",
       "       'UT Yadav', 'M Vohra', 'C de Grandhomme', 'TG Southee', 'M Ashwin',\n",
       "       'MM Ali', 'SO Hetmyer', 'S Dube', 'NA Saini', 'P Ray Barman',\n",
       "       'MP Stoinis', 'AD Nath', 'Gurkeerat Singh', 'H Klaasen',\n",
       "       'AJ Finch', 'D Padikkal', 'JR Philippe', 'I Udana', 'CH Morris',\n",
       "       'Shahbaz Ahmed', 'RM Patidar', 'GJ Maxwell', 'KA Jamieson',\n",
       "       'DR Sams'], dtype=object)"
      ]
     },
     "execution_count": 11,
     "metadata": {},
     "output_type": "execute_result"
    }
   ],
   "source": [
    "df[df.batting_team == 'Royal Challengers Bangalore']['striker'].unique()"
   ]
  },
  {
   "cell_type": "code",
   "execution_count": 12,
   "metadata": {},
   "outputs": [],
   "source": [
    "req_df = df[(df.striker == 'AB de Villiers') & (df.bowler == 'Rashid Khan')]"
   ]
  },
  {
   "cell_type": "code",
   "execution_count": 13,
   "metadata": {
    "scrolled": true
   },
   "outputs": [
    {
     "data": {
      "text/html": [
       "<div>\n",
       "<style scoped>\n",
       "    .dataframe tbody tr th:only-of-type {\n",
       "        vertical-align: middle;\n",
       "    }\n",
       "\n",
       "    .dataframe tbody tr th {\n",
       "        vertical-align: top;\n",
       "    }\n",
       "\n",
       "    .dataframe thead th {\n",
       "        text-align: right;\n",
       "    }\n",
       "</style>\n",
       "<table border=\"1\" class=\"dataframe\">\n",
       "  <thead>\n",
       "    <tr style=\"text-align: right;\">\n",
       "      <th></th>\n",
       "      <th>match_id</th>\n",
       "      <th>season</th>\n",
       "      <th>start_date</th>\n",
       "      <th>venue</th>\n",
       "      <th>innings</th>\n",
       "      <th>ball</th>\n",
       "      <th>batting_team</th>\n",
       "      <th>bowling_team</th>\n",
       "      <th>striker</th>\n",
       "      <th>non_striker</th>\n",
       "      <th>bowler</th>\n",
       "      <th>runs_off_bat</th>\n",
       "      <th>extras</th>\n",
       "      <th>wides</th>\n",
       "      <th>noballs</th>\n",
       "      <th>byes</th>\n",
       "      <th>legbyes</th>\n",
       "      <th>penalty</th>\n",
       "      <th>wicket_type</th>\n",
       "      <th>player_dismissed</th>\n",
       "      <th>other_wicket_type</th>\n",
       "      <th>other_player_dismissed</th>\n",
       "    </tr>\n",
       "  </thead>\n",
       "  <tbody>\n",
       "    <tr>\n",
       "      <th>159496</th>\n",
       "      <td>1136599</td>\n",
       "      <td>2018</td>\n",
       "      <td>2018-05-07</td>\n",
       "      <td>Rajiv Gandhi International Stadium</td>\n",
       "      <td>2</td>\n",
       "      <td>8.5</td>\n",
       "      <td>Royal Challengers Bangalore</td>\n",
       "      <td>Sunrisers Hyderabad</td>\n",
       "      <td>AB de Villiers</td>\n",
       "      <td>V Kohli</td>\n",
       "      <td>Rashid Khan</td>\n",
       "      <td>0</td>\n",
       "      <td>1</td>\n",
       "      <td>1.0</td>\n",
       "      <td>NaN</td>\n",
       "      <td>NaN</td>\n",
       "      <td>NaN</td>\n",
       "      <td>NaN</td>\n",
       "      <td>NaN</td>\n",
       "      <td>NaN</td>\n",
       "      <td>NaN</td>\n",
       "      <td>NaN</td>\n",
       "    </tr>\n",
       "    <tr>\n",
       "      <th>159497</th>\n",
       "      <td>1136599</td>\n",
       "      <td>2018</td>\n",
       "      <td>2018-05-07</td>\n",
       "      <td>Rajiv Gandhi International Stadium</td>\n",
       "      <td>2</td>\n",
       "      <td>8.6</td>\n",
       "      <td>Royal Challengers Bangalore</td>\n",
       "      <td>Sunrisers Hyderabad</td>\n",
       "      <td>AB de Villiers</td>\n",
       "      <td>V Kohli</td>\n",
       "      <td>Rashid Khan</td>\n",
       "      <td>1</td>\n",
       "      <td>0</td>\n",
       "      <td>NaN</td>\n",
       "      <td>NaN</td>\n",
       "      <td>NaN</td>\n",
       "      <td>NaN</td>\n",
       "      <td>NaN</td>\n",
       "      <td>NaN</td>\n",
       "      <td>NaN</td>\n",
       "      <td>NaN</td>\n",
       "      <td>NaN</td>\n",
       "    </tr>\n",
       "    <tr>\n",
       "      <th>159569</th>\n",
       "      <td>1136599</td>\n",
       "      <td>2018</td>\n",
       "      <td>2018-05-07</td>\n",
       "      <td>Rajiv Gandhi International Stadium</td>\n",
       "      <td>2</td>\n",
       "      <td>10.3</td>\n",
       "      <td>Royal Challengers Bangalore</td>\n",
       "      <td>Sunrisers Hyderabad</td>\n",
       "      <td>AB de Villiers</td>\n",
       "      <td>MM Ali</td>\n",
       "      <td>Rashid Khan</td>\n",
       "      <td>0</td>\n",
       "      <td>0</td>\n",
       "      <td>NaN</td>\n",
       "      <td>NaN</td>\n",
       "      <td>NaN</td>\n",
       "      <td>NaN</td>\n",
       "      <td>NaN</td>\n",
       "      <td>NaN</td>\n",
       "      <td>NaN</td>\n",
       "      <td>NaN</td>\n",
       "      <td>NaN</td>\n",
       "    </tr>\n",
       "    <tr>\n",
       "      <th>159570</th>\n",
       "      <td>1136599</td>\n",
       "      <td>2018</td>\n",
       "      <td>2018-05-07</td>\n",
       "      <td>Rajiv Gandhi International Stadium</td>\n",
       "      <td>2</td>\n",
       "      <td>10.4</td>\n",
       "      <td>Royal Challengers Bangalore</td>\n",
       "      <td>Sunrisers Hyderabad</td>\n",
       "      <td>AB de Villiers</td>\n",
       "      <td>MM Ali</td>\n",
       "      <td>Rashid Khan</td>\n",
       "      <td>0</td>\n",
       "      <td>0</td>\n",
       "      <td>NaN</td>\n",
       "      <td>NaN</td>\n",
       "      <td>NaN</td>\n",
       "      <td>NaN</td>\n",
       "      <td>NaN</td>\n",
       "      <td>bowled</td>\n",
       "      <td>AB de Villiers</td>\n",
       "      <td>NaN</td>\n",
       "      <td>NaN</td>\n",
       "    </tr>\n",
       "    <tr>\n",
       "      <th>162420</th>\n",
       "      <td>1136611</td>\n",
       "      <td>2018</td>\n",
       "      <td>2018-05-17</td>\n",
       "      <td>M.Chinnaswamy Stadium</td>\n",
       "      <td>1</td>\n",
       "      <td>6.2</td>\n",
       "      <td>Royal Challengers Bangalore</td>\n",
       "      <td>Sunrisers Hyderabad</td>\n",
       "      <td>AB de Villiers</td>\n",
       "      <td>MM Ali</td>\n",
       "      <td>Rashid Khan</td>\n",
       "      <td>4</td>\n",
       "      <td>0</td>\n",
       "      <td>NaN</td>\n",
       "      <td>NaN</td>\n",
       "      <td>NaN</td>\n",
       "      <td>NaN</td>\n",
       "      <td>NaN</td>\n",
       "      <td>NaN</td>\n",
       "      <td>NaN</td>\n",
       "      <td>NaN</td>\n",
       "      <td>NaN</td>\n",
       "    </tr>\n",
       "  </tbody>\n",
       "</table>\n",
       "</div>"
      ],
      "text/plain": [
       "        match_id  season  start_date                               venue  innings  ball                 batting_team         bowling_team         striker non_striker       bowler  runs_off_bat  extras  wides  noballs  byes  legbyes  penalty wicket_type player_dismissed  other_wicket_type  other_player_dismissed\n",
       "159496   1136599    2018  2018-05-07  Rajiv Gandhi International Stadium        2   8.5  Royal Challengers Bangalore  Sunrisers Hyderabad  AB de Villiers     V Kohli  Rashid Khan             0       1    1.0      NaN   NaN      NaN      NaN         NaN              NaN                NaN                     NaN\n",
       "159497   1136599    2018  2018-05-07  Rajiv Gandhi International Stadium        2   8.6  Royal Challengers Bangalore  Sunrisers Hyderabad  AB de Villiers     V Kohli  Rashid Khan             1       0    NaN      NaN   NaN      NaN      NaN         NaN              NaN                NaN                     NaN\n",
       "159569   1136599    2018  2018-05-07  Rajiv Gandhi International Stadium        2  10.3  Royal Challengers Bangalore  Sunrisers Hyderabad  AB de Villiers      MM Ali  Rashid Khan             0       0    NaN      NaN   NaN      NaN      NaN         NaN              NaN                NaN                     NaN\n",
       "159570   1136599    2018  2018-05-07  Rajiv Gandhi International Stadium        2  10.4  Royal Challengers Bangalore  Sunrisers Hyderabad  AB de Villiers      MM Ali  Rashid Khan             0       0    NaN      NaN   NaN      NaN      NaN      bowled   AB de Villiers                NaN                     NaN\n",
       "162420   1136611    2018  2018-05-17               M.Chinnaswamy Stadium        1   6.2  Royal Challengers Bangalore  Sunrisers Hyderabad  AB de Villiers      MM Ali  Rashid Khan             4       0    NaN      NaN   NaN      NaN      NaN         NaN              NaN                NaN                     NaN"
      ]
     },
     "execution_count": 13,
     "metadata": {},
     "output_type": "execute_result"
    }
   ],
   "source": [
    "req_df.head()"
   ]
  },
  {
   "cell_type": "code",
   "execution_count": 14,
   "metadata": {},
   "outputs": [
    {
     "data": {
      "text/plain": [
       "38"
      ]
     },
     "execution_count": 14,
     "metadata": {},
     "output_type": "execute_result"
    }
   ],
   "source": [
    "# runs scored\n",
    "sum(req_df.runs_off_bat)"
   ]
  },
  {
   "cell_type": "code",
   "execution_count": 15,
   "metadata": {},
   "outputs": [
    {
     "data": {
      "text/plain": [
       "39"
      ]
     },
     "execution_count": 15,
     "metadata": {},
     "output_type": "execute_result"
    }
   ],
   "source": [
    "# balls faced\n",
    "len(req_df)"
   ]
  },
  {
   "cell_type": "code",
   "execution_count": 16,
   "metadata": {},
   "outputs": [
    {
     "data": {
      "text/plain": [
       "3"
      ]
     },
     "execution_count": 16,
     "metadata": {},
     "output_type": "execute_result"
    }
   ],
   "source": [
    "# outs\n",
    "len(req_df[req_df.player_dismissed == 'AB de Villiers'])"
   ]
  },
  {
   "cell_type": "code",
   "execution_count": 17,
   "metadata": {},
   "outputs": [
    {
     "data": {
      "text/plain": [
       "97.43589743589743"
      ]
     },
     "execution_count": 17,
     "metadata": {},
     "output_type": "execute_result"
    }
   ],
   "source": [
    "# strike rate\n",
    "100*sum(req_df.runs_off_bat)/len(req_df)"
   ]
  },
  {
   "cell_type": "code",
   "execution_count": 18,
   "metadata": {},
   "outputs": [],
   "source": [
    "# Comparision against all batsman Rashid khan has bowled to"
   ]
  },
  {
   "cell_type": "code",
   "execution_count": 19,
   "metadata": {},
   "outputs": [
    {
     "data": {
      "text/html": [
       "<div>\n",
       "<style scoped>\n",
       "    .dataframe tbody tr th:only-of-type {\n",
       "        vertical-align: middle;\n",
       "    }\n",
       "\n",
       "    .dataframe tbody tr th {\n",
       "        vertical-align: top;\n",
       "    }\n",
       "\n",
       "    .dataframe thead th {\n",
       "        text-align: right;\n",
       "    }\n",
       "</style>\n",
       "<table border=\"1\" class=\"dataframe\">\n",
       "  <thead>\n",
       "    <tr style=\"text-align: right;\">\n",
       "      <th></th>\n",
       "      <th>match_id</th>\n",
       "      <th>season</th>\n",
       "      <th>start_date</th>\n",
       "      <th>venue</th>\n",
       "      <th>innings</th>\n",
       "      <th>ball</th>\n",
       "      <th>batting_team</th>\n",
       "      <th>bowling_team</th>\n",
       "      <th>striker</th>\n",
       "      <th>non_striker</th>\n",
       "      <th>bowler</th>\n",
       "      <th>runs_off_bat</th>\n",
       "      <th>extras</th>\n",
       "      <th>wides</th>\n",
       "      <th>noballs</th>\n",
       "      <th>byes</th>\n",
       "      <th>legbyes</th>\n",
       "      <th>penalty</th>\n",
       "      <th>wicket_type</th>\n",
       "      <th>player_dismissed</th>\n",
       "      <th>other_wicket_type</th>\n",
       "      <th>other_player_dismissed</th>\n",
       "    </tr>\n",
       "  </thead>\n",
       "  <tbody>\n",
       "    <tr>\n",
       "      <th>0</th>\n",
       "      <td>335982</td>\n",
       "      <td>2008</td>\n",
       "      <td>2008-04-18</td>\n",
       "      <td>M Chinnaswamy Stadium</td>\n",
       "      <td>1</td>\n",
       "      <td>0.1</td>\n",
       "      <td>Kolkata Knight Riders</td>\n",
       "      <td>Royal Challengers Bangalore</td>\n",
       "      <td>SC Ganguly</td>\n",
       "      <td>BB McCullum</td>\n",
       "      <td>P Kumar</td>\n",
       "      <td>0</td>\n",
       "      <td>1</td>\n",
       "      <td>NaN</td>\n",
       "      <td>NaN</td>\n",
       "      <td>NaN</td>\n",
       "      <td>1.0</td>\n",
       "      <td>NaN</td>\n",
       "      <td>NaN</td>\n",
       "      <td>NaN</td>\n",
       "      <td>NaN</td>\n",
       "      <td>NaN</td>\n",
       "    </tr>\n",
       "  </tbody>\n",
       "</table>\n",
       "</div>"
      ],
      "text/plain": [
       "   match_id  season  start_date                  venue  innings  ball           batting_team                 bowling_team     striker  non_striker   bowler  runs_off_bat  extras  wides  noballs  byes  legbyes  penalty wicket_type player_dismissed  other_wicket_type  other_player_dismissed\n",
       "0    335982    2008  2008-04-18  M Chinnaswamy Stadium        1   0.1  Kolkata Knight Riders  Royal Challengers Bangalore  SC Ganguly  BB McCullum  P Kumar             0       1    NaN      NaN   NaN      1.0      NaN         NaN              NaN                NaN                     NaN"
      ]
     },
     "execution_count": 19,
     "metadata": {},
     "output_type": "execute_result"
    }
   ],
   "source": [
    "df.head(1)"
   ]
  },
  {
   "cell_type": "code",
   "execution_count": 20,
   "metadata": {},
   "outputs": [],
   "source": [
    "Rashid_df = df[df.bowler =='Rashid Khan']"
   ]
  },
  {
   "cell_type": "code",
   "execution_count": 21,
   "metadata": {},
   "outputs": [
    {
     "data": {
      "text/html": [
       "<div>\n",
       "<style scoped>\n",
       "    .dataframe tbody tr th:only-of-type {\n",
       "        vertical-align: middle;\n",
       "    }\n",
       "\n",
       "    .dataframe tbody tr th {\n",
       "        vertical-align: top;\n",
       "    }\n",
       "\n",
       "    .dataframe thead th {\n",
       "        text-align: right;\n",
       "    }\n",
       "</style>\n",
       "<table border=\"1\" class=\"dataframe\">\n",
       "  <thead>\n",
       "    <tr style=\"text-align: right;\">\n",
       "      <th></th>\n",
       "      <th>match_id</th>\n",
       "      <th>season</th>\n",
       "      <th>start_date</th>\n",
       "      <th>venue</th>\n",
       "      <th>innings</th>\n",
       "      <th>ball</th>\n",
       "      <th>batting_team</th>\n",
       "      <th>bowling_team</th>\n",
       "      <th>striker</th>\n",
       "      <th>non_striker</th>\n",
       "      <th>bowler</th>\n",
       "      <th>runs_off_bat</th>\n",
       "      <th>extras</th>\n",
       "      <th>wides</th>\n",
       "      <th>noballs</th>\n",
       "      <th>byes</th>\n",
       "      <th>legbyes</th>\n",
       "      <th>penalty</th>\n",
       "      <th>wicket_type</th>\n",
       "      <th>player_dismissed</th>\n",
       "      <th>other_wicket_type</th>\n",
       "      <th>other_player_dismissed</th>\n",
       "    </tr>\n",
       "  </thead>\n",
       "  <tbody>\n",
       "    <tr>\n",
       "      <th>136597</th>\n",
       "      <td>1082591</td>\n",
       "      <td>2017</td>\n",
       "      <td>2017-04-05</td>\n",
       "      <td>Rajiv Gandhi International Stadium, Uppal</td>\n",
       "      <td>2</td>\n",
       "      <td>5.2</td>\n",
       "      <td>Royal Challengers Bangalore</td>\n",
       "      <td>Sunrisers Hyderabad</td>\n",
       "      <td>Mandeep Singh</td>\n",
       "      <td>CH Gayle</td>\n",
       "      <td>Rashid Khan</td>\n",
       "      <td>4</td>\n",
       "      <td>0</td>\n",
       "      <td>NaN</td>\n",
       "      <td>NaN</td>\n",
       "      <td>NaN</td>\n",
       "      <td>NaN</td>\n",
       "      <td>NaN</td>\n",
       "      <td>NaN</td>\n",
       "      <td>NaN</td>\n",
       "      <td>NaN</td>\n",
       "      <td>NaN</td>\n",
       "    </tr>\n",
       "    <tr>\n",
       "      <th>136598</th>\n",
       "      <td>1082591</td>\n",
       "      <td>2017</td>\n",
       "      <td>2017-04-05</td>\n",
       "      <td>Rajiv Gandhi International Stadium, Uppal</td>\n",
       "      <td>2</td>\n",
       "      <td>5.3</td>\n",
       "      <td>Royal Challengers Bangalore</td>\n",
       "      <td>Sunrisers Hyderabad</td>\n",
       "      <td>Mandeep Singh</td>\n",
       "      <td>CH Gayle</td>\n",
       "      <td>Rashid Khan</td>\n",
       "      <td>0</td>\n",
       "      <td>0</td>\n",
       "      <td>NaN</td>\n",
       "      <td>NaN</td>\n",
       "      <td>NaN</td>\n",
       "      <td>NaN</td>\n",
       "      <td>NaN</td>\n",
       "      <td>NaN</td>\n",
       "      <td>NaN</td>\n",
       "      <td>NaN</td>\n",
       "      <td>NaN</td>\n",
       "    </tr>\n",
       "    <tr>\n",
       "      <th>136599</th>\n",
       "      <td>1082591</td>\n",
       "      <td>2017</td>\n",
       "      <td>2017-04-05</td>\n",
       "      <td>Rajiv Gandhi International Stadium, Uppal</td>\n",
       "      <td>2</td>\n",
       "      <td>5.4</td>\n",
       "      <td>Royal Challengers Bangalore</td>\n",
       "      <td>Sunrisers Hyderabad</td>\n",
       "      <td>Mandeep Singh</td>\n",
       "      <td>CH Gayle</td>\n",
       "      <td>Rashid Khan</td>\n",
       "      <td>0</td>\n",
       "      <td>0</td>\n",
       "      <td>NaN</td>\n",
       "      <td>NaN</td>\n",
       "      <td>NaN</td>\n",
       "      <td>NaN</td>\n",
       "      <td>NaN</td>\n",
       "      <td>bowled</td>\n",
       "      <td>Mandeep Singh</td>\n",
       "      <td>NaN</td>\n",
       "      <td>NaN</td>\n",
       "    </tr>\n",
       "    <tr>\n",
       "      <th>136600</th>\n",
       "      <td>1082591</td>\n",
       "      <td>2017</td>\n",
       "      <td>2017-04-05</td>\n",
       "      <td>Rajiv Gandhi International Stadium, Uppal</td>\n",
       "      <td>2</td>\n",
       "      <td>5.5</td>\n",
       "      <td>Royal Challengers Bangalore</td>\n",
       "      <td>Sunrisers Hyderabad</td>\n",
       "      <td>TM Head</td>\n",
       "      <td>CH Gayle</td>\n",
       "      <td>Rashid Khan</td>\n",
       "      <td>2</td>\n",
       "      <td>0</td>\n",
       "      <td>NaN</td>\n",
       "      <td>NaN</td>\n",
       "      <td>NaN</td>\n",
       "      <td>NaN</td>\n",
       "      <td>NaN</td>\n",
       "      <td>NaN</td>\n",
       "      <td>NaN</td>\n",
       "      <td>NaN</td>\n",
       "      <td>NaN</td>\n",
       "    </tr>\n",
       "    <tr>\n",
       "      <th>136601</th>\n",
       "      <td>1082591</td>\n",
       "      <td>2017</td>\n",
       "      <td>2017-04-05</td>\n",
       "      <td>Rajiv Gandhi International Stadium, Uppal</td>\n",
       "      <td>2</td>\n",
       "      <td>5.6</td>\n",
       "      <td>Royal Challengers Bangalore</td>\n",
       "      <td>Sunrisers Hyderabad</td>\n",
       "      <td>TM Head</td>\n",
       "      <td>CH Gayle</td>\n",
       "      <td>Rashid Khan</td>\n",
       "      <td>0</td>\n",
       "      <td>0</td>\n",
       "      <td>NaN</td>\n",
       "      <td>NaN</td>\n",
       "      <td>NaN</td>\n",
       "      <td>NaN</td>\n",
       "      <td>NaN</td>\n",
       "      <td>NaN</td>\n",
       "      <td>NaN</td>\n",
       "      <td>NaN</td>\n",
       "      <td>NaN</td>\n",
       "    </tr>\n",
       "  </tbody>\n",
       "</table>\n",
       "</div>"
      ],
      "text/plain": [
       "        match_id  season  start_date                                      venue  innings  ball                 batting_team         bowling_team        striker non_striker       bowler  runs_off_bat  extras  wides  noballs  byes  legbyes  penalty wicket_type player_dismissed  other_wicket_type  other_player_dismissed\n",
       "136597   1082591    2017  2017-04-05  Rajiv Gandhi International Stadium, Uppal        2   5.2  Royal Challengers Bangalore  Sunrisers Hyderabad  Mandeep Singh    CH Gayle  Rashid Khan             4       0    NaN      NaN   NaN      NaN      NaN         NaN              NaN                NaN                     NaN\n",
       "136598   1082591    2017  2017-04-05  Rajiv Gandhi International Stadium, Uppal        2   5.3  Royal Challengers Bangalore  Sunrisers Hyderabad  Mandeep Singh    CH Gayle  Rashid Khan             0       0    NaN      NaN   NaN      NaN      NaN         NaN              NaN                NaN                     NaN\n",
       "136599   1082591    2017  2017-04-05  Rajiv Gandhi International Stadium, Uppal        2   5.4  Royal Challengers Bangalore  Sunrisers Hyderabad  Mandeep Singh    CH Gayle  Rashid Khan             0       0    NaN      NaN   NaN      NaN      NaN      bowled    Mandeep Singh                NaN                     NaN\n",
       "136600   1082591    2017  2017-04-05  Rajiv Gandhi International Stadium, Uppal        2   5.5  Royal Challengers Bangalore  Sunrisers Hyderabad        TM Head    CH Gayle  Rashid Khan             2       0    NaN      NaN   NaN      NaN      NaN         NaN              NaN                NaN                     NaN\n",
       "136601   1082591    2017  2017-04-05  Rajiv Gandhi International Stadium, Uppal        2   5.6  Royal Challengers Bangalore  Sunrisers Hyderabad        TM Head    CH Gayle  Rashid Khan             0       0    NaN      NaN   NaN      NaN      NaN         NaN              NaN                NaN                     NaN"
      ]
     },
     "execution_count": 21,
     "metadata": {},
     "output_type": "execute_result"
    }
   ],
   "source": [
    "Rashid_df.head()"
   ]
  },
  {
   "cell_type": "code",
   "execution_count": 22,
   "metadata": {},
   "outputs": [],
   "source": [
    "# runs scored by this batsman\n",
    "rdf1 = pd.DataFrame(Rashid_df.groupby('striker')['runs_off_bat'].sum()).reset_index()"
   ]
  },
  {
   "cell_type": "code",
   "execution_count": 23,
   "metadata": {},
   "outputs": [],
   "source": [
    "rdf2 = pd.DataFrame(Rashid_df.groupby('striker')['ball'].count()).reset_index()"
   ]
  },
  {
   "cell_type": "code",
   "execution_count": 24,
   "metadata": {},
   "outputs": [
    {
     "data": {
      "text/html": [
       "<div>\n",
       "<style scoped>\n",
       "    .dataframe tbody tr th:only-of-type {\n",
       "        vertical-align: middle;\n",
       "    }\n",
       "\n",
       "    .dataframe tbody tr th {\n",
       "        vertical-align: top;\n",
       "    }\n",
       "\n",
       "    .dataframe thead th {\n",
       "        text-align: right;\n",
       "    }\n",
       "</style>\n",
       "<table border=\"1\" class=\"dataframe\">\n",
       "  <thead>\n",
       "    <tr style=\"text-align: right;\">\n",
       "      <th></th>\n",
       "      <th>striker</th>\n",
       "      <th>ball</th>\n",
       "    </tr>\n",
       "  </thead>\n",
       "  <tbody>\n",
       "    <tr>\n",
       "      <th>0</th>\n",
       "      <td>AB de Villiers</td>\n",
       "      <td>39</td>\n",
       "    </tr>\n",
       "    <tr>\n",
       "      <th>1</th>\n",
       "      <td>AD Mathews</td>\n",
       "      <td>2</td>\n",
       "    </tr>\n",
       "    <tr>\n",
       "      <th>2</th>\n",
       "      <td>AD Russell</td>\n",
       "      <td>14</td>\n",
       "    </tr>\n",
       "    <tr>\n",
       "      <th>3</th>\n",
       "      <td>AJ Finch</td>\n",
       "      <td>25</td>\n",
       "    </tr>\n",
       "    <tr>\n",
       "      <th>4</th>\n",
       "      <td>AM Rahane</td>\n",
       "      <td>34</td>\n",
       "    </tr>\n",
       "  </tbody>\n",
       "</table>\n",
       "</div>"
      ],
      "text/plain": [
       "          striker  ball\n",
       "0  AB de Villiers    39\n",
       "1      AD Mathews     2\n",
       "2      AD Russell    14\n",
       "3        AJ Finch    25\n",
       "4       AM Rahane    34"
      ]
     },
     "execution_count": 24,
     "metadata": {},
     "output_type": "execute_result"
    }
   ],
   "source": [
    "rdf2.head()"
   ]
  },
  {
   "cell_type": "code",
   "execution_count": 25,
   "metadata": {},
   "outputs": [],
   "source": [
    "rdf3 = rdf1.merge(rdf2, on = 'striker', how = 'left')"
   ]
  },
  {
   "cell_type": "code",
   "execution_count": 26,
   "metadata": {},
   "outputs": [
    {
     "data": {
      "text/html": [
       "<div>\n",
       "<style scoped>\n",
       "    .dataframe tbody tr th:only-of-type {\n",
       "        vertical-align: middle;\n",
       "    }\n",
       "\n",
       "    .dataframe tbody tr th {\n",
       "        vertical-align: top;\n",
       "    }\n",
       "\n",
       "    .dataframe thead th {\n",
       "        text-align: right;\n",
       "    }\n",
       "</style>\n",
       "<table border=\"1\" class=\"dataframe\">\n",
       "  <thead>\n",
       "    <tr style=\"text-align: right;\">\n",
       "      <th></th>\n",
       "      <th>striker</th>\n",
       "      <th>runs_off_bat</th>\n",
       "      <th>ball</th>\n",
       "    </tr>\n",
       "  </thead>\n",
       "  <tbody>\n",
       "    <tr>\n",
       "      <th>0</th>\n",
       "      <td>AB de Villiers</td>\n",
       "      <td>38</td>\n",
       "      <td>39</td>\n",
       "    </tr>\n",
       "    <tr>\n",
       "      <th>1</th>\n",
       "      <td>AD Mathews</td>\n",
       "      <td>2</td>\n",
       "      <td>2</td>\n",
       "    </tr>\n",
       "    <tr>\n",
       "      <th>2</th>\n",
       "      <td>AD Russell</td>\n",
       "      <td>10</td>\n",
       "      <td>14</td>\n",
       "    </tr>\n",
       "    <tr>\n",
       "      <th>3</th>\n",
       "      <td>AJ Finch</td>\n",
       "      <td>37</td>\n",
       "      <td>25</td>\n",
       "    </tr>\n",
       "    <tr>\n",
       "      <th>4</th>\n",
       "      <td>AM Rahane</td>\n",
       "      <td>41</td>\n",
       "      <td>34</td>\n",
       "    </tr>\n",
       "  </tbody>\n",
       "</table>\n",
       "</div>"
      ],
      "text/plain": [
       "          striker  runs_off_bat  ball\n",
       "0  AB de Villiers            38    39\n",
       "1      AD Mathews             2     2\n",
       "2      AD Russell            10    14\n",
       "3        AJ Finch            37    25\n",
       "4       AM Rahane            41    34"
      ]
     },
     "execution_count": 26,
     "metadata": {},
     "output_type": "execute_result"
    }
   ],
   "source": [
    "rdf3.head()"
   ]
  },
  {
   "cell_type": "code",
   "execution_count": 27,
   "metadata": {},
   "outputs": [],
   "source": [
    "rdf3['strike_rate'] = 100*rdf3['runs_off_bat']/rdf3['ball']"
   ]
  },
  {
   "cell_type": "code",
   "execution_count": 28,
   "metadata": {},
   "outputs": [
    {
     "data": {
      "text/html": [
       "<div>\n",
       "<style scoped>\n",
       "    .dataframe tbody tr th:only-of-type {\n",
       "        vertical-align: middle;\n",
       "    }\n",
       "\n",
       "    .dataframe tbody tr th {\n",
       "        vertical-align: top;\n",
       "    }\n",
       "\n",
       "    .dataframe thead th {\n",
       "        text-align: right;\n",
       "    }\n",
       "</style>\n",
       "<table border=\"1\" class=\"dataframe\">\n",
       "  <thead>\n",
       "    <tr style=\"text-align: right;\">\n",
       "      <th></th>\n",
       "      <th>striker</th>\n",
       "      <th>runs_off_bat</th>\n",
       "      <th>ball</th>\n",
       "      <th>strike_rate</th>\n",
       "    </tr>\n",
       "  </thead>\n",
       "  <tbody>\n",
       "    <tr>\n",
       "      <th>0</th>\n",
       "      <td>AB de Villiers</td>\n",
       "      <td>38</td>\n",
       "      <td>39</td>\n",
       "      <td>97.435897</td>\n",
       "    </tr>\n",
       "  </tbody>\n",
       "</table>\n",
       "</div>"
      ],
      "text/plain": [
       "          striker  runs_off_bat  ball  strike_rate\n",
       "0  AB de Villiers            38    39    97.435897"
      ]
     },
     "execution_count": 28,
     "metadata": {},
     "output_type": "execute_result"
    }
   ],
   "source": [
    "rdf3.head(1)"
   ]
  },
  {
   "cell_type": "code",
   "execution_count": 29,
   "metadata": {},
   "outputs": [],
   "source": [
    "# min criteria: 30 balls"
   ]
  },
  {
   "cell_type": "code",
   "execution_count": 30,
   "metadata": {},
   "outputs": [],
   "source": [
    "rdf3 = rdf3[rdf3.ball >= 30]"
   ]
  },
  {
   "cell_type": "code",
   "execution_count": 31,
   "metadata": {},
   "outputs": [
    {
     "data": {
      "text/html": [
       "<div>\n",
       "<style scoped>\n",
       "    .dataframe tbody tr th:only-of-type {\n",
       "        vertical-align: middle;\n",
       "    }\n",
       "\n",
       "    .dataframe tbody tr th {\n",
       "        vertical-align: top;\n",
       "    }\n",
       "\n",
       "    .dataframe thead th {\n",
       "        text-align: right;\n",
       "    }\n",
       "</style>\n",
       "<table border=\"1\" class=\"dataframe\">\n",
       "  <thead>\n",
       "    <tr style=\"text-align: right;\">\n",
       "      <th></th>\n",
       "      <th>striker</th>\n",
       "      <th>runs_off_bat</th>\n",
       "      <th>ball</th>\n",
       "      <th>strike_rate</th>\n",
       "    </tr>\n",
       "  </thead>\n",
       "  <tbody>\n",
       "    <tr>\n",
       "      <th>0</th>\n",
       "      <td>AB de Villiers</td>\n",
       "      <td>38</td>\n",
       "      <td>39</td>\n",
       "      <td>97.435897</td>\n",
       "    </tr>\n",
       "    <tr>\n",
       "      <th>4</th>\n",
       "      <td>AM Rahane</td>\n",
       "      <td>41</td>\n",
       "      <td>34</td>\n",
       "      <td>120.588235</td>\n",
       "    </tr>\n",
       "    <tr>\n",
       "      <th>7</th>\n",
       "      <td>AT Rayudu</td>\n",
       "      <td>61</td>\n",
       "      <td>54</td>\n",
       "      <td>112.962963</td>\n",
       "    </tr>\n",
       "    <tr>\n",
       "      <th>33</th>\n",
       "      <td>HH Pandya</td>\n",
       "      <td>18</td>\n",
       "      <td>33</td>\n",
       "      <td>54.545455</td>\n",
       "    </tr>\n",
       "    <tr>\n",
       "      <th>37</th>\n",
       "      <td>Ishan Kishan</td>\n",
       "      <td>53</td>\n",
       "      <td>45</td>\n",
       "      <td>117.777778</td>\n",
       "    </tr>\n",
       "  </tbody>\n",
       "</table>\n",
       "</div>"
      ],
      "text/plain": [
       "           striker  runs_off_bat  ball  strike_rate\n",
       "0   AB de Villiers            38    39    97.435897\n",
       "4        AM Rahane            41    34   120.588235\n",
       "7        AT Rayudu            61    54   112.962963\n",
       "33       HH Pandya            18    33    54.545455\n",
       "37    Ishan Kishan            53    45   117.777778"
      ]
     },
     "execution_count": 31,
     "metadata": {},
     "output_type": "execute_result"
    }
   ],
   "source": [
    "rdf3.head()"
   ]
  },
  {
   "cell_type": "code",
   "execution_count": 32,
   "metadata": {},
   "outputs": [],
   "source": [
    "abd_df = df[df.striker =='AB de Villiers']"
   ]
  },
  {
   "cell_type": "code",
   "execution_count": 33,
   "metadata": {},
   "outputs": [],
   "source": [
    "# runs scored by this batsman\n",
    "adf1 = pd.DataFrame(abd_df.groupby('bowler')['runs_off_bat'].sum()).reset_index()"
   ]
  },
  {
   "cell_type": "code",
   "execution_count": 34,
   "metadata": {},
   "outputs": [
    {
     "data": {
      "text/html": [
       "<div>\n",
       "<style scoped>\n",
       "    .dataframe tbody tr th:only-of-type {\n",
       "        vertical-align: middle;\n",
       "    }\n",
       "\n",
       "    .dataframe tbody tr th {\n",
       "        vertical-align: top;\n",
       "    }\n",
       "\n",
       "    .dataframe thead th {\n",
       "        text-align: right;\n",
       "    }\n",
       "</style>\n",
       "<table border=\"1\" class=\"dataframe\">\n",
       "  <thead>\n",
       "    <tr style=\"text-align: right;\">\n",
       "      <th></th>\n",
       "      <th>bowler</th>\n",
       "      <th>runs_off_bat</th>\n",
       "    </tr>\n",
       "  </thead>\n",
       "  <tbody>\n",
       "    <tr>\n",
       "      <th>0</th>\n",
       "      <td>A Ashish Reddy</td>\n",
       "      <td>46</td>\n",
       "    </tr>\n",
       "    <tr>\n",
       "      <th>1</th>\n",
       "      <td>A Chandila</td>\n",
       "      <td>26</td>\n",
       "    </tr>\n",
       "    <tr>\n",
       "      <th>2</th>\n",
       "      <td>A Flintoff</td>\n",
       "      <td>34</td>\n",
       "    </tr>\n",
       "    <tr>\n",
       "      <th>3</th>\n",
       "      <td>A Kumble</td>\n",
       "      <td>39</td>\n",
       "    </tr>\n",
       "    <tr>\n",
       "      <th>4</th>\n",
       "      <td>A Mishra</td>\n",
       "      <td>40</td>\n",
       "    </tr>\n",
       "  </tbody>\n",
       "</table>\n",
       "</div>"
      ],
      "text/plain": [
       "           bowler  runs_off_bat\n",
       "0  A Ashish Reddy            46\n",
       "1      A Chandila            26\n",
       "2      A Flintoff            34\n",
       "3        A Kumble            39\n",
       "4        A Mishra            40"
      ]
     },
     "execution_count": 34,
     "metadata": {},
     "output_type": "execute_result"
    }
   ],
   "source": [
    "adf1.head()"
   ]
  },
  {
   "cell_type": "code",
   "execution_count": 35,
   "metadata": {},
   "outputs": [],
   "source": [
    "# balls faced\n",
    "adf2 = pd.DataFrame(abd_df.groupby('bowler')['ball'].count()).reset_index()"
   ]
  },
  {
   "cell_type": "code",
   "execution_count": 36,
   "metadata": {},
   "outputs": [
    {
     "data": {
      "text/html": [
       "<div>\n",
       "<style scoped>\n",
       "    .dataframe tbody tr th:only-of-type {\n",
       "        vertical-align: middle;\n",
       "    }\n",
       "\n",
       "    .dataframe tbody tr th {\n",
       "        vertical-align: top;\n",
       "    }\n",
       "\n",
       "    .dataframe thead th {\n",
       "        text-align: right;\n",
       "    }\n",
       "</style>\n",
       "<table border=\"1\" class=\"dataframe\">\n",
       "  <thead>\n",
       "    <tr style=\"text-align: right;\">\n",
       "      <th></th>\n",
       "      <th>bowler</th>\n",
       "      <th>ball</th>\n",
       "    </tr>\n",
       "  </thead>\n",
       "  <tbody>\n",
       "    <tr>\n",
       "      <th>0</th>\n",
       "      <td>A Ashish Reddy</td>\n",
       "      <td>18</td>\n",
       "    </tr>\n",
       "    <tr>\n",
       "      <th>1</th>\n",
       "      <td>A Chandila</td>\n",
       "      <td>11</td>\n",
       "    </tr>\n",
       "    <tr>\n",
       "      <th>2</th>\n",
       "      <td>A Flintoff</td>\n",
       "      <td>12</td>\n",
       "    </tr>\n",
       "    <tr>\n",
       "      <th>3</th>\n",
       "      <td>A Kumble</td>\n",
       "      <td>41</td>\n",
       "    </tr>\n",
       "    <tr>\n",
       "      <th>4</th>\n",
       "      <td>A Mishra</td>\n",
       "      <td>37</td>\n",
       "    </tr>\n",
       "  </tbody>\n",
       "</table>\n",
       "</div>"
      ],
      "text/plain": [
       "           bowler  ball\n",
       "0  A Ashish Reddy    18\n",
       "1      A Chandila    11\n",
       "2      A Flintoff    12\n",
       "3        A Kumble    41\n",
       "4        A Mishra    37"
      ]
     },
     "execution_count": 36,
     "metadata": {},
     "output_type": "execute_result"
    }
   ],
   "source": [
    "adf2.head()"
   ]
  },
  {
   "cell_type": "code",
   "execution_count": 37,
   "metadata": {},
   "outputs": [],
   "source": [
    "adf3 = adf1.merge(adf2, on = 'bowler', how = 'left')"
   ]
  },
  {
   "cell_type": "code",
   "execution_count": 38,
   "metadata": {},
   "outputs": [
    {
     "data": {
      "text/html": [
       "<div>\n",
       "<style scoped>\n",
       "    .dataframe tbody tr th:only-of-type {\n",
       "        vertical-align: middle;\n",
       "    }\n",
       "\n",
       "    .dataframe tbody tr th {\n",
       "        vertical-align: top;\n",
       "    }\n",
       "\n",
       "    .dataframe thead th {\n",
       "        text-align: right;\n",
       "    }\n",
       "</style>\n",
       "<table border=\"1\" class=\"dataframe\">\n",
       "  <thead>\n",
       "    <tr style=\"text-align: right;\">\n",
       "      <th></th>\n",
       "      <th>bowler</th>\n",
       "      <th>runs_off_bat</th>\n",
       "      <th>ball</th>\n",
       "    </tr>\n",
       "  </thead>\n",
       "  <tbody>\n",
       "    <tr>\n",
       "      <th>0</th>\n",
       "      <td>A Ashish Reddy</td>\n",
       "      <td>46</td>\n",
       "      <td>18</td>\n",
       "    </tr>\n",
       "  </tbody>\n",
       "</table>\n",
       "</div>"
      ],
      "text/plain": [
       "           bowler  runs_off_bat  ball\n",
       "0  A Ashish Reddy            46    18"
      ]
     },
     "execution_count": 38,
     "metadata": {},
     "output_type": "execute_result"
    }
   ],
   "source": [
    "adf3.head(1)"
   ]
  },
  {
   "cell_type": "code",
   "execution_count": 39,
   "metadata": {},
   "outputs": [],
   "source": [
    "adf3['strike_rate'] = 100*adf3['runs_off_bat']/adf3['ball']"
   ]
  },
  {
   "cell_type": "code",
   "execution_count": 40,
   "metadata": {},
   "outputs": [
    {
     "data": {
      "text/html": [
       "<div>\n",
       "<style scoped>\n",
       "    .dataframe tbody tr th:only-of-type {\n",
       "        vertical-align: middle;\n",
       "    }\n",
       "\n",
       "    .dataframe tbody tr th {\n",
       "        vertical-align: top;\n",
       "    }\n",
       "\n",
       "    .dataframe thead th {\n",
       "        text-align: right;\n",
       "    }\n",
       "</style>\n",
       "<table border=\"1\" class=\"dataframe\">\n",
       "  <thead>\n",
       "    <tr style=\"text-align: right;\">\n",
       "      <th></th>\n",
       "      <th>bowler</th>\n",
       "      <th>runs_off_bat</th>\n",
       "      <th>ball</th>\n",
       "      <th>strike_rate</th>\n",
       "    </tr>\n",
       "  </thead>\n",
       "  <tbody>\n",
       "    <tr>\n",
       "      <th>0</th>\n",
       "      <td>A Ashish Reddy</td>\n",
       "      <td>46</td>\n",
       "      <td>18</td>\n",
       "      <td>255.555556</td>\n",
       "    </tr>\n",
       "    <tr>\n",
       "      <th>1</th>\n",
       "      <td>A Chandila</td>\n",
       "      <td>26</td>\n",
       "      <td>11</td>\n",
       "      <td>236.363636</td>\n",
       "    </tr>\n",
       "    <tr>\n",
       "      <th>2</th>\n",
       "      <td>A Flintoff</td>\n",
       "      <td>34</td>\n",
       "      <td>12</td>\n",
       "      <td>283.333333</td>\n",
       "    </tr>\n",
       "    <tr>\n",
       "      <th>3</th>\n",
       "      <td>A Kumble</td>\n",
       "      <td>39</td>\n",
       "      <td>41</td>\n",
       "      <td>95.121951</td>\n",
       "    </tr>\n",
       "    <tr>\n",
       "      <th>4</th>\n",
       "      <td>A Mishra</td>\n",
       "      <td>40</td>\n",
       "      <td>37</td>\n",
       "      <td>108.108108</td>\n",
       "    </tr>\n",
       "  </tbody>\n",
       "</table>\n",
       "</div>"
      ],
      "text/plain": [
       "           bowler  runs_off_bat  ball  strike_rate\n",
       "0  A Ashish Reddy            46    18   255.555556\n",
       "1      A Chandila            26    11   236.363636\n",
       "2      A Flintoff            34    12   283.333333\n",
       "3        A Kumble            39    41    95.121951\n",
       "4        A Mishra            40    37   108.108108"
      ]
     },
     "execution_count": 40,
     "metadata": {},
     "output_type": "execute_result"
    }
   ],
   "source": [
    "adf3.head()"
   ]
  },
  {
   "cell_type": "code",
   "execution_count": 41,
   "metadata": {},
   "outputs": [],
   "source": [
    "# min criteria : 30 balls"
   ]
  },
  {
   "cell_type": "code",
   "execution_count": 42,
   "metadata": {},
   "outputs": [],
   "source": [
    "adf3 = adf3[adf3.ball >= 30]"
   ]
  },
  {
   "cell_type": "code",
   "execution_count": 43,
   "metadata": {},
   "outputs": [],
   "source": [
    "# bdf3, adf3"
   ]
  },
  {
   "cell_type": "code",
   "execution_count": 44,
   "metadata": {},
   "outputs": [],
   "source": [
    "rdf3.reset_index(inplace = True, drop = True)\n",
    "adf3.reset_index(inplace = True, drop = True)"
   ]
  },
  {
   "cell_type": "code",
   "execution_count": 45,
   "metadata": {},
   "outputs": [
    {
     "data": {
      "text/html": [
       "<div>\n",
       "<style scoped>\n",
       "    .dataframe tbody tr th:only-of-type {\n",
       "        vertical-align: middle;\n",
       "    }\n",
       "\n",
       "    .dataframe tbody tr th {\n",
       "        vertical-align: top;\n",
       "    }\n",
       "\n",
       "    .dataframe thead th {\n",
       "        text-align: right;\n",
       "    }\n",
       "</style>\n",
       "<table border=\"1\" class=\"dataframe\">\n",
       "  <thead>\n",
       "    <tr style=\"text-align: right;\">\n",
       "      <th></th>\n",
       "      <th>striker</th>\n",
       "      <th>runs_off_bat</th>\n",
       "      <th>ball</th>\n",
       "      <th>strike_rate</th>\n",
       "    </tr>\n",
       "  </thead>\n",
       "  <tbody>\n",
       "    <tr>\n",
       "      <th>0</th>\n",
       "      <td>AB de Villiers</td>\n",
       "      <td>38</td>\n",
       "      <td>39</td>\n",
       "      <td>97.435897</td>\n",
       "    </tr>\n",
       "    <tr>\n",
       "      <th>1</th>\n",
       "      <td>AM Rahane</td>\n",
       "      <td>41</td>\n",
       "      <td>34</td>\n",
       "      <td>120.588235</td>\n",
       "    </tr>\n",
       "    <tr>\n",
       "      <th>2</th>\n",
       "      <td>AT Rayudu</td>\n",
       "      <td>61</td>\n",
       "      <td>54</td>\n",
       "      <td>112.962963</td>\n",
       "    </tr>\n",
       "    <tr>\n",
       "      <th>3</th>\n",
       "      <td>HH Pandya</td>\n",
       "      <td>18</td>\n",
       "      <td>33</td>\n",
       "      <td>54.545455</td>\n",
       "    </tr>\n",
       "    <tr>\n",
       "      <th>4</th>\n",
       "      <td>Ishan Kishan</td>\n",
       "      <td>53</td>\n",
       "      <td>45</td>\n",
       "      <td>117.777778</td>\n",
       "    </tr>\n",
       "  </tbody>\n",
       "</table>\n",
       "</div>"
      ],
      "text/plain": [
       "          striker  runs_off_bat  ball  strike_rate\n",
       "0  AB de Villiers            38    39    97.435897\n",
       "1       AM Rahane            41    34   120.588235\n",
       "2       AT Rayudu            61    54   112.962963\n",
       "3       HH Pandya            18    33    54.545455\n",
       "4    Ishan Kishan            53    45   117.777778"
      ]
     },
     "execution_count": 45,
     "metadata": {},
     "output_type": "execute_result"
    }
   ],
   "source": [
    "rdf3.head()"
   ]
  },
  {
   "cell_type": "code",
   "execution_count": 46,
   "metadata": {},
   "outputs": [],
   "source": [
    "# adf3.sort_values('strike_rate', ascending = False)"
   ]
  },
  {
   "cell_type": "code",
   "execution_count": 75,
   "metadata": {},
   "outputs": [
    {
     "data": {
      "image/png": "[encoded data removed]",
      "text/plain": [
       "<Figure size 1152x576 with 1 Axes>"
      ]
     },
     "metadata": {
      "needs_background": "light"
     },
     "output_type": "display_data"
    }
   ],
   "source": [
    "plt.figure(figsize = (16, 8))\n",
    "plt.scatter(rdf3.strike_rate, rdf3.runs_off_bat)\n",
    "\n",
    "for i in range(len(rdf3)):\n",
    "#     plt.text(x, y, text)\n",
    "    if rdf3['striker'][i] == 'AB de Villiers':\n",
    "        plt.text(rdf3['strike_rate'][i] - 7, rdf3['runs_off_bat'][i] - 1, rdf3['striker'][i] )\n",
    "    else:\n",
    "        plt.text(rdf3['strike_rate'][i] + 1, rdf3['runs_off_bat'][i] - 1, rdf3['striker'][i] )\n",
    "\n",
    "plt.axvline(120, ls = '--', color = 'grey')\n",
    "plt.axhline(60, ls = '--', color = 'grey')\n",
    "plt.title('Batsman against Rashid Khan in IPL (min 30 balls faced)', fontsize = 20)\n",
    "plt.xlabel('Strike rate')\n",
    "plt.ylabel('Runs scored')\n",
    "plt.show()"
   ]
  },
  {
   "cell_type": "code",
   "execution_count": 98,
   "metadata": {},
   "outputs": [
    {
     "data": {
      "image/png": "[encoded data removed]",
      "text/plain": [
       "<Figure size 1152x576 with 1 Axes>"
      ]
     },
     "metadata": {
      "needs_background": "light"
     },
     "output_type": "display_data"
    }
   ],
   "source": [
    "plt.figure(figsize = (16,8))\n",
    "plt.rcParams['axes.facecolor'] = '#fff7fb'\n",
    "plt.scatter(adf3.strike_rate, adf3.runs_off_bat)\n",
    "\n",
    "for i in range(len(adf3)):\n",
    "    if adf3.bowler[i] == 'Rashid Khan':\n",
    "        plt.text(adf3.strike_rate[i] + 1, adf3.runs_off_bat[i] - 1, adf3.bowler[i], color = 'maroon')\n",
    "    \n",
    "    if adf3.bowler[i] == 'JJ Bumrah':\n",
    "        plt.text(adf3.strike_rate[i] + 2, adf3.runs_off_bat[i] - 1, adf3.bowler[i], color = 'maroon')\n",
    "    elif (adf3.bowler[i] == 'RA Jadeja') | (adf3.bowler[i] == 'SL Malinga') | (adf3.bowler[i] == 'Sandeep Sharma') | (adf3.bowler[i] == 'Harbhajan Singh'):\n",
    "        plt.text(adf3.strike_rate[i] + 2, adf3.runs_off_bat[i] - 1, adf3.bowler[i])\n",
    "    elif (adf3.bowler[i] == 'S Gopal')|(adf3.bowler[i]=='A Kumble'):\n",
    "        plt.text(adf3.strike_rate[i], adf3.runs_off_bat[i] + 4, adf3.bowler[i])\n",
    "    elif (adf3.bowler[i] == 'A Mishra'):\n",
    "        plt.text(adf3.strike_rate[i] - 3, adf3.runs_off_bat[i] - 6, adf3.bowler[i])\n",
    "    elif (adf3.bowler[i] == 'PP Chawla')|(adf3.bowler[i]=='KH Pandya'):\n",
    "        plt.text(adf3.strike_rate[i] +3, adf3.runs_off_bat[i] - 6, adf3.bowler[i])\n",
    "    elif (adf3.bowler[i] == 'HH Pandya'):\n",
    "        plt.text(adf3.strike_rate[i] -10, adf3.runs_off_bat[i] - 1, adf3.bowler[i])\n",
    "    elif (adf3.bowler[i]=='AD Russell'):\n",
    "        plt.text(adf3.strike_rate[i] +1, adf3.runs_off_bat[i] - 2, adf3.bowler[i])\n",
    "\n",
    "plt.axvline(110, ls = '--', color = 'grey')\n",
    "plt.axhline(80, ls = '--', color = 'grey')\n",
    "plt.title(\"ABD's Favorite Bowlers\", fontsize = 20)\n",
    "plt.xlabel('Strike rate')\n",
    "plt.ylabel('Runs scored')\n",
    "plt.savefig('Chart_ABD_vs_Bumrah_part2.jpg')\n",
    "plt.show()"
   ]
  },
  {
   "cell_type": "code",
   "execution_count": null,
   "metadata": {},
   "outputs": [],
   "source": []
  },
  {
   "cell_type": "code",
   "execution_count": null,
   "metadata": {},
   "outputs": [],
   "source": []
  }
 ],
 "metadata": {
  "kernelspec": {
   "display_name": "Python 3",
   "language": "python",
   "name": "python3"
  },
  "language_info": {
   "codemirror_mode": {
    "name": "ipython",
    "version": 3
   },
   "file_extension": ".py",
   "mimetype": "text/x-python",
   "name": "python",
   "nbconvert_exporter": "python",
   "pygments_lexer": "ipython3",
   "version": "3.8.5"
  }
 },
 "nbformat": 4,
 "nbformat_minor": 2
}
