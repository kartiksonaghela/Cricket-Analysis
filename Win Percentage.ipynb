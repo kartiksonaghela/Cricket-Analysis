{
 "cells": [
  {
   "cell_type": "code",
   "execution_count": 1,
   "metadata": {},
   "outputs": [],
   "source": [
    "import pandas as pd\n",
    "import numpy as np\n",
    "import matplotlib.pyplot as plt"
   ]
  },
  {
   "cell_type": "code",
   "execution_count": 2,
   "metadata": {},
   "outputs": [],
   "source": [
    "import warnings\n",
    "warnings.filterwarnings('ignore')\n"
   ]
  },
  {
   "cell_type": "code",
   "execution_count": 3,
   "metadata": {},
   "outputs": [],
   "source": [
    "data=pd.read_csv('Data.csv')"
   ]
  },
  {
   "cell_type": "code",
   "execution_count": 4,
   "metadata": {},
   "outputs": [
    {
     "data": {
      "text/html": [
       "<div>\n",
       "<style scoped>\n",
       "    .dataframe tbody tr th:only-of-type {\n",
       "        vertical-align: middle;\n",
       "    }\n",
       "\n",
       "    .dataframe tbody tr th {\n",
       "        vertical-align: top;\n",
       "    }\n",
       "\n",
       "    .dataframe thead th {\n",
       "        text-align: right;\n",
       "    }\n",
       "</style>\n",
       "<table border=\"1\" class=\"dataframe\">\n",
       "  <thead>\n",
       "    <tr style=\"text-align: right;\">\n",
       "      <th></th>\n",
       "      <th>match_id</th>\n",
       "      <th>season</th>\n",
       "      <th>start_date</th>\n",
       "      <th>venue</th>\n",
       "      <th>innings</th>\n",
       "      <th>ball</th>\n",
       "      <th>batting_team</th>\n",
       "      <th>bowling_team</th>\n",
       "      <th>striker</th>\n",
       "      <th>non_striker</th>\n",
       "      <th>...</th>\n",
       "      <th>extras</th>\n",
       "      <th>wides</th>\n",
       "      <th>noballs</th>\n",
       "      <th>byes</th>\n",
       "      <th>legbyes</th>\n",
       "      <th>penalty</th>\n",
       "      <th>wicket_type</th>\n",
       "      <th>player_dismissed</th>\n",
       "      <th>other_wicket_type</th>\n",
       "      <th>other_player_dismissed</th>\n",
       "    </tr>\n",
       "  </thead>\n",
       "  <tbody>\n",
       "    <tr>\n",
       "      <th>0</th>\n",
       "      <td>1001349</td>\n",
       "      <td>2016/17</td>\n",
       "      <td>2017-02-17</td>\n",
       "      <td>Melbourne Cricket Ground</td>\n",
       "      <td>1</td>\n",
       "      <td>0.1</td>\n",
       "      <td>Australia</td>\n",
       "      <td>Sri Lanka</td>\n",
       "      <td>AJ Finch</td>\n",
       "      <td>M Klinger</td>\n",
       "      <td>...</td>\n",
       "      <td>0</td>\n",
       "      <td>NaN</td>\n",
       "      <td>NaN</td>\n",
       "      <td>NaN</td>\n",
       "      <td>NaN</td>\n",
       "      <td>NaN</td>\n",
       "      <td>NaN</td>\n",
       "      <td>NaN</td>\n",
       "      <td>NaN</td>\n",
       "      <td>NaN</td>\n",
       "    </tr>\n",
       "    <tr>\n",
       "      <th>1</th>\n",
       "      <td>1001349</td>\n",
       "      <td>2016/17</td>\n",
       "      <td>2017-02-17</td>\n",
       "      <td>Melbourne Cricket Ground</td>\n",
       "      <td>1</td>\n",
       "      <td>0.2</td>\n",
       "      <td>Australia</td>\n",
       "      <td>Sri Lanka</td>\n",
       "      <td>AJ Finch</td>\n",
       "      <td>M Klinger</td>\n",
       "      <td>...</td>\n",
       "      <td>0</td>\n",
       "      <td>NaN</td>\n",
       "      <td>NaN</td>\n",
       "      <td>NaN</td>\n",
       "      <td>NaN</td>\n",
       "      <td>NaN</td>\n",
       "      <td>NaN</td>\n",
       "      <td>NaN</td>\n",
       "      <td>NaN</td>\n",
       "      <td>NaN</td>\n",
       "    </tr>\n",
       "    <tr>\n",
       "      <th>2</th>\n",
       "      <td>1001349</td>\n",
       "      <td>2016/17</td>\n",
       "      <td>2017-02-17</td>\n",
       "      <td>Melbourne Cricket Ground</td>\n",
       "      <td>1</td>\n",
       "      <td>0.3</td>\n",
       "      <td>Australia</td>\n",
       "      <td>Sri Lanka</td>\n",
       "      <td>AJ Finch</td>\n",
       "      <td>M Klinger</td>\n",
       "      <td>...</td>\n",
       "      <td>0</td>\n",
       "      <td>NaN</td>\n",
       "      <td>NaN</td>\n",
       "      <td>NaN</td>\n",
       "      <td>NaN</td>\n",
       "      <td>NaN</td>\n",
       "      <td>NaN</td>\n",
       "      <td>NaN</td>\n",
       "      <td>NaN</td>\n",
       "      <td>NaN</td>\n",
       "    </tr>\n",
       "    <tr>\n",
       "      <th>3</th>\n",
       "      <td>1001349</td>\n",
       "      <td>2016/17</td>\n",
       "      <td>2017-02-17</td>\n",
       "      <td>Melbourne Cricket Ground</td>\n",
       "      <td>1</td>\n",
       "      <td>0.4</td>\n",
       "      <td>Australia</td>\n",
       "      <td>Sri Lanka</td>\n",
       "      <td>M Klinger</td>\n",
       "      <td>AJ Finch</td>\n",
       "      <td>...</td>\n",
       "      <td>0</td>\n",
       "      <td>NaN</td>\n",
       "      <td>NaN</td>\n",
       "      <td>NaN</td>\n",
       "      <td>NaN</td>\n",
       "      <td>NaN</td>\n",
       "      <td>NaN</td>\n",
       "      <td>NaN</td>\n",
       "      <td>NaN</td>\n",
       "      <td>NaN</td>\n",
       "    </tr>\n",
       "    <tr>\n",
       "      <th>4</th>\n",
       "      <td>1001349</td>\n",
       "      <td>2016/17</td>\n",
       "      <td>2017-02-17</td>\n",
       "      <td>Melbourne Cricket Ground</td>\n",
       "      <td>1</td>\n",
       "      <td>0.5</td>\n",
       "      <td>Australia</td>\n",
       "      <td>Sri Lanka</td>\n",
       "      <td>M Klinger</td>\n",
       "      <td>AJ Finch</td>\n",
       "      <td>...</td>\n",
       "      <td>0</td>\n",
       "      <td>NaN</td>\n",
       "      <td>NaN</td>\n",
       "      <td>NaN</td>\n",
       "      <td>NaN</td>\n",
       "      <td>NaN</td>\n",
       "      <td>NaN</td>\n",
       "      <td>NaN</td>\n",
       "      <td>NaN</td>\n",
       "      <td>NaN</td>\n",
       "    </tr>\n",
       "  </tbody>\n",
       "</table>\n",
       "<p>5 rows × 22 columns</p>\n",
       "</div>"
      ],
      "text/plain": [
       "   match_id   season  start_date                     venue  innings  ball  \\\n",
       "0   1001349  2016/17  2017-02-17  Melbourne Cricket Ground        1   0.1   \n",
       "1   1001349  2016/17  2017-02-17  Melbourne Cricket Ground        1   0.2   \n",
       "2   1001349  2016/17  2017-02-17  Melbourne Cricket Ground        1   0.3   \n",
       "3   1001349  2016/17  2017-02-17  Melbourne Cricket Ground        1   0.4   \n",
       "4   1001349  2016/17  2017-02-17  Melbourne Cricket Ground        1   0.5   \n",
       "\n",
       "  batting_team bowling_team    striker non_striker  ... extras  wides  \\\n",
       "0    Australia    Sri Lanka   AJ Finch   M Klinger  ...      0    NaN   \n",
       "1    Australia    Sri Lanka   AJ Finch   M Klinger  ...      0    NaN   \n",
       "2    Australia    Sri Lanka   AJ Finch   M Klinger  ...      0    NaN   \n",
       "3    Australia    Sri Lanka  M Klinger    AJ Finch  ...      0    NaN   \n",
       "4    Australia    Sri Lanka  M Klinger    AJ Finch  ...      0    NaN   \n",
       "\n",
       "   noballs  byes  legbyes  penalty  wicket_type  player_dismissed  \\\n",
       "0      NaN   NaN      NaN      NaN          NaN               NaN   \n",
       "1      NaN   NaN      NaN      NaN          NaN               NaN   \n",
       "2      NaN   NaN      NaN      NaN          NaN               NaN   \n",
       "3      NaN   NaN      NaN      NaN          NaN               NaN   \n",
       "4      NaN   NaN      NaN      NaN          NaN               NaN   \n",
       "\n",
       "  other_wicket_type other_player_dismissed  \n",
       "0               NaN                    NaN  \n",
       "1               NaN                    NaN  \n",
       "2               NaN                    NaN  \n",
       "3               NaN                    NaN  \n",
       "4               NaN                    NaN  \n",
       "\n",
       "[5 rows x 22 columns]"
      ]
     },
     "execution_count": 4,
     "metadata": {},
     "output_type": "execute_result"
    }
   ],
   "source": [
    "data.head()"
   ]
  },
  {
   "cell_type": "code",
   "execution_count": 5,
   "metadata": {},
   "outputs": [
    {
     "data": {
      "text/plain": [
       "array(['2016/17', '2016', '2017', '2017/18', '2018', '2018/19', '2019',\n",
       "       '2019/20', '2020', '2020/21', '2005', '2004/05', '2005/06', '2006',\n",
       "       '2006/07', '2007', '2007/08', '2008', '2009', '2008/09', '2009/10',\n",
       "       '2010', '2010/11', '2011', '2011/12', '2012/13', '2012', '2013',\n",
       "       '2013/14', '2014', '2014/15', '2015', '2015/16'], dtype=object)"
      ]
     },
     "execution_count": 5,
     "metadata": {},
     "output_type": "execute_result"
    }
   ],
   "source": [
    "data['season'].unique()"
   ]
  },
  {
   "cell_type": "code",
   "execution_count": 6,
   "metadata": {},
   "outputs": [
    {
     "data": {
      "text/plain": [
       "array([1, 2, 3, 4], dtype=int64)"
      ]
     },
     "execution_count": 6,
     "metadata": {},
     "output_type": "execute_result"
    }
   ],
   "source": [
    "data.innings.unique()"
   ]
  },
  {
   "cell_type": "code",
   "execution_count": 7,
   "metadata": {},
   "outputs": [],
   "source": [
    "data_df = data[(data.innings == 1) | (data.innings == 2)]"
   ]
  },
  {
   "cell_type": "code",
   "execution_count": 8,
   "metadata": {},
   "outputs": [
    {
     "data": {
      "text/plain": [
       "array([1, 2], dtype=int64)"
      ]
     },
     "execution_count": 8,
     "metadata": {},
     "output_type": "execute_result"
    }
   ],
   "source": [
    "data_df['innings'].unique()"
   ]
  },
  {
   "cell_type": "markdown",
   "metadata": {},
   "source": [
    "# ADDITIONAL COLUMNS"
   ]
  },
  {
   "cell_type": "markdown",
   "metadata": {},
   "source": [
    "1. total runs in each ball\n",
    "2. is there a wicket fall in that ball"
   ]
  },
  {
   "cell_type": "code",
   "execution_count": 9,
   "metadata": {},
   "outputs": [],
   "source": [
    "data_df['total_runs'] = data_df.apply(lambda x: x['runs_off_bat'] + x['extras'], axis = 1)"
   ]
  },
  {
   "cell_type": "code",
   "execution_count": 10,
   "metadata": {},
   "outputs": [],
   "source": [
    "data_df['isOut'] = data_df['player_dismissed'].apply(lambda x: 1 if type(x) == type('str') else 0)"
   ]
  },
  {
   "cell_type": "code",
   "execution_count": 11,
   "metadata": {},
   "outputs": [
    {
     "data": {
      "text/plain": [
       "array([0, 1], dtype=int64)"
      ]
     },
     "execution_count": 11,
     "metadata": {},
     "output_type": "execute_result"
    }
   ],
   "source": [
    "data_df['isOut'].unique()"
   ]
  },
  {
   "cell_type": "markdown",
   "metadata": {},
   "source": [
    "# Choose Teams"
   ]
  },
  {
   "cell_type": "code",
   "execution_count": 12,
   "metadata": {},
   "outputs": [],
   "source": [
    "t1 = 'India'\n",
    "t2 = 'England'"
   ]
  },
  {
   "cell_type": "code",
   "execution_count": 13,
   "metadata": {},
   "outputs": [
    {
     "data": {
      "text/plain": [
       "array([1034825, 1034827, 1034829, 1119544,  287873,  474476,  521217,\n",
       "        533281,  565811], dtype=int64)"
      ]
     },
     "execution_count": 13,
     "metadata": {},
     "output_type": "execute_result"
    }
   ],
   "source": [
    "data_df[(data_df.batting_team == t1) & (data_df.bowling_team == t2) & (data_df.innings == 1)].match_id.unique()"
   ]
  },
  {
   "cell_type": "code",
   "execution_count": 14,
   "metadata": {},
   "outputs": [],
   "source": [
    "matchId=1034825"
   ]
  },
  {
   "cell_type": "code",
   "execution_count": 15,
   "metadata": {},
   "outputs": [],
   "source": [
    "mdf = data_df[data_df.match_id == matchId]"
   ]
  },
  {
   "cell_type": "code",
   "execution_count": 16,
   "metadata": {},
   "outputs": [
    {
     "data": {
      "text/html": [
       "<div>\n",
       "<style scoped>\n",
       "    .dataframe tbody tr th:only-of-type {\n",
       "        vertical-align: middle;\n",
       "    }\n",
       "\n",
       "    .dataframe tbody tr th {\n",
       "        vertical-align: top;\n",
       "    }\n",
       "\n",
       "    .dataframe thead th {\n",
       "        text-align: right;\n",
       "    }\n",
       "</style>\n",
       "<table border=\"1\" class=\"dataframe\">\n",
       "  <thead>\n",
       "    <tr style=\"text-align: right;\">\n",
       "      <th></th>\n",
       "      <th>match_id</th>\n",
       "      <th>season</th>\n",
       "      <th>start_date</th>\n",
       "      <th>venue</th>\n",
       "      <th>innings</th>\n",
       "      <th>ball</th>\n",
       "      <th>batting_team</th>\n",
       "      <th>bowling_team</th>\n",
       "      <th>striker</th>\n",
       "      <th>non_striker</th>\n",
       "      <th>...</th>\n",
       "      <th>noballs</th>\n",
       "      <th>byes</th>\n",
       "      <th>legbyes</th>\n",
       "      <th>penalty</th>\n",
       "      <th>wicket_type</th>\n",
       "      <th>player_dismissed</th>\n",
       "      <th>other_wicket_type</th>\n",
       "      <th>other_player_dismissed</th>\n",
       "      <th>total_runs</th>\n",
       "      <th>isOut</th>\n",
       "    </tr>\n",
       "  </thead>\n",
       "  <tbody>\n",
       "    <tr>\n",
       "      <th>3591</th>\n",
       "      <td>1034825</td>\n",
       "      <td>2016/17</td>\n",
       "      <td>2017-01-26</td>\n",
       "      <td>Green Park</td>\n",
       "      <td>1</td>\n",
       "      <td>0.1</td>\n",
       "      <td>India</td>\n",
       "      <td>England</td>\n",
       "      <td>V Kohli</td>\n",
       "      <td>KL Rahul</td>\n",
       "      <td>...</td>\n",
       "      <td>NaN</td>\n",
       "      <td>NaN</td>\n",
       "      <td>NaN</td>\n",
       "      <td>NaN</td>\n",
       "      <td>NaN</td>\n",
       "      <td>NaN</td>\n",
       "      <td>NaN</td>\n",
       "      <td>NaN</td>\n",
       "      <td>0</td>\n",
       "      <td>0</td>\n",
       "    </tr>\n",
       "    <tr>\n",
       "      <th>3592</th>\n",
       "      <td>1034825</td>\n",
       "      <td>2016/17</td>\n",
       "      <td>2017-01-26</td>\n",
       "      <td>Green Park</td>\n",
       "      <td>1</td>\n",
       "      <td>0.2</td>\n",
       "      <td>India</td>\n",
       "      <td>England</td>\n",
       "      <td>V Kohli</td>\n",
       "      <td>KL Rahul</td>\n",
       "      <td>...</td>\n",
       "      <td>NaN</td>\n",
       "      <td>NaN</td>\n",
       "      <td>NaN</td>\n",
       "      <td>NaN</td>\n",
       "      <td>NaN</td>\n",
       "      <td>NaN</td>\n",
       "      <td>NaN</td>\n",
       "      <td>NaN</td>\n",
       "      <td>0</td>\n",
       "      <td>0</td>\n",
       "    </tr>\n",
       "    <tr>\n",
       "      <th>3593</th>\n",
       "      <td>1034825</td>\n",
       "      <td>2016/17</td>\n",
       "      <td>2017-01-26</td>\n",
       "      <td>Green Park</td>\n",
       "      <td>1</td>\n",
       "      <td>0.3</td>\n",
       "      <td>India</td>\n",
       "      <td>England</td>\n",
       "      <td>V Kohli</td>\n",
       "      <td>KL Rahul</td>\n",
       "      <td>...</td>\n",
       "      <td>NaN</td>\n",
       "      <td>NaN</td>\n",
       "      <td>NaN</td>\n",
       "      <td>NaN</td>\n",
       "      <td>NaN</td>\n",
       "      <td>NaN</td>\n",
       "      <td>NaN</td>\n",
       "      <td>NaN</td>\n",
       "      <td>4</td>\n",
       "      <td>0</td>\n",
       "    </tr>\n",
       "    <tr>\n",
       "      <th>3594</th>\n",
       "      <td>1034825</td>\n",
       "      <td>2016/17</td>\n",
       "      <td>2017-01-26</td>\n",
       "      <td>Green Park</td>\n",
       "      <td>1</td>\n",
       "      <td>0.4</td>\n",
       "      <td>India</td>\n",
       "      <td>England</td>\n",
       "      <td>V Kohli</td>\n",
       "      <td>KL Rahul</td>\n",
       "      <td>...</td>\n",
       "      <td>NaN</td>\n",
       "      <td>NaN</td>\n",
       "      <td>NaN</td>\n",
       "      <td>NaN</td>\n",
       "      <td>NaN</td>\n",
       "      <td>NaN</td>\n",
       "      <td>NaN</td>\n",
       "      <td>NaN</td>\n",
       "      <td>1</td>\n",
       "      <td>0</td>\n",
       "    </tr>\n",
       "    <tr>\n",
       "      <th>3595</th>\n",
       "      <td>1034825</td>\n",
       "      <td>2016/17</td>\n",
       "      <td>2017-01-26</td>\n",
       "      <td>Green Park</td>\n",
       "      <td>1</td>\n",
       "      <td>0.5</td>\n",
       "      <td>India</td>\n",
       "      <td>England</td>\n",
       "      <td>KL Rahul</td>\n",
       "      <td>V Kohli</td>\n",
       "      <td>...</td>\n",
       "      <td>NaN</td>\n",
       "      <td>NaN</td>\n",
       "      <td>NaN</td>\n",
       "      <td>NaN</td>\n",
       "      <td>NaN</td>\n",
       "      <td>NaN</td>\n",
       "      <td>NaN</td>\n",
       "      <td>NaN</td>\n",
       "      <td>0</td>\n",
       "      <td>0</td>\n",
       "    </tr>\n",
       "  </tbody>\n",
       "</table>\n",
       "<p>5 rows × 24 columns</p>\n",
       "</div>"
      ],
      "text/plain": [
       "      match_id   season  start_date       venue  innings  ball batting_team  \\\n",
       "3591   1034825  2016/17  2017-01-26  Green Park        1   0.1        India   \n",
       "3592   1034825  2016/17  2017-01-26  Green Park        1   0.2        India   \n",
       "3593   1034825  2016/17  2017-01-26  Green Park        1   0.3        India   \n",
       "3594   1034825  2016/17  2017-01-26  Green Park        1   0.4        India   \n",
       "3595   1034825  2016/17  2017-01-26  Green Park        1   0.5        India   \n",
       "\n",
       "     bowling_team   striker non_striker  ... noballs  byes  legbyes  penalty  \\\n",
       "3591      England   V Kohli    KL Rahul  ...     NaN   NaN      NaN      NaN   \n",
       "3592      England   V Kohli    KL Rahul  ...     NaN   NaN      NaN      NaN   \n",
       "3593      England   V Kohli    KL Rahul  ...     NaN   NaN      NaN      NaN   \n",
       "3594      England   V Kohli    KL Rahul  ...     NaN   NaN      NaN      NaN   \n",
       "3595      England  KL Rahul     V Kohli  ...     NaN   NaN      NaN      NaN   \n",
       "\n",
       "      wicket_type  player_dismissed  other_wicket_type  \\\n",
       "3591          NaN               NaN                NaN   \n",
       "3592          NaN               NaN                NaN   \n",
       "3593          NaN               NaN                NaN   \n",
       "3594          NaN               NaN                NaN   \n",
       "3595          NaN               NaN                NaN   \n",
       "\n",
       "      other_player_dismissed total_runs isOut  \n",
       "3591                     NaN          0     0  \n",
       "3592                     NaN          0     0  \n",
       "3593                     NaN          4     0  \n",
       "3594                     NaN          1     0  \n",
       "3595                     NaN          0     0  \n",
       "\n",
       "[5 rows x 24 columns]"
      ]
     },
     "execution_count": 16,
     "metadata": {},
     "output_type": "execute_result"
    }
   ],
   "source": [
    "mdf.head()"
   ]
  },
  {
   "cell_type": "code",
   "execution_count": 17,
   "metadata": {},
   "outputs": [],
   "source": [
    "mdf.reset_index(inplace = True, drop = True)"
   ]
  },
  {
   "cell_type": "code",
   "execution_count": 18,
   "metadata": {},
   "outputs": [],
   "source": [
    "df1 = mdf[mdf.innings == 1] \n",
    "df2 = mdf[mdf.innings == 2] "
   ]
  },
  {
   "cell_type": "code",
   "execution_count": 73,
   "metadata": {},
   "outputs": [
    {
     "data": {
      "text/html": [
       "<div>\n",
       "<style scoped>\n",
       "    .dataframe tbody tr th:only-of-type {\n",
       "        vertical-align: middle;\n",
       "    }\n",
       "\n",
       "    .dataframe tbody tr th {\n",
       "        vertical-align: top;\n",
       "    }\n",
       "\n",
       "    .dataframe thead th {\n",
       "        text-align: right;\n",
       "    }\n",
       "</style>\n",
       "<table border=\"1\" class=\"dataframe\">\n",
       "  <thead>\n",
       "    <tr style=\"text-align: right;\">\n",
       "      <th></th>\n",
       "      <th>match_id</th>\n",
       "      <th>season</th>\n",
       "      <th>start_date</th>\n",
       "      <th>venue</th>\n",
       "      <th>innings</th>\n",
       "      <th>ball</th>\n",
       "      <th>batting_team</th>\n",
       "      <th>bowling_team</th>\n",
       "      <th>striker</th>\n",
       "      <th>non_striker</th>\n",
       "      <th>...</th>\n",
       "      <th>noballs</th>\n",
       "      <th>byes</th>\n",
       "      <th>legbyes</th>\n",
       "      <th>penalty</th>\n",
       "      <th>wicket_type</th>\n",
       "      <th>player_dismissed</th>\n",
       "      <th>other_wicket_type</th>\n",
       "      <th>other_player_dismissed</th>\n",
       "      <th>total_runs</th>\n",
       "      <th>isOut</th>\n",
       "    </tr>\n",
       "  </thead>\n",
       "  <tbody>\n",
       "    <tr>\n",
       "      <th>0</th>\n",
       "      <td>1034825</td>\n",
       "      <td>2016/17</td>\n",
       "      <td>2017-01-26</td>\n",
       "      <td>Green Park</td>\n",
       "      <td>1</td>\n",
       "      <td>0.1</td>\n",
       "      <td>India</td>\n",
       "      <td>England</td>\n",
       "      <td>V Kohli</td>\n",
       "      <td>KL Rahul</td>\n",
       "      <td>...</td>\n",
       "      <td>NaN</td>\n",
       "      <td>NaN</td>\n",
       "      <td>NaN</td>\n",
       "      <td>NaN</td>\n",
       "      <td>NaN</td>\n",
       "      <td>NaN</td>\n",
       "      <td>NaN</td>\n",
       "      <td>NaN</td>\n",
       "      <td>0</td>\n",
       "      <td>0</td>\n",
       "    </tr>\n",
       "    <tr>\n",
       "      <th>1</th>\n",
       "      <td>1034825</td>\n",
       "      <td>2016/17</td>\n",
       "      <td>2017-01-26</td>\n",
       "      <td>Green Park</td>\n",
       "      <td>1</td>\n",
       "      <td>0.2</td>\n",
       "      <td>India</td>\n",
       "      <td>England</td>\n",
       "      <td>V Kohli</td>\n",
       "      <td>KL Rahul</td>\n",
       "      <td>...</td>\n",
       "      <td>NaN</td>\n",
       "      <td>NaN</td>\n",
       "      <td>NaN</td>\n",
       "      <td>NaN</td>\n",
       "      <td>NaN</td>\n",
       "      <td>NaN</td>\n",
       "      <td>NaN</td>\n",
       "      <td>NaN</td>\n",
       "      <td>0</td>\n",
       "      <td>0</td>\n",
       "    </tr>\n",
       "    <tr>\n",
       "      <th>2</th>\n",
       "      <td>1034825</td>\n",
       "      <td>2016/17</td>\n",
       "      <td>2017-01-26</td>\n",
       "      <td>Green Park</td>\n",
       "      <td>1</td>\n",
       "      <td>0.3</td>\n",
       "      <td>India</td>\n",
       "      <td>England</td>\n",
       "      <td>V Kohli</td>\n",
       "      <td>KL Rahul</td>\n",
       "      <td>...</td>\n",
       "      <td>NaN</td>\n",
       "      <td>NaN</td>\n",
       "      <td>NaN</td>\n",
       "      <td>NaN</td>\n",
       "      <td>NaN</td>\n",
       "      <td>NaN</td>\n",
       "      <td>NaN</td>\n",
       "      <td>NaN</td>\n",
       "      <td>4</td>\n",
       "      <td>0</td>\n",
       "    </tr>\n",
       "    <tr>\n",
       "      <th>3</th>\n",
       "      <td>1034825</td>\n",
       "      <td>2016/17</td>\n",
       "      <td>2017-01-26</td>\n",
       "      <td>Green Park</td>\n",
       "      <td>1</td>\n",
       "      <td>0.4</td>\n",
       "      <td>India</td>\n",
       "      <td>England</td>\n",
       "      <td>V Kohli</td>\n",
       "      <td>KL Rahul</td>\n",
       "      <td>...</td>\n",
       "      <td>NaN</td>\n",
       "      <td>NaN</td>\n",
       "      <td>NaN</td>\n",
       "      <td>NaN</td>\n",
       "      <td>NaN</td>\n",
       "      <td>NaN</td>\n",
       "      <td>NaN</td>\n",
       "      <td>NaN</td>\n",
       "      <td>1</td>\n",
       "      <td>0</td>\n",
       "    </tr>\n",
       "    <tr>\n",
       "      <th>4</th>\n",
       "      <td>1034825</td>\n",
       "      <td>2016/17</td>\n",
       "      <td>2017-01-26</td>\n",
       "      <td>Green Park</td>\n",
       "      <td>1</td>\n",
       "      <td>0.5</td>\n",
       "      <td>India</td>\n",
       "      <td>England</td>\n",
       "      <td>KL Rahul</td>\n",
       "      <td>V Kohli</td>\n",
       "      <td>...</td>\n",
       "      <td>NaN</td>\n",
       "      <td>NaN</td>\n",
       "      <td>NaN</td>\n",
       "      <td>NaN</td>\n",
       "      <td>NaN</td>\n",
       "      <td>NaN</td>\n",
       "      <td>NaN</td>\n",
       "      <td>NaN</td>\n",
       "      <td>0</td>\n",
       "      <td>0</td>\n",
       "    </tr>\n",
       "    <tr>\n",
       "      <th>...</th>\n",
       "      <td>...</td>\n",
       "      <td>...</td>\n",
       "      <td>...</td>\n",
       "      <td>...</td>\n",
       "      <td>...</td>\n",
       "      <td>...</td>\n",
       "      <td>...</td>\n",
       "      <td>...</td>\n",
       "      <td>...</td>\n",
       "      <td>...</td>\n",
       "      <td>...</td>\n",
       "      <td>...</td>\n",
       "      <td>...</td>\n",
       "      <td>...</td>\n",
       "      <td>...</td>\n",
       "      <td>...</td>\n",
       "      <td>...</td>\n",
       "      <td>...</td>\n",
       "      <td>...</td>\n",
       "      <td>...</td>\n",
       "      <td>...</td>\n",
       "    </tr>\n",
       "    <tr>\n",
       "      <th>123</th>\n",
       "      <td>1034825</td>\n",
       "      <td>2016/17</td>\n",
       "      <td>2017-01-26</td>\n",
       "      <td>Green Park</td>\n",
       "      <td>1</td>\n",
       "      <td>19.2</td>\n",
       "      <td>India</td>\n",
       "      <td>England</td>\n",
       "      <td>MS Dhoni</td>\n",
       "      <td>Parvez Rasool</td>\n",
       "      <td>...</td>\n",
       "      <td>NaN</td>\n",
       "      <td>NaN</td>\n",
       "      <td>NaN</td>\n",
       "      <td>NaN</td>\n",
       "      <td>NaN</td>\n",
       "      <td>NaN</td>\n",
       "      <td>NaN</td>\n",
       "      <td>NaN</td>\n",
       "      <td>4</td>\n",
       "      <td>0</td>\n",
       "    </tr>\n",
       "    <tr>\n",
       "      <th>124</th>\n",
       "      <td>1034825</td>\n",
       "      <td>2016/17</td>\n",
       "      <td>2017-01-26</td>\n",
       "      <td>Green Park</td>\n",
       "      <td>1</td>\n",
       "      <td>19.3</td>\n",
       "      <td>India</td>\n",
       "      <td>England</td>\n",
       "      <td>MS Dhoni</td>\n",
       "      <td>Parvez Rasool</td>\n",
       "      <td>...</td>\n",
       "      <td>NaN</td>\n",
       "      <td>NaN</td>\n",
       "      <td>NaN</td>\n",
       "      <td>NaN</td>\n",
       "      <td>NaN</td>\n",
       "      <td>NaN</td>\n",
       "      <td>NaN</td>\n",
       "      <td>NaN</td>\n",
       "      <td>4</td>\n",
       "      <td>0</td>\n",
       "    </tr>\n",
       "    <tr>\n",
       "      <th>125</th>\n",
       "      <td>1034825</td>\n",
       "      <td>2016/17</td>\n",
       "      <td>2017-01-26</td>\n",
       "      <td>Green Park</td>\n",
       "      <td>1</td>\n",
       "      <td>19.4</td>\n",
       "      <td>India</td>\n",
       "      <td>England</td>\n",
       "      <td>MS Dhoni</td>\n",
       "      <td>Parvez Rasool</td>\n",
       "      <td>...</td>\n",
       "      <td>NaN</td>\n",
       "      <td>NaN</td>\n",
       "      <td>NaN</td>\n",
       "      <td>NaN</td>\n",
       "      <td>run out</td>\n",
       "      <td>Parvez Rasool</td>\n",
       "      <td>NaN</td>\n",
       "      <td>NaN</td>\n",
       "      <td>0</td>\n",
       "      <td>1</td>\n",
       "    </tr>\n",
       "    <tr>\n",
       "      <th>126</th>\n",
       "      <td>1034825</td>\n",
       "      <td>2016/17</td>\n",
       "      <td>2017-01-26</td>\n",
       "      <td>Green Park</td>\n",
       "      <td>1</td>\n",
       "      <td>19.5</td>\n",
       "      <td>India</td>\n",
       "      <td>England</td>\n",
       "      <td>MS Dhoni</td>\n",
       "      <td>JJ Bumrah</td>\n",
       "      <td>...</td>\n",
       "      <td>NaN</td>\n",
       "      <td>NaN</td>\n",
       "      <td>NaN</td>\n",
       "      <td>NaN</td>\n",
       "      <td>NaN</td>\n",
       "      <td>NaN</td>\n",
       "      <td>NaN</td>\n",
       "      <td>NaN</td>\n",
       "      <td>0</td>\n",
       "      <td>0</td>\n",
       "    </tr>\n",
       "    <tr>\n",
       "      <th>127</th>\n",
       "      <td>1034825</td>\n",
       "      <td>2016/17</td>\n",
       "      <td>2017-01-26</td>\n",
       "      <td>Green Park</td>\n",
       "      <td>1</td>\n",
       "      <td>19.6</td>\n",
       "      <td>India</td>\n",
       "      <td>England</td>\n",
       "      <td>MS Dhoni</td>\n",
       "      <td>JJ Bumrah</td>\n",
       "      <td>...</td>\n",
       "      <td>NaN</td>\n",
       "      <td>NaN</td>\n",
       "      <td>NaN</td>\n",
       "      <td>NaN</td>\n",
       "      <td>NaN</td>\n",
       "      <td>NaN</td>\n",
       "      <td>NaN</td>\n",
       "      <td>NaN</td>\n",
       "      <td>2</td>\n",
       "      <td>0</td>\n",
       "    </tr>\n",
       "  </tbody>\n",
       "</table>\n",
       "<p>128 rows × 24 columns</p>\n",
       "</div>"
      ],
      "text/plain": [
       "     match_id   season  start_date       venue  innings  ball batting_team  \\\n",
       "0     1034825  2016/17  2017-01-26  Green Park        1   0.1        India   \n",
       "1     1034825  2016/17  2017-01-26  Green Park        1   0.2        India   \n",
       "2     1034825  2016/17  2017-01-26  Green Park        1   0.3        India   \n",
       "3     1034825  2016/17  2017-01-26  Green Park        1   0.4        India   \n",
       "4     1034825  2016/17  2017-01-26  Green Park        1   0.5        India   \n",
       "..        ...      ...         ...         ...      ...   ...          ...   \n",
       "123   1034825  2016/17  2017-01-26  Green Park        1  19.2        India   \n",
       "124   1034825  2016/17  2017-01-26  Green Park        1  19.3        India   \n",
       "125   1034825  2016/17  2017-01-26  Green Park        1  19.4        India   \n",
       "126   1034825  2016/17  2017-01-26  Green Park        1  19.5        India   \n",
       "127   1034825  2016/17  2017-01-26  Green Park        1  19.6        India   \n",
       "\n",
       "    bowling_team   striker    non_striker  ... noballs  byes  legbyes  \\\n",
       "0        England   V Kohli       KL Rahul  ...     NaN   NaN      NaN   \n",
       "1        England   V Kohli       KL Rahul  ...     NaN   NaN      NaN   \n",
       "2        England   V Kohli       KL Rahul  ...     NaN   NaN      NaN   \n",
       "3        England   V Kohli       KL Rahul  ...     NaN   NaN      NaN   \n",
       "4        England  KL Rahul        V Kohli  ...     NaN   NaN      NaN   \n",
       "..           ...       ...            ...  ...     ...   ...      ...   \n",
       "123      England  MS Dhoni  Parvez Rasool  ...     NaN   NaN      NaN   \n",
       "124      England  MS Dhoni  Parvez Rasool  ...     NaN   NaN      NaN   \n",
       "125      England  MS Dhoni  Parvez Rasool  ...     NaN   NaN      NaN   \n",
       "126      England  MS Dhoni      JJ Bumrah  ...     NaN   NaN      NaN   \n",
       "127      England  MS Dhoni      JJ Bumrah  ...     NaN   NaN      NaN   \n",
       "\n",
       "     penalty  wicket_type  player_dismissed  other_wicket_type  \\\n",
       "0        NaN          NaN               NaN                NaN   \n",
       "1        NaN          NaN               NaN                NaN   \n",
       "2        NaN          NaN               NaN                NaN   \n",
       "3        NaN          NaN               NaN                NaN   \n",
       "4        NaN          NaN               NaN                NaN   \n",
       "..       ...          ...               ...                ...   \n",
       "123      NaN          NaN               NaN                NaN   \n",
       "124      NaN          NaN               NaN                NaN   \n",
       "125      NaN      run out     Parvez Rasool                NaN   \n",
       "126      NaN          NaN               NaN                NaN   \n",
       "127      NaN          NaN               NaN                NaN   \n",
       "\n",
       "     other_player_dismissed total_runs isOut  \n",
       "0                       NaN          0     0  \n",
       "1                       NaN          0     0  \n",
       "2                       NaN          4     0  \n",
       "3                       NaN          1     0  \n",
       "4                       NaN          0     0  \n",
       "..                      ...        ...   ...  \n",
       "123                     NaN          4     0  \n",
       "124                     NaN          4     0  \n",
       "125                     NaN          0     1  \n",
       "126                     NaN          0     0  \n",
       "127                     NaN          2     0  \n",
       "\n",
       "[128 rows x 24 columns]"
      ]
     },
     "execution_count": 73,
     "metadata": {},
     "output_type": "execute_result"
    }
   ],
   "source": [
    "df1"
   ]
  },
  {
   "cell_type": "markdown",
   "metadata": {},
   "source": [
    "# Outcomes"
   ]
  },
  {
   "cell_type": "code",
   "execution_count": 19,
   "metadata": {},
   "outputs": [],
   "source": [
    "outcomes = [0, 1, 2, 3, 4, 6, 'w']"
   ]
  },
  {
   "cell_type": "code",
   "execution_count": 20,
   "metadata": {},
   "outputs": [
    {
     "data": {
      "text/plain": [
       "1    6892\n",
       "0    5043\n",
       "4    1736\n",
       "2    1187\n",
       "6     722\n",
       "3      87\n",
       "5      27\n",
       "7       4\n",
       "Name: total_runs, dtype: int64"
      ]
     },
     "execution_count": 20,
     "metadata": {},
     "output_type": "execute_result"
    }
   ],
   "source": [
    "data_df[data_df.batting_team == t1].total_runs.value_counts()"
   ]
  },
  {
   "cell_type": "code",
   "execution_count": 21,
   "metadata": {},
   "outputs": [
    {
     "data": {
      "text/plain": [
       "682"
      ]
     },
     "execution_count": 21,
     "metadata": {},
     "output_type": "execute_result"
    }
   ],
   "source": [
    "data_df[data_df.batting_team == t1].isOut.sum()"
   ]
  },
  {
   "cell_type": "code",
   "execution_count": 22,
   "metadata": {},
   "outputs": [],
   "source": [
    "t1_outcomes_count = data_df[data_df.batting_team == t1].total_runs.value_counts()\n",
    "t2_outcomes_count = data_df[data_df.batting_team == t2].total_runs.value_counts()"
   ]
  },
  {
   "cell_type": "code",
   "execution_count": 23,
   "metadata": {},
   "outputs": [
    {
     "data": {
      "text/plain": [
       "1    6892\n",
       "0    5043\n",
       "4    1736\n",
       "2    1187\n",
       "6     722\n",
       "3      87\n",
       "5      27\n",
       "7       4\n",
       "Name: total_runs, dtype: int64"
      ]
     },
     "execution_count": 23,
     "metadata": {},
     "output_type": "execute_result"
    }
   ],
   "source": [
    "t1_outcomes_count"
   ]
  },
  {
   "cell_type": "code",
   "execution_count": 24,
   "metadata": {},
   "outputs": [],
   "source": [
    "t1_outs = data_df[data_df.batting_team == t1].isOut.sum()\n",
    "t2_outs = data_df[data_df.batting_team == t2].isOut.sum()"
   ]
  },
  {
   "cell_type": "code",
   "execution_count": 25,
   "metadata": {},
   "outputs": [],
   "source": [
    "t1_outcomes = []\n",
    "t2_outcomes = []\n",
    "\n",
    "for outcome in outcomes:\n",
    "    if outcome != 'w':\n",
    "        t1_outcomes.append(t1_outcomes_count[outcome])\n",
    "        t2_outcomes.append(t2_outcomes_count[outcome])\n",
    "    else:\n",
    "        t1_outcomes.append(t1_outs)\n",
    "        t2_outcomes.append(t2_outs)"
   ]
  },
  {
   "cell_type": "code",
   "execution_count": 26,
   "metadata": {},
   "outputs": [
    {
     "data": {
      "text/plain": [
       "([5043, 6892, 1187, 87, 1736, 722, 682],\n",
       " [4889, 6021, 1151, 90, 1719, 670, 781])"
      ]
     },
     "execution_count": 26,
     "metadata": {},
     "output_type": "execute_result"
    }
   ],
   "source": [
    "t1_outcomes, t2_outcomes"
   ]
  },
  {
   "cell_type": "code",
   "execution_count": 27,
   "metadata": {},
   "outputs": [],
   "source": [
    "t1_pb_outcomes = [i/sum(t1_outcomes) for i in t1_outcomes]\n",
    "t2_pb_outcomes = [i/sum(t2_outcomes) for i in t2_outcomes]"
   ]
  },
  {
   "cell_type": "code",
   "execution_count": 28,
   "metadata": {},
   "outputs": [
    {
     "data": {
      "text/plain": [
       "[0.30845923298061045,\n",
       " 0.42155483515811365,\n",
       " 0.07260382898036577,\n",
       " 0.00532142638693498,\n",
       " 0.10618386445654168,\n",
       " 0.04416172242950639,\n",
       " 0.04171508960792709]"
      ]
     },
     "execution_count": 28,
     "metadata": {},
     "output_type": "execute_result"
    }
   ],
   "source": [
    "t1_pb_outcomes"
   ]
  },
  {
   "cell_type": "code",
   "execution_count": 29,
   "metadata": {},
   "outputs": [
    {
     "data": {
      "text/plain": [
       "(array([0.30845923, 0.73001407, 0.8026179 , 0.80793932, 0.91412319,\n",
       "        0.95828491, 1.        ]),\n",
       " array([0.3191045 , 0.71209451, 0.78722016, 0.79309445, 0.90529339,\n",
       "        0.94902422, 1.        ]))"
      ]
     },
     "execution_count": 29,
     "metadata": {},
     "output_type": "execute_result"
    }
   ],
   "source": [
    "t1_pb_ls = np.cumsum(t1_pb_outcomes)\n",
    "t2_pb_ls = np.cumsum(t2_pb_outcomes)\n",
    "t1_pb_ls, t2_pb_ls"
   ]
  },
  {
   "cell_type": "markdown",
   "metadata": {},
   "source": [
    "# Function: 1st Innings runs prediction"
   ]
  },
  {
   "cell_type": "code",
   "execution_count": 30,
   "metadata": {},
   "outputs": [],
   "source": [
    "def innings_1_runs(curr_score, curr_wickets, curr_overs):\n",
    "    # initialize\n",
    "    pred_runs = curr_score\n",
    "    pred_wks = curr_wickets\n",
    "    over_ball = curr_overs\n",
    "\n",
    "    over_no = int(str(over_ball).split('.')[0])\n",
    "    ball_no = int(str(over_ball).split('.')[1])\n",
    "    \n",
    "    leftover_balls = 120 - (over_no*6 + ball_no)\n",
    "    i1p_0 = t1_pb_ls[0]\n",
    "    i1p_1 = t1_pb_ls[1]\n",
    "    i1p_2 = t1_pb_ls[2]\n",
    "    i1p_3 = t1_pb_ls[3]\n",
    "    i1p_4 = t1_pb_ls[4]\n",
    "    i1p_6 = t1_pb_ls[5]\n",
    "    i1p_w = t1_pb_ls[6]\n",
    "    \n",
    "    i2p_0 = t2_pb_ls[0]\n",
    "    i2p_1 = t2_pb_ls[1]\n",
    "    i2p_2 = t2_pb_ls[2]\n",
    "    i2p_3 = t2_pb_ls[3]\n",
    "    i2p_4 = t2_pb_ls[4]\n",
    "    i2p_6 = t2_pb_ls[5]\n",
    "    i2p_w = t2_pb_ls[6]\n",
    "\n",
    "    for i in range(leftover_balls):\n",
    "        r_value = np.random.random()\n",
    "\n",
    "        if r_value <= i1p_0:\n",
    "            pred_runs += 0\n",
    "        elif r_value <= i1p_1:\n",
    "            pred_runs += 1\n",
    "        elif r_value <= i1p_2:\n",
    "            pred_runs += 2\n",
    "        elif r_value <= i1p_3:\n",
    "            pred_runs += 3\n",
    "        elif r_value <= i1p_4:\n",
    "            pred_runs += 4\n",
    "        elif r_value <= i1p_6:\n",
    "            pred_runs += 6\n",
    "        else:\n",
    "            pred_runs += 0\n",
    "            pred_wks += 1   \n",
    "\n",
    "            if pred_wks == 10:\n",
    "                break\n",
    "                \n",
    "    return pred_runs"
   ]
  },
  {
   "cell_type": "code",
   "execution_count": 31,
   "metadata": {},
   "outputs": [
    {
     "data": {
      "text/plain": [
       "167"
      ]
     },
     "execution_count": 31,
     "metadata": {},
     "output_type": "execute_result"
    }
   ],
   "source": [
    "# innings_1_runs(curr_score, curr_wickets, curr_overs)\n",
    "innings_1_runs(140, 2, 15.0)"
   ]
  },
  {
   "cell_type": "markdown",
   "metadata": {},
   "source": [
    "# Function: 2nd Innings runs prediction"
   ]
  },
  {
   "cell_type": "code",
   "execution_count": 32,
   "metadata": {},
   "outputs": [],
   "source": [
    "def innings_2_runs(curr_score, curr_wickets, curr_overs, target):\n",
    "    # initialize\n",
    "    pred_runs = curr_score\n",
    "    pred_wks = curr_wickets\n",
    "    over_ball = curr_overs\n",
    "\n",
    "    over_no = int(str(over_ball).split('.')[0])\n",
    "    ball_no = int(str(over_ball).split('.')[1])\n",
    "\n",
    "    leftover_balls = 120 - (over_no*6 + ball_no)\n",
    "\n",
    "    i2p_0 = t2_pb_ls[0]\n",
    "    i2p_1 = t2_pb_ls[1]\n",
    "    i2p_2 = t2_pb_ls[2]\n",
    "    i2p_3 = t2_pb_ls[3]\n",
    "    i2p_4 = t2_pb_ls[4]\n",
    "    i2p_6 = t2_pb_ls[5]\n",
    "    i2p_w = t2_pb_ls[6]\n",
    "\n",
    "    for i in range(leftover_balls):\n",
    "        r_value = np.random.random()\n",
    "\n",
    "        if r_value <= i2p_0:\n",
    "            pred_runs += 0\n",
    "        elif r_value <= i2p_1:\n",
    "            pred_runs += 1\n",
    "        elif r_value <= i2p_2:\n",
    "            pred_runs += 2\n",
    "        elif r_value <= i2p_3:\n",
    "            pred_runs += 3\n",
    "        elif r_value <= i2p_4:\n",
    "            pred_runs += 4\n",
    "        elif r_value <= i2p_6:\n",
    "            pred_runs += 6\n",
    "        else:\n",
    "            pred_runs += 0\n",
    "            pred_wks += 1   \n",
    "\n",
    "            if pred_wks == 10:\n",
    "                break\n",
    "        if pred_runs > target:\n",
    "            break\n",
    "                \n",
    "    return pred_runs"
   ]
  },
  {
   "cell_type": "code",
   "execution_count": 33,
   "metadata": {},
   "outputs": [
    {
     "data": {
      "text/plain": [
       "151"
      ]
     },
     "execution_count": 33,
     "metadata": {},
     "output_type": "execute_result"
    }
   ],
   "source": [
    "# innings_2_runs(curr_score, curr_wickets, curr_overs, target)\n",
    "innings_2_runs(140, 4, 19.0, 150)"
   ]
  },
  {
   "cell_type": "code",
   "execution_count": 34,
   "metadata": {},
   "outputs": [],
   "source": [
    "df_ing1 = mdf[mdf.innings == 1] \n",
    "df_ing2 = mdf[mdf.innings == 2] "
   ]
  },
  {
   "cell_type": "code",
   "execution_count": 54,
   "metadata": {},
   "outputs": [],
   "source": [
    "df_ing2=df_ing2.reset_index()"
   ]
  },
  {
   "cell_type": "code",
   "execution_count": 55,
   "metadata": {},
   "outputs": [
    {
     "data": {
      "text/plain": [
       "(128, 24)"
      ]
     },
     "execution_count": 55,
     "metadata": {},
     "output_type": "execute_result"
    }
   ],
   "source": [
    "df_ing1.shape"
   ]
  },
  {
   "cell_type": "code",
   "execution_count": 36,
   "metadata": {},
   "outputs": [],
   "source": [
    "curr_score = 0\n",
    "curr_wickets = 0\n",
    "curr_overs = 0.0\n",
    "\n",
    "ing1_runs_pred = []\n",
    "\n",
    "for i in range(len(df_ing1)):\n",
    "    curr_score += df_ing1.total_runs[i]\n",
    "    curr_wickets += df_ing1.isOut[i]\n",
    "    curr_overs = df_ing1.ball[i]\n",
    "    \n",
    "    prediction = innings_1_runs(curr_score, curr_wickets, curr_overs)\n",
    "    ing1_runs_pred.append(prediction)"
   ]
  },
  {
   "cell_type": "code",
   "execution_count": 56,
   "metadata": {},
   "outputs": [
    {
     "data": {
      "text/plain": [
       "147"
      ]
     },
     "execution_count": 56,
     "metadata": {},
     "output_type": "execute_result"
    }
   ],
   "source": [
    "sum(df_ing1.total_runs)"
   ]
  },
  {
   "cell_type": "code",
   "execution_count": 57,
   "metadata": {},
   "outputs": [],
   "source": [
    "actual_score = sum(df_ing1.total_runs)"
   ]
  },
  {
   "cell_type": "code",
   "execution_count": 58,
   "metadata": {},
   "outputs": [
    {
     "data": {
      "image/png": "[encoded data removed]",
      "text/plain": [
       "<Figure size 1152x432 with 1 Axes>"
      ]
     },
     "metadata": {
      "needs_background": "light"
     },
     "output_type": "display_data"
    }
   ],
   "source": [
    "x_values = [i for i in range(len(df_ing1))]\n",
    "y_values = ing1_runs_pred\n",
    "\n",
    "plt.figure(figsize = (16, 6))\n",
    "plt.scatter(x_values, y_values, color = 'r', alpha = 0.5, label = 'pred')\n",
    "plt.axhline(actual_score, ls = '--', color = 'g', label = 'actual')\n",
    "plt.ylim(0, actual_score + 40 )\n",
    "plt.title('First Innings - Runs Prediction :'+ str(actual_score), fontsize = 16)\n",
    "plt.xlabel('Ball No')\n",
    "plt.ylabel('Runs')\n",
    "plt.legend()\n",
    "plt.show()"
   ]
  },
  {
   "cell_type": "code",
   "execution_count": 59,
   "metadata": {},
   "outputs": [
    {
     "data": {
      "text/plain": [
       "10.1953125"
      ]
     },
     "execution_count": 59,
     "metadata": {},
     "output_type": "execute_result"
    }
   ],
   "source": [
    "error_ing1_ls = [abs(i - actual_score) for i in ing1_runs_pred]\n",
    "np.mean(error_ing1_ls)"
   ]
  },
  {
   "cell_type": "markdown",
   "metadata": {},
   "source": [
    "# Runs prediction: 2nd Innings"
   ]
  },
  {
   "cell_type": "code",
   "execution_count": 61,
   "metadata": {},
   "outputs": [],
   "source": [
    "# define target as ing 1 actual score\n",
    "ing1_actual_score = actual_score \n",
    "target = ing1_actual_score\n",
    "\n",
    "curr_score = 0\n",
    "curr_wickets = 0\n",
    "curr_overs = 0.0\n",
    "\n",
    "ing2_runs_pred = []\n",
    "for i in range(len(df_ing2)):\n",
    "    curr_score += df_ing2.total_runs[i]\n",
    "    curr_overs = df_ing2.ball[i]\n",
    "    curr_wickets += df_ing2.isOut[i]\n",
    "    \n",
    "    prediction = innings_2_runs(curr_score, curr_wickets, curr_overs, target)\n",
    "    ing2_runs_pred.append(prediction)"
   ]
  },
  {
   "cell_type": "code",
   "execution_count": 62,
   "metadata": {},
   "outputs": [],
   "source": [
    "ing2_actual_score = sum(df_ing2.total_runs)"
   ]
  },
  {
   "cell_type": "code",
   "execution_count": 63,
   "metadata": {},
   "outputs": [
    {
     "data": {
      "image/png": "[encoded data removed]",
      "text/plain": [
       "<Figure size 1152x432 with 1 Axes>"
      ]
     },
     "metadata": {
      "needs_background": "light"
     },
     "output_type": "display_data"
    }
   ],
   "source": [
    "plt.figure(figsize = (16, 6))\n",
    "plt.scatter([i for i in range(len(ing2_runs_pred))], ing2_runs_pred, alpha = 0.5, label = 'pred', color = 'red')\n",
    "plt.ylim(0, ing2_actual_score + 30)\n",
    "plt.axhline(ing2_actual_score, ls = '--', label = 'actual', color = 'green')\n",
    "plt.title('Second Innings Runs - Prediction vs Actual (' + t2 + ': ' + str(ing2_actual_score) +  ')', fontsize = 16)\n",
    "plt.xlabel('Ball No')\n",
    "plt.ylabel('Runs')\n",
    "plt.legend()\n",
    "plt.show()"
   ]
  },
  {
   "cell_type": "code",
   "execution_count": 64,
   "metadata": {},
   "outputs": [
    {
     "data": {
      "text/plain": [
       "2.9026548672566372"
      ]
     },
     "execution_count": 64,
     "metadata": {},
     "output_type": "execute_result"
    }
   ],
   "source": [
    "np.mean([abs(i - ing2_actual_score) for i in ing2_runs_pred])"
   ]
  },
  {
   "cell_type": "markdown",
   "metadata": {},
   "source": [
    "# Win Percentrage 1 innings"
   ]
  },
  {
   "cell_type": "code",
   "execution_count": 66,
   "metadata": {},
   "outputs": [],
   "source": [
    "# initialize win/tie/lose - w.r.t chasing team\n",
    "win_count = 0\n",
    "tie_count = 0\n",
    "lose_count = 0\n",
    "\n",
    "win_count_ls = []\n",
    "tie_count_ls = []\n",
    "lose_count_ls = []\n",
    "\n",
    "ing1_curr_score = 0\n",
    "ing1_curr_overs = 0\n",
    "ing1_curr_wickets = 0\n",
    "\n",
    "# each ball\n",
    "for i in range(len(df_ing1)):\n",
    "    \n",
    "    # 1st innings values\n",
    "    ing1_curr_score += df_ing1.total_runs[i]\n",
    "    ing1_curr_overs = df_ing1.ball[i]\n",
    "    ing1_curr_wickets += df_ing1.isOut[i]\n",
    "    \n",
    "    #2nd innings values\n",
    "    ing2_curr_score = 0\n",
    "    ing2_curr_wickets = 0\n",
    "    ing2_curr_overs = 0.0\n",
    "    \n",
    "    # 100 iterations: (ex: 43% wins, 17% tie, 40% lose)\n",
    "    for j in range(100):   \n",
    "        ing1_runs_prediction = innings_1_runs(ing1_curr_score, ing1_curr_wickets, ing1_curr_overs)\n",
    "        target = ing1_runs_prediction\n",
    "        \n",
    "        ing2_runs_prediction = innings_2_runs(ing2_curr_score, ing2_curr_wickets, ing2_curr_overs, target)\n",
    "        \n",
    "        if ing2_runs_prediction > target:\n",
    "            win_count += 1\n",
    "        elif ing2_runs_prediction == target:\n",
    "            tie_count += 1\n",
    "        else:\n",
    "            lose_count += 1\n",
    "            \n",
    "    win_count_ls.append(win_count)\n",
    "    tie_count_ls.append(tie_count)\n",
    "    lose_count_ls.append(lose_count)\n",
    "    \n",
    "    win_count = 0\n",
    "    tie_count = 0\n",
    "    lose_count = 0"
   ]
  },
  {
   "cell_type": "markdown",
   "metadata": {},
   "source": [
    "# Win predictions: 2nd Innings"
   ]
  },
  {
   "cell_type": "code",
   "execution_count": 69,
   "metadata": {},
   "outputs": [],
   "source": [
    "#2nd innings values\n",
    "ing2_curr_score = 0\n",
    "ing2_curr_wickets = 0\n",
    "ing2_curr_overs = 0.0\n",
    "target = ing1_actual_score\n",
    "\n",
    "# each ball\n",
    "for i in range(len(df_ing2)):\n",
    "    \n",
    "    #2nd innings values\n",
    "    ing2_curr_score += df_ing2.total_runs[i]\n",
    "    ing2_curr_wickets += df_ing2.isOut[i]\n",
    "    ing2_curr_overs = df_ing2.ball[i]\n",
    "    \n",
    "    # 100 iterations: (ex: 43% wins, 17% tie, 40% lose)\n",
    "    for j in range(100):   \n",
    "                \n",
    "        ing2_runs_prediction = innings_2_runs(ing2_curr_score, ing2_curr_wickets, ing2_curr_overs, target)\n",
    "        \n",
    "        if ing2_runs_prediction > target:\n",
    "            win_count += 1\n",
    "        elif ing2_runs_prediction == target:\n",
    "            tie_count += 1\n",
    "        else:\n",
    "            lose_count += 1\n",
    "            \n",
    "    win_count_ls.append(win_count)\n",
    "    tie_count_ls.append(tie_count)\n",
    "    lose_count_ls.append(lose_count)\n",
    "    \n",
    "    win_count = 0\n",
    "    tie_count = 0\n",
    "    lose_count = 0"
   ]
  },
  {
   "cell_type": "code",
   "execution_count": 74,
   "metadata": {},
   "outputs": [
    {
     "data": {
      "text/plain": [
       "241"
      ]
     },
     "execution_count": 74,
     "metadata": {},
     "output_type": "execute_result"
    }
   ],
   "source": [
    "len(win_count_ls)"
   ]
  },
  {
   "cell_type": "code",
   "execution_count": 72,
   "metadata": {},
   "outputs": [
    {
     "data": {
      "image/png": "[encoded data removed]",
      "text/plain": [
       "<Figure size 1152x432 with 1 Axes>"
      ]
     },
     "metadata": {
      "needs_background": "light"
     },
     "output_type": "display_data"
    }
   ],
   "source": [
    "plt.figure(figsize = (16, 6))\n",
    "\n",
    "x1_values = [i for i in range(len(win_count_ls))]\n",
    "y1_values = win_count_ls\n",
    "\n",
    "x2_values = [i for i in range(len(tie_count_ls))]\n",
    "y2_values = tie_count_ls\n",
    "\n",
    "x3_values = [i for i in range(len(lose_count_ls))]\n",
    "y3_values = lose_count_ls\n",
    "\n",
    "for i in range(10, len(mdf), 20):\n",
    "    if i < len(mdf) - 10:\n",
    "        plt.axvspan(i, i+10, ymin = 0, ymax = 100, alpha = 0.05, color='grey')\n",
    "        \n",
    "plt.axhline(y = 75, ls = '--', alpha = 0.3, c = 'grey')\n",
    "plt.axhline(y = 50, ls = '--', alpha = 1, c = 'grey')\n",
    "#plt.axhline(y = 45, ls = '--', alpha = 0.3, c = 'grey')\n",
    "\n",
    "plt.plot(x1_values, y1_values, color = 'orange', label = t2)\n",
    "plt.plot(x2_values, y2_values, color = 'grey', label = 'Tie Value')\n",
    "plt.plot(x3_values, y3_values, color = 'blue', label = t1)\n",
    "\n",
    "plt.ylim(0, 100)\n",
    "plt.yticks([0, 25, 50, 75, 100])\n",
    "\n",
    "\n",
    "# add confidence interval\n",
    "# ci = 3\n",
    "# plt.fill_between(x1_values, np.array(y1_values) - ci, np.array(y1_values) + ci, color = 'orange', alpha = 0.2 )\n",
    "# plt.fill_between(x2_values, np.array(y2_values) - ci, np.array(y2_values) + ci, color = 'grey', alpha = 0.2 )\n",
    "# plt.fill_between(x3_values, np.array(y3_values) - ci, np.array(y3_values) + ci, color = 'blue', alpha = 0.2 )\n",
    "\n",
    "plt.title('Win Percentage Chart: ' + t1 + ' vs ' + t2, fontsize = 16)\n",
    "plt.xlabel('Ball No')\n",
    "plt.ylabel('Win %')\n",
    "plt.legend()\n",
    "plt.show()"
   ]
  },
  {
   "cell_type": "code",
   "execution_count": null,
   "metadata": {},
   "outputs": [],
   "source": []
  }
 ],
 "metadata": {
  "kernelspec": {
   "display_name": "Python 3",
   "language": "python",
   "name": "python3"
  },
  "language_info": {
   "codemirror_mode": {
    "name": "ipython",
    "version": 3
   },
   "file_extension": ".py",
   "mimetype": "text/x-python",
   "name": "python",
   "nbconvert_exporter": "python",
   "pygments_lexer": "ipython3",
   "version": "3.8.5"
  }
 },
 "nbformat": 4,
 "nbformat_minor": 4
}
